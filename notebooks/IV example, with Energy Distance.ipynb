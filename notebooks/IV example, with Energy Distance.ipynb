{
 "cells": [
  {
   "cell_type": "code",
   "execution_count": 1,
   "outputs": [
    {
     "name": "stderr",
     "output_type": "stream",
     "text": [
      "OMP: Info #276: omp_set_nested routine deprecated, please use omp_set_max_active_levels instead.\n"
     ]
    }
   ],
   "source": [
    "import sys\n",
    "import dcor\n",
    "import numpy as np\n",
    "import pandas as pd\n",
    "from scipy import special\n",
    "from sklearn.model_selection import train_test_split\n",
    "\n",
    "from dowhy import CausalModel\n",
    "from dowhy.causal_estimator import CausalEstimate\n"
   ],
   "metadata": {
    "collapsed": false,
    "pycharm": {
     "name": "#%%\n"
    }
   }
  },
  {
   "cell_type": "code",
   "execution_count": 5,
   "outputs": [],
   "source": [
    "sys.path.append(\"../\")\n",
    "from auto_causality import AutoCausality\n",
    "from auto_causality.data_utils import preprocess_dataset\n",
    "from auto_causality.scoring import Scorer"
   ],
   "metadata": {
    "collapsed": false,
    "pycharm": {
     "name": "#%%\n"
    }
   }
  },
  {
   "cell_type": "code",
   "execution_count": 6,
   "outputs": [],
   "source": [
    "# Modified example (EconML Notebooks):\n",
    "# OrthoIV and DRIV Examples.ipynb.\n",
    "def dgp(n, p, true_effect):\n",
    "    X = np.random.normal(0, 1, size=(n, p))\n",
    "    Z = np.random.binomial(1, 0.5, size=(n,))\n",
    "    nu = np.random.uniform(0, 5, size=(n,))\n",
    "    coef_Z = 0.8\n",
    "    C = np.random.binomial(\n",
    "        1, coef_Z * special.expit(0.4 * X[:, 0] + nu)\n",
    "    )  # Compliers when recomended\n",
    "    C0 = np.random.binomial(\n",
    "        1, 0.006 * np.ones(X.shape[0])\n",
    "    )  # Non-compliers when not recommended\n",
    "    T = C * Z + C0 * (1 - Z)\n",
    "    y = (\n",
    "        true_effect * T\n",
    "        + 2 * nu\n",
    "        + 5 * (X[:, 3] > 0)\n",
    "        + 0.1 * np.random.uniform(0, 1, size=(n,))\n",
    "    )\n",
    "    return y, T, Z, X\n"
   ],
   "metadata": {
    "collapsed": false,
    "pycharm": {
     "name": "#%%\n"
    }
   }
  },
  {
   "cell_type": "code",
   "execution_count": 7,
   "outputs": [],
   "source": [
    "# Needed since ac.model.estimator doesn't include additional params -\n",
    "# treatment, outcome etc. - needed from CausalEstimate instance\n",
    "def energy_scorer_patch(\n",
    "    estimate: CausalEstimate,\n",
    "    df: pd.DataFrame,\n",
    "    treatment: str,\n",
    "    outcome: str,\n",
    "    instrument: str,\n",
    "    effect_modifiers: [],\n",
    "):\n",
    "\n",
    "    df[\"dy\"] = estimate.estimator.effect(df[effect_modifiers])\n",
    "    df.loc[df[treatment] == 0, \"dy\"] = 0\n",
    "    df[\"yhat\"] = df[outcome] - df[\"dy\"]\n",
    "\n",
    "    X1 = df[df[instrument] == 1]\n",
    "    X0 = df[df[instrument] == 0]\n",
    "    select_cols = effect_modifiers + [\"yhat\"]\n",
    "\n",
    "    energy_distance_score = dcor.energy_distance(X1[select_cols], X0[select_cols])\n",
    "\n",
    "    return energy_distance_score\n"
   ],
   "metadata": {
    "collapsed": false,
    "pycharm": {
     "name": "#%%\n"
    }
   }
  },
  {
   "cell_type": "code",
   "execution_count": 8,
   "outputs": [],
   "source": [
    "TRUE_EFFECT = 10\n",
    "\n",
    "n = 1000\n",
    "p = 10\n",
    "y, T, Z, X = dgp(n, p, TRUE_EFFECT)\n",
    "\n",
    "cov = [f\"x{i}\" for i in range(X.shape[1])]\n",
    "df = pd.DataFrame(X, columns=cov)\n",
    "df[\"y\"] = y\n",
    "df[\"Tr\"] = T\n",
    "df[\"Z\"] = Z\n",
    "\n",
    "treatment = \"Tr\"\n",
    "targets = [\"y\"]\n",
    "instruments = [\"Z\"]\n",
    "data_df, features_X, features_W = preprocess_dataset(\n",
    "    df, treatment, targets, instruments\n",
    ")\n",
    "\n",
    "outcome = targets[0]\n",
    "train_df, test_df = train_test_split(data_df, test_size=0.2)\n",
    "train_df_copy, test_df_copy = train_df.copy(), test_df.copy()\n"
   ],
   "metadata": {
    "collapsed": false,
    "pycharm": {
     "name": "#%%\n"
    }
   }
  },
  {
   "cell_type": "code",
   "execution_count": null,
   "outputs": [],
   "source": [
    "ac = AutoCausality(\n",
    "    time_budget=240,\n",
    "    verbose=3,\n",
    "    components_verbose=2,\n",
    "    components_time_budget=60,\n",
    "    propensity_model=\"auto\",\n",
    ")\n",
    "\n",
    "ac.fit(train_df, treatment, outcome, features_W, features_X, instruments)"
   ],
   "metadata": {
    "collapsed": false,
    "pycharm": {
     "name": "#%%\n"
    }
   }
  },
  {
   "cell_type": "code",
   "execution_count": null,
   "outputs": [],
   "source": [
    "# return best estimator\n",
    "print(f\"Best estimator: {ac.best_estimator}\")\n",
    "# config of best estimator:\n",
    "print(f\"best config: {ac.best_config}\")\n",
    "# best score:\n",
    "print(f\"best score: {ac.best_score}\")"
   ],
   "metadata": {
    "collapsed": false,
    "pycharm": {
     "name": "#%%\n"
    }
   }
  },
  {
   "cell_type": "code",
   "execution_count": null,
   "outputs": [],
   "source": [
    "# Comparing best model searched to base IV model configuration\n",
    "model = CausalModel(\n",
    "    data=train_df,\n",
    "    treatment=\"Tr\",\n",
    "    outcome=\"y\",\n",
    "    effect_modifiers=cov,\n",
    "    common_causes=[\"random\"],\n",
    "    instruments=[\"Z\"],\n",
    ")\n",
    "identified_estimand = model.identify_effect(proceed_when_unidentifiable=True)\n",
    "estimate = model.estimate_effect(\n",
    "    identified_estimand,\n",
    "    method_name=\"iv.econml.iv.dml.DMLIV\",\n",
    "    method_params={\n",
    "        \"init_params\": {},\n",
    "        \"fit_params\": {},\n",
    "    },\n",
    "    test_significance=False,\n",
    ")"
   ],
   "metadata": {
    "collapsed": false,
    "pycharm": {
     "name": "#%%\n"
    }
   }
  },
  {
   "cell_type": "code",
   "execution_count": null,
   "outputs": [],
   "source": [
    "Xtest = test_df[cov]\n",
    "print()\n",
    "print(\"True Treatment Effect: \", TRUE_EFFECT)\n",
    "print(\n",
    "    \"(Baseline Estimator) Treatment Effect: \",\n",
    "    estimate.estimator.effect(Xtest).mean(),\n",
    ")\n",
    "print(\n",
    "    \"(AutoCausality Estimator) Treatment Effect: \",\n",
    "    ac.model.estimator.estimator.effect(Xtest).mean(),\n",
    ")\n",
    "\n",
    "print(\"Energy distance scores\")\n",
    "base_estimator_edist = Scorer.energy_distance_score(estimate, test_df)\n",
    "ac_estimator_edist = energy_scorer_patch(\n",
    "    ac.model.estimator, test_df, treatment, outcome, instruments[0], cov\n",
    ")\n",
    "print(\"(Baseline Estimator) Energy distance score: \", base_estimator_edist)\n",
    "print(\"(AutoCausality Estimator) Energy distance score: \", ac_estimator_edist)\n"
   ],
   "metadata": {
    "collapsed": false,
    "pycharm": {
     "name": "#%%\n"
    }
   }
  }
 ],
 "metadata": {
  "kernelspec": {
   "display_name": "Python 3",
   "language": "python",
   "name": "python3"
  },
  "language_info": {
   "codemirror_mode": {
    "name": "ipython",
    "version": 2
   },
   "file_extension": ".py",
   "mimetype": "text/x-python",
   "name": "python",
   "nbconvert_exporter": "python",
   "pygments_lexer": "ipython2",
   "version": "2.7.6"
  }
 },
 "nbformat": 4,
 "nbformat_minor": 0
}