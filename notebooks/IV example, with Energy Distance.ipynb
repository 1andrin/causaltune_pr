{
 "cells": [
  {
   "cell_type": "code",
   "execution_count": 1,
   "metadata": {
    "pycharm": {
     "name": "#%%\n"
    }
   },
   "outputs": [
    {
     "name": "stderr",
     "output_type": "stream",
     "text": [
      "OMP: Info #276: omp_set_nested routine deprecated, please use omp_set_max_active_levels instead.\n"
     ]
    }
   ],
   "source": [
    "import os\n",
    "import sys\n",
    "import dcor\n",
    "import pandas as pd\n",
    "from sklearn.model_selection import train_test_split\n",
    "\n",
    "from dowhy import CausalModel\n",
    "from dowhy.causal_estimator import CausalEstimate\n",
    "\n",
    "root_path = root_path = os.path.realpath('../..')\n",
    "try:\n",
    "    import auto_causality\n",
    "except ModuleNotFoundError:\n",
    "    sys.path.append(os.path.join(root_path, \"auto-causality\"))\n",
    "\n",
    "from auto_causality import AutoCausality # noqa F401\n",
    "from auto_causality.data_utils import preprocess_dataset # noqa F401\n",
    "from auto_causality.scoring import Scorer # noqa F401\n",
    "from auto_causality.datasets import iv_dgp_econml # noqa F401"
   ]
  },
  {
   "cell_type": "code",
   "execution_count": 2,
   "outputs": [],
   "source": [
    "# Needed since ac.model.estimator doesn't include additional params -\n",
    "# treatment, outcome etc. - needed from CausalEstimate instance\n",
    "def energy_scorer_patch(\n",
    "    estimate: CausalEstimate,\n",
    "    df: pd.DataFrame,\n",
    "    treatment: str,\n",
    "    outcome: str,\n",
    "    instrument: str,\n",
    "    effect_modifiers: [],\n",
    "):\n",
    "\n",
    "    df[\"dy\"] = estimate.estimator.effect(df[effect_modifiers])\n",
    "    df.loc[df[treatment] == 0, \"dy\"] = 0\n",
    "    df[\"yhat\"] = df[outcome] - df[\"dy\"]\n",
    "\n",
    "    X1 = df[df[instrument] == 1]\n",
    "    X0 = df[df[instrument] == 0]\n",
    "    select_cols = effect_modifiers + [\"yhat\"]\n",
    "\n",
    "    energy_distance_score = dcor.energy_distance(X1[select_cols], X0[select_cols])\n",
    "\n",
    "    return energy_distance_score"
   ],
   "metadata": {
    "collapsed": false,
    "pycharm": {
     "name": "#%%\n"
    }
   }
  },
  {
   "cell_type": "code",
   "execution_count": 3,
   "metadata": {
    "pycharm": {
     "name": "#%%\n"
    }
   },
   "outputs": [
    {
     "data": {
      "text/plain": "      treatment          y    Z        x1        x2        x3        x4  \\\n1253        1.0  17.599277  1.0  0.644956 -1.222788  0.559939  1.009126   \n4360        1.0  23.082254  1.0 -1.076135 -0.787102  0.438772  0.093021   \n4484        1.0  18.996712  1.0 -0.456429 -0.530051  1.271834  0.451466   \n4615        0.0   9.359161  0.0 -0.447922 -1.621076 -0.179459  0.341797   \n1707        1.0  21.251329  1.0  0.159731 -1.847981 -1.039317  0.569759   \n\n            x5        x6        x7        x8        x9       x10  random  \n1253  0.798294  1.127974  0.429798  1.568990  1.146353 -0.217534     0.0  \n4360 -1.110272 -0.297603 -1.080770 -0.308543  1.828037  0.391535     0.0  \n4484 -0.368840  0.215169  0.879576  0.860858  0.438808  1.005618     1.0  \n4615  1.424550  2.050861  0.295437  1.104863  0.177699 -0.212864     1.0  \n1707  1.899550 -0.234906  0.158793  0.182551  0.824363  1.922035     0.0  ",
      "text/html": "<div>\n<style scoped>\n    .dataframe tbody tr th:only-of-type {\n        vertical-align: middle;\n    }\n\n    .dataframe tbody tr th {\n        vertical-align: top;\n    }\n\n    .dataframe thead th {\n        text-align: right;\n    }\n</style>\n<table border=\"1\" class=\"dataframe\">\n  <thead>\n    <tr style=\"text-align: right;\">\n      <th></th>\n      <th>treatment</th>\n      <th>y</th>\n      <th>Z</th>\n      <th>x1</th>\n      <th>x2</th>\n      <th>x3</th>\n      <th>x4</th>\n      <th>x5</th>\n      <th>x6</th>\n      <th>x7</th>\n      <th>x8</th>\n      <th>x9</th>\n      <th>x10</th>\n      <th>random</th>\n    </tr>\n  </thead>\n  <tbody>\n    <tr>\n      <th>1253</th>\n      <td>1.0</td>\n      <td>17.599277</td>\n      <td>1.0</td>\n      <td>0.644956</td>\n      <td>-1.222788</td>\n      <td>0.559939</td>\n      <td>1.009126</td>\n      <td>0.798294</td>\n      <td>1.127974</td>\n      <td>0.429798</td>\n      <td>1.568990</td>\n      <td>1.146353</td>\n      <td>-0.217534</td>\n      <td>0.0</td>\n    </tr>\n    <tr>\n      <th>4360</th>\n      <td>1.0</td>\n      <td>23.082254</td>\n      <td>1.0</td>\n      <td>-1.076135</td>\n      <td>-0.787102</td>\n      <td>0.438772</td>\n      <td>0.093021</td>\n      <td>-1.110272</td>\n      <td>-0.297603</td>\n      <td>-1.080770</td>\n      <td>-0.308543</td>\n      <td>1.828037</td>\n      <td>0.391535</td>\n      <td>0.0</td>\n    </tr>\n    <tr>\n      <th>4484</th>\n      <td>1.0</td>\n      <td>18.996712</td>\n      <td>1.0</td>\n      <td>-0.456429</td>\n      <td>-0.530051</td>\n      <td>1.271834</td>\n      <td>0.451466</td>\n      <td>-0.368840</td>\n      <td>0.215169</td>\n      <td>0.879576</td>\n      <td>0.860858</td>\n      <td>0.438808</td>\n      <td>1.005618</td>\n      <td>1.0</td>\n    </tr>\n    <tr>\n      <th>4615</th>\n      <td>0.0</td>\n      <td>9.359161</td>\n      <td>0.0</td>\n      <td>-0.447922</td>\n      <td>-1.621076</td>\n      <td>-0.179459</td>\n      <td>0.341797</td>\n      <td>1.424550</td>\n      <td>2.050861</td>\n      <td>0.295437</td>\n      <td>1.104863</td>\n      <td>0.177699</td>\n      <td>-0.212864</td>\n      <td>1.0</td>\n    </tr>\n    <tr>\n      <th>1707</th>\n      <td>1.0</td>\n      <td>21.251329</td>\n      <td>1.0</td>\n      <td>0.159731</td>\n      <td>-1.847981</td>\n      <td>-1.039317</td>\n      <td>0.569759</td>\n      <td>1.899550</td>\n      <td>-0.234906</td>\n      <td>0.158793</td>\n      <td>0.182551</td>\n      <td>0.824363</td>\n      <td>1.922035</td>\n      <td>0.0</td>\n    </tr>\n  </tbody>\n</table>\n</div>"
     },
     "execution_count": 3,
     "metadata": {},
     "output_type": "execute_result"
    }
   ],
   "source": [
    "TE = 10\n",
    "data = iv_dgp_econml(true_effect=TE)\n",
    "\n",
    "treatment = data.treatment\n",
    "targets = data.outcomes\n",
    "instruments = data.instruments\n",
    "data_df, features_X, features_W = preprocess_dataset(\n",
    "    data.data, treatment, targets, instruments\n",
    ")\n",
    "\n",
    "outcome = targets[0]\n",
    "train_df, test_df = train_test_split(data_df, test_size=0.2)\n",
    "train_df.head()"
   ]
  },
  {
   "cell_type": "code",
   "execution_count": 4,
   "metadata": {
    "pycharm": {
     "name": "#%%\n"
    }
   },
   "outputs": [
    {
     "name": "stderr",
     "output_type": "stream",
     "text": [
      "Component model time budget is 10. Recommended value is at least 300 for smallish datasets, 1800 for datasets with> 100K rows\n",
      "\u001B[32m[I 2022-07-22 09:27:57,480]\u001B[0m A new study created in memory with name: optuna\u001B[0m\n",
      "[flaml.tune.tune: 07-22 09:27:57] {456} INFO - trial 1 config: {'estimator': {'estimator_name': 'iv.econml.iv.dml.OrthoIV', 'mc_agg': 'mean'}}\n"
     ]
    },
    {
     "name": "stdout",
     "output_type": "stream",
     "text": [
      "\n",
      "\n",
      "Components\n",
      "{'task': 'regression', 'verbose': 2, 'pred_time_limit': 1e-05, 'n_jobs': -1, 'time_budget': 10}\n",
      "Initial configs: [{'estimator': {'estimator_name': 'iv.econml.iv.dml.OrthoIV', 'mc_agg': 'mean'}}, {'estimator': {'estimator_name': 'iv.econml.iv.dml.DMLIV', 'mc_agg': 'mean'}}]\n",
      "Initial config =  [{'estimator': {'estimator_name': 'iv.econml.iv.dml.OrthoIV', 'mc_agg': 'mean'}}, {'estimator': {'estimator_name': 'iv.econml.iv.dml.DMLIV', 'mc_agg': 'mean'}}]\n"
     ]
    },
    {
     "name": "stderr",
     "output_type": "stream",
     "text": [
      "OMP: Info #276: omp_set_nested routine deprecated, please use omp_set_max_active_levels instead.\n",
      "[flaml.tune.tune: 07-22 09:28:49] {110} INFO - result: {'energy_distance': 0.03263839551711012, 'estimator_name': 'iv.econml.iv.dml.OrthoIV', 'scores': {'train': {'energy_distance': 0.007269128509856948}, 'validation': {'energy_distance': 0.03263839551711012}}, 'config': {'estimator': {'estimator_name': 'iv.econml.iv.dml.OrthoIV', 'mc_agg': 'mean'}}, 'training_iteration': 0, 'config/estimator': {'estimator_name': 'iv.econml.iv.dml.OrthoIV', 'mc_agg': 'mean'}, 'experiment_tag': 'exp', 'time_total_s': 51.90871500968933}\n",
      "[flaml.tune.tune: 07-22 09:28:49] {456} INFO - trial 2 config: {'estimator': {'estimator_name': 'iv.econml.iv.dml.DMLIV', 'mc_agg': 'mean'}}\n",
      "OMP: Info #276: omp_set_nested routine deprecated, please use omp_set_max_active_levels instead.\n",
      "[flaml.automl: 07-22 09:29:24] {2322} WARNING - Time taken to find the best model is 74% of the provided time budget and not all estimators' hyperparameter search converged. Consider increasing the time budget.\n",
      "'normalize' was deprecated in version 1.0 and will be removed in 1.2. Please leave the normalize parameter to its default value to silence this warning. The default behavior of this estimator is to not do any normalization. If normalization is needed please use sklearn.preprocessing.StandardScaler instead.\n",
      "[flaml.automl: 07-22 09:29:34] {2322} WARNING - Time taken to find the best model is 76% of the provided time budget and not all estimators' hyperparameter search converged. Consider increasing the time budget.\n",
      "[flaml.tune.tune: 07-22 09:29:44] {110} INFO - result: {'energy_distance': 0.04335763305460727, 'estimator_name': 'iv.econml.iv.dml.DMLIV', 'scores': {'train': {'energy_distance': 0.02567529386495604}, 'validation': {'energy_distance': 0.04335763305460727}}, 'config': {'estimator': {'estimator_name': 'iv.econml.iv.dml.DMLIV', 'mc_agg': 'mean'}}, 'training_iteration': 0, 'config/estimator': {'estimator_name': 'iv.econml.iv.dml.DMLIV', 'mc_agg': 'mean'}, 'experiment_tag': 'exp', 'time_total_s': 55.48923897743225}\n",
      "[flaml.tune.tune: 07-22 09:29:44] {456} INFO - trial 3 config: {'estimator': {'mc_agg': 'median', 'estimator_name': 'iv.econml.iv.dml.OrthoIV'}}\n",
      "[flaml.tune.tune: 07-22 09:30:25] {110} INFO - result: {'energy_distance': 0.03224861060580331, 'estimator_name': 'iv.econml.iv.dml.OrthoIV', 'scores': {'train': {'energy_distance': 0.0072784857957017834}, 'validation': {'energy_distance': 0.03224861060580331}}, 'config': {'estimator': {'mc_agg': 'median', 'estimator_name': 'iv.econml.iv.dml.OrthoIV'}}, 'training_iteration': 0, 'config/estimator': {'mc_agg': 'median', 'estimator_name': 'iv.econml.iv.dml.OrthoIV'}, 'experiment_tag': 'exp', 'time_total_s': 40.78307914733887}\n",
      "[flaml.tune.tune: 07-22 09:30:25] {456} INFO - trial 4 config: {'estimator': {'estimator_name': 'iv.econml.iv.dml.DMLIV', 'mc_agg': 'median'}}\n",
      "'normalize' was deprecated in version 1.0 and will be removed in 1.2. Please leave the normalize parameter to its default value to silence this warning. The default behavior of this estimator is to not do any normalization. If normalization is needed please use sklearn.preprocessing.StandardScaler instead.\n",
      "'normalize' was deprecated in version 1.0 and will be removed in 1.2. Please leave the normalize parameter to its default value to silence this warning. The default behavior of this estimator is to not do any normalization. If normalization is needed please use sklearn.preprocessing.StandardScaler instead.\n",
      "[flaml.automl: 07-22 09:31:06] {2322} WARNING - Time taken to find the best model is 86% of the provided time budget and not all estimators' hyperparameter search converged. Consider increasing the time budget.\n",
      "[flaml.tune.tune: 07-22 09:31:06] {110} INFO - result: {'energy_distance': 0.04430088138078947, 'estimator': <dowhy.causal_estimator.CausalEstimate object at 0x13a601a30>, 'estimator_name': 'iv.econml.iv.dml.DMLIV', 'scores': {'train': {'energy_distance': 0.02496950465958836}, 'validation': {'energy_distance': 0.04430088138078947}}, 'config': {'estimator': {'estimator_name': 'iv.econml.iv.dml.DMLIV', 'mc_agg': 'median'}}, 'training_iteration': 0, 'config/estimator': {'estimator_name': 'iv.econml.iv.dml.DMLIV', 'mc_agg': 'median'}, 'experiment_tag': 'exp', 'time_total_s': 40.57836890220642}\n",
      "[flaml.tune.tune: 07-22 09:31:06] {473} WARNING - fail to sample a trial for 100 times in a row, stopping.\n"
     ]
    }
   ],
   "source": [
    "ac = AutoCausality(\n",
    "    time_budget=250,\n",
    "    estimator_list=[\"OrthoIV\", \"DMLIV\"],\n",
    "    verbose=3,\n",
    "    components_verbose=2,\n",
    "    components_time_budget=10,\n",
    "    propensity_model=\"auto\",\n",
    ")\n",
    "\n",
    "ac.fit(train_df, treatment, outcome, features_W, features_X, instruments)"
   ]
  },
  {
   "cell_type": "code",
   "execution_count": 5,
   "metadata": {
    "pycharm": {
     "name": "#%%\n"
    }
   },
   "outputs": [
    {
     "name": "stdout",
     "output_type": "stream",
     "text": [
      "Best estimator: iv.econml.iv.dml.OrthoIV\n",
      "best config: {'estimator': {'mc_agg': 'median', 'estimator_name': 'iv.econml.iv.dml.OrthoIV'}}\n",
      "best score: 0.03224861060580331\n"
     ]
    }
   ],
   "source": [
    "# return best estimator\n",
    "print(f\"Best estimator: {ac.best_estimator}\")\n",
    "# config of best estimator:\n",
    "print(f\"best config: {ac.best_config}\")\n",
    "# best score:\n",
    "print(f\"best score: {ac.best_score}\")"
   ]
  },
  {
   "cell_type": "code",
   "execution_count": 7,
   "metadata": {
    "pycharm": {
     "name": "#%%\n"
    }
   },
   "outputs": [
    {
     "name": "stderr",
     "output_type": "stream",
     "text": [
      "'normalize' was deprecated in version 1.0 and will be removed in 1.2. Please leave the normalize parameter to its default value to silence this warning. The default behavior of this estimator is to not do any normalization. If normalization is needed please use sklearn.preprocessing.StandardScaler instead.\n",
      "'normalize' was deprecated in version 1.0 and will be removed in 1.2. Please leave the normalize parameter to its default value to silence this warning. The default behavior of this estimator is to not do any normalization. If normalization is needed please use sklearn.preprocessing.StandardScaler instead.\n",
      "'normalize' was deprecated in version 1.0 and will be removed in 1.2. Please leave the normalize parameter to its default value to silence this warning. The default behavior of this estimator is to not do any normalization. If normalization is needed please use sklearn.preprocessing.StandardScaler instead.\n",
      "'normalize' was deprecated in version 1.0 and will be removed in 1.2. Please leave the normalize parameter to its default value to silence this warning. The default behavior of this estimator is to not do any normalization. If normalization is needed please use sklearn.preprocessing.StandardScaler instead.\n",
      "'normalize' was deprecated in version 1.0 and will be removed in 1.2. Please leave the normalize parameter to its default value to silence this warning. The default behavior of this estimator is to not do any normalization. If normalization is needed please use sklearn.preprocessing.StandardScaler instead.\n",
      "'normalize' was deprecated in version 1.0 and will be removed in 1.2. Please leave the normalize parameter to its default value to silence this warning. The default behavior of this estimator is to not do any normalization. If normalization is needed please use sklearn.preprocessing.StandardScaler instead.\n"
     ]
    }
   ],
   "source": [
    " # Comparing best model searched to base IV model configuration\n",
    "model = CausalModel(\n",
    "    data=train_df,\n",
    "    treatment=treatment,\n",
    "    outcome=outcome[0],\n",
    "    effect_modifiers=features_X,\n",
    "    common_causes=[\"random\"],\n",
    "    instruments=instruments,\n",
    ")\n",
    "identified_estimand = model.identify_effect(proceed_when_unidentifiable=True)\n",
    "estimate = model.estimate_effect(\n",
    "    identified_estimand,\n",
    "    method_name=\"iv.econml.iv.dml.DMLIV\",\n",
    "    method_params={\n",
    "        \"init_params\": {},\n",
    "        \"fit_params\": {},\n",
    "    },\n",
    "    test_significance=False,\n",
    ")"
   ]
  },
  {
   "cell_type": "code",
   "execution_count": 8,
   "outputs": [
    {
     "name": "stdout",
     "output_type": "stream",
     "text": [
      "True Effect  =  10\n",
      "(Baseline Estimator) Treatment Effect:  10.413059081893945\n",
      "(AutoCausality Estimator) Treatment Effect:  9.898166333225497\n",
      "\n"
     ]
    }
   ],
   "source": [
    "Xtest = test_df[features_X]\n",
    "print(\"True Effect  = \", TE)\n",
    "print(\n",
    "    \"(Baseline Estimator) Treatment Effect: \",\n",
    "    estimate.estimator.effect(Xtest).mean(),\n",
    ")\n",
    "print(\n",
    "    \"(AutoCausality Estimator) Treatment Effect: \",\n",
    "    ac.model.estimator.estimator.effect(Xtest).mean(),\n",
    ")\n",
    "print()"
   ],
   "metadata": {
    "collapsed": false,
    "pycharm": {
     "name": "#%%\n"
    }
   }
  },
  {
   "cell_type": "code",
   "execution_count": 10,
   "outputs": [],
   "source": [
    "# Compute Energy distance for True & No Effect\n",
    "def energy_scorer_patch_ne(\n",
    "    df: pd.DataFrame,\n",
    "    treatment: str,\n",
    "    outcome: str,\n",
    "    instrument: str,\n",
    "    effect_modifiers: [],\n",
    "    true_effect = 10,\n",
    "    ne = True\n",
    "):\n",
    "\n",
    "    df[\"dy\"] = [0] * len(df) if ne else [true_effect] * len(df)\n",
    "    df.loc[df[treatment] == 0, \"dy\"] = 0\n",
    "    df[\"yhat\"] = df[outcome] - df[\"dy\"]\n",
    "\n",
    "    X1 = df[df[instrument] == 1]\n",
    "    X0 = df[df[instrument] == 0]\n",
    "    select_cols = effect_modifiers + [\"yhat\"]\n",
    "\n",
    "    energy_distance_score = dcor.energy_distance(X1[select_cols], X0[select_cols])\n",
    "\n",
    "    return energy_distance_score\n"
   ],
   "metadata": {
    "collapsed": false,
    "pycharm": {
     "name": "#%%\n"
    }
   }
  },
  {
   "cell_type": "code",
   "execution_count": 12,
   "outputs": [
    {
     "name": "stdout",
     "output_type": "stream",
     "text": [
      "Energy distance scores\n",
      "\n",
      "(Baseline Estimator) Energy distance score:  0.05185463810942803\n",
      "(AutoCausality Estimator) Energy distance score:  0.01900190141004998\n",
      "\n",
      "(No Effect) Energy distance score:  4.285133271788457\n",
      "(True Effect) Energy distance score:  0.02276366579787137\n"
     ]
    }
   ],
   "source": [
    "print(\"Energy distance scores\")\n",
    "base_estimator_edist = Scorer.energy_distance_score(estimate, test_df)\n",
    "ac_estimator_edist = energy_scorer_patch(\n",
    "    ac.model.estimator, test_df, treatment, outcome, instruments[0], features_X\n",
    ")\n",
    "ac_estimator_edist_ne = energy_scorer_patch_ne(\n",
    "    test_df, treatment, outcome, instruments[0], features_X,\n",
    ")\n",
    "ac_estimator_edist_te = energy_scorer_patch_ne(\n",
    "    test_df, treatment, outcome, instruments[0], features_X, true_effect=10, ne=False\n",
    ")\n",
    "print(\"\\n(Baseline Estimator) Energy distance score: \", base_estimator_edist)\n",
    "print(\"(AutoCausality Estimator) Energy distance score: \", ac_estimator_edist)\n",
    "print(\"\\n(No Effect) Energy distance score: \", ac_estimator_edist_ne)\n",
    "print(\"(True Effect) Energy distance score: \", ac_estimator_edist_te)"
   ],
   "metadata": {
    "collapsed": false,
    "pycharm": {
     "name": "#%%\n"
    }
   }
  },
  {
   "cell_type": "code",
   "execution_count": 22,
   "outputs": [
    {
     "name": "stdout",
     "output_type": "stream",
     "text": [
      "y iv.econml.iv.dml.OrthoIV\n"
     ]
    },
    {
     "data": {
      "text/plain": "<Figure size 576x396 with 2 Axes>",
      "image/png": "[encoded data removed]"
     },
     "metadata": {
      "needs_background": "light"
     },
     "output_type": "display_data"
    }
   ],
   "source": [
    "# Visualize Feature importance\n",
    "import matplotlib.pyplot as plt\n",
    "import shap\n",
    "\n",
    "# and now let's visualize feature importances!\n",
    "from auto_causality.shap import shap_values\n",
    "\n",
    "# Shapley values calculation can be slow so let's subsample\n",
    "this_df = test_df.sample(100)\n",
    "\n",
    "scr = ac.scores[ac.best_estimator]\n",
    "print(outcome, ac.best_estimator)\n",
    "est = ac.model\n",
    "shaps = shap_values(est, this_df)\n",
    "\n",
    "plt.title(outcome + '_' + ac.best_estimator.split('.')[-1])\n",
    "shap.summary_plot(shaps, this_df[est.estimator._effect_modifier_names])\n",
    "plt.show()\n"
   ],
   "metadata": {
    "collapsed": false,
    "pycharm": {
     "name": "#%%\n"
    }
   }
  },
  {
   "cell_type": "code",
   "execution_count": null,
   "outputs": [],
   "source": [],
   "metadata": {
    "collapsed": false,
    "pycharm": {
     "name": "#%%\n"
    }
   }
  }
 ],
 "metadata": {
  "kernelspec": {
   "display_name": "Python 3 (ipykernel)",
   "language": "python",
   "name": "python3"
  },
  "language_info": {
   "codemirror_mode": {
    "name": "ipython",
    "version": 3
   },
   "file_extension": ".py",
   "mimetype": "text/x-python",
   "name": "python",
   "nbconvert_exporter": "python",
   "pygments_lexer": "ipython3",
   "version": "3.8.9"
  }
 },
 "nbformat": 4,
 "nbformat_minor": 1
}