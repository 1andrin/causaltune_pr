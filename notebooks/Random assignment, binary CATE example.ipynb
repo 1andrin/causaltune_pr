{
 "cells": [
  {
   "attachments": {},
   "cell_type": "markdown",
   "id": "a34f30c6",
   "metadata": {
    "pycharm": {
     "name": "#%% md\n"
    }
   },
   "source": [
    "## Random assignment, binary CATE example\n",
    "\n",
    "This is a fully worked-out notebook showing how you would apply causaltune to a dataset."
   ]
  },
  {
   "cell_type": "code",
   "execution_count": 1,
   "id": "b6eaac69",
   "metadata": {
    "pycharm": {
     "name": "#%%\n"
    }
   },
   "outputs": [],
   "source": [
    "%load_ext autoreload\n",
    "%autoreload 2\n",
    "import os, sys\n",
    "import warnings\n",
    "warnings.filterwarnings('ignore') # suppress sklearn deprecation warnings for now..\n",
    "\n",
    "import pandas as pd\n",
    "import numpy as np\n",
    "from sklearn.model_selection import train_test_split\n",
    "\n",
    "# the below checks for whether we run dowhy, causaltune, and FLAML from source\n",
    "root_path = root_path = os.path.realpath('../..')\n",
    "try:\n",
    "    import auto_causality\n",
    "except ModuleNotFoundError:\n",
    "    sys.path.append(os.path.join(root_path, \"auto-causality\"))\n",
    "\n",
    "try:\n",
    "    import dowhy\n",
    "except ModuleNotFoundError:\n",
    "    sys.path.append(os.path.join(root_path, \"dowhy\"))\n",
    "\n",
    "try:\n",
    "    import flaml\n",
    "except ModuleNotFoundError:\n",
    "    sys.path.append(os.path.join(root_path, \"FLAML\"))\n"
   ]
  },
  {
   "cell_type": "code",
   "execution_count": 2,
   "id": "53241021",
   "metadata": {
    "pycharm": {
     "name": "#%%\n"
    }
   },
   "outputs": [
    {
     "data": {
      "text/html": [
       "<style>.container { width:100% !important; }</style>"
      ],
      "text/plain": [
       "<IPython.core.display.HTML object>"
      ]
     },
     "metadata": {},
     "output_type": "display_data"
    }
   ],
   "source": [
    "# this makes the notebook expand to full width of the browser window\n",
    "from IPython.core.display import display, HTML\n",
    "display(HTML(\"<style>.container { width:100% !important; }</style>\"))"
   ]
  },
  {
   "cell_type": "code",
   "execution_count": 3,
   "id": "5ed9b5f7",
   "metadata": {
    "pycharm": {
     "name": "#%%\n"
    }
   },
   "outputs": [
    {
     "data": {
      "application/javascript": "\n// turn off scrollable windows for large output\nIPython.OutputArea.prototype._should_scroll = function(lines) {\n    return false;\n}\n",
      "text/plain": [
       "<IPython.core.display.Javascript object>"
      ]
     },
     "metadata": {},
     "output_type": "display_data"
    }
   ],
   "source": [
    "%%javascript\n",
    "\n",
    "// turn off scrollable windows for large output\n",
    "IPython.OutputArea.prototype._should_scroll = function(lines) {\n",
    "    return false;\n",
    "}"
   ]
  },
  {
   "cell_type": "code",
   "execution_count": 4,
   "id": "da208ce6",
   "metadata": {
    "pycharm": {
     "name": "#%%\n"
    }
   },
   "outputs": [],
   "source": [
    "from auto_causality import AutoCausality\n",
    "from auto_causality.datasets import synth_ihdp"
   ]
  },
  {
   "attachments": {},
   "cell_type": "markdown",
   "id": "b637c532",
   "metadata": {
    "pycharm": {
     "name": "#%% md\n"
    }
   },
   "source": [
    "### Model fitting & scoring\n",
    "Here we fit a (selection of) model(s) to the data and score them with the energy distance metric on held-out data.\n",
    "\n",
    "We import an example dataset and pre-process it. The pre-processing fills in the NaNs and one-hot-encodes all categorical and int variables.\n",
    "\n",
    "If you don't want an int variable to be one-hot-encoded, please cast it to float before preprocessing."
   ]
  },
  {
   "cell_type": "code",
   "execution_count": 121,
   "id": "96719b4d",
   "metadata": {},
   "outputs": [],
   "source": [
    "# load toy dataset and apply standard pre-processing\n",
    "cd = synth_ihdp()\n",
    "cd.preprocess_dataset()"
   ]
  },
  {
   "attachments": {},
   "cell_type": "markdown",
   "id": "a12303d6",
   "metadata": {},
   "source": [
    "Inspecting the dataset below, we can see that the causal inference problem is defined by a binary `treatment`, a continuous outcome `y_factual`, and a range of covariates `x_{i}`. The `random` column is added to bypass a DoWhy bug."
   ]
  },
  {
   "cell_type": "code",
   "execution_count": 114,
   "id": "49e4721b",
   "metadata": {
    "pycharm": {
     "name": "#%%\n"
    }
   },
   "outputs": [
    {
     "data": {
      "text/html": [
       "<div>\n",
       "<style scoped>\n",
       "    .dataframe tbody tr th:only-of-type {\n",
       "        vertical-align: middle;\n",
       "    }\n",
       "\n",
       "    .dataframe tbody tr th {\n",
       "        vertical-align: top;\n",
       "    }\n",
       "\n",
       "    .dataframe thead th {\n",
       "        text-align: right;\n",
       "    }\n",
       "</style>\n",
       "<table border=\"1\" class=\"dataframe\">\n",
       "  <thead>\n",
       "    <tr style=\"text-align: right;\">\n",
       "      <th></th>\n",
       "      <th>treatment</th>\n",
       "      <th>y_factual</th>\n",
       "      <th>random</th>\n",
       "      <th>x1</th>\n",
       "      <th>x2</th>\n",
       "      <th>x3</th>\n",
       "      <th>x4</th>\n",
       "      <th>x5</th>\n",
       "      <th>x6</th>\n",
       "      <th>x7</th>\n",
       "      <th>...</th>\n",
       "      <th>x16</th>\n",
       "      <th>x17</th>\n",
       "      <th>x18</th>\n",
       "      <th>x19</th>\n",
       "      <th>x20</th>\n",
       "      <th>x21</th>\n",
       "      <th>x22</th>\n",
       "      <th>x23</th>\n",
       "      <th>x24</th>\n",
       "      <th>x25</th>\n",
       "    </tr>\n",
       "  </thead>\n",
       "  <tbody>\n",
       "    <tr>\n",
       "      <th>0</th>\n",
       "      <td>1</td>\n",
       "      <td>5.599916</td>\n",
       "      <td>0.0</td>\n",
       "      <td>-0.528603</td>\n",
       "      <td>-0.343455</td>\n",
       "      <td>1.128554</td>\n",
       "      <td>0.161703</td>\n",
       "      <td>-0.316603</td>\n",
       "      <td>1.295216</td>\n",
       "      <td>1.0</td>\n",
       "      <td>...</td>\n",
       "      <td>1.0</td>\n",
       "      <td>1.0</td>\n",
       "      <td>1.0</td>\n",
       "      <td>1.0</td>\n",
       "      <td>0.0</td>\n",
       "      <td>0.0</td>\n",
       "      <td>0.0</td>\n",
       "      <td>0.0</td>\n",
       "      <td>0.0</td>\n",
       "      <td>0.0</td>\n",
       "    </tr>\n",
       "    <tr>\n",
       "      <th>1</th>\n",
       "      <td>1</td>\n",
       "      <td>6.875856</td>\n",
       "      <td>0.0</td>\n",
       "      <td>-1.736945</td>\n",
       "      <td>-1.802002</td>\n",
       "      <td>0.383828</td>\n",
       "      <td>2.244319</td>\n",
       "      <td>-0.629189</td>\n",
       "      <td>1.295216</td>\n",
       "      <td>0.0</td>\n",
       "      <td>...</td>\n",
       "      <td>1.0</td>\n",
       "      <td>1.0</td>\n",
       "      <td>1.0</td>\n",
       "      <td>1.0</td>\n",
       "      <td>0.0</td>\n",
       "      <td>0.0</td>\n",
       "      <td>0.0</td>\n",
       "      <td>0.0</td>\n",
       "      <td>0.0</td>\n",
       "      <td>0.0</td>\n",
       "    </tr>\n",
       "    <tr>\n",
       "      <th>2</th>\n",
       "      <td>2</td>\n",
       "      <td>2.996273</td>\n",
       "      <td>1.0</td>\n",
       "      <td>-0.807451</td>\n",
       "      <td>-0.202946</td>\n",
       "      <td>-0.360898</td>\n",
       "      <td>-0.879606</td>\n",
       "      <td>0.808706</td>\n",
       "      <td>-0.526556</td>\n",
       "      <td>0.0</td>\n",
       "      <td>...</td>\n",
       "      <td>1.0</td>\n",
       "      <td>0.0</td>\n",
       "      <td>1.0</td>\n",
       "      <td>1.0</td>\n",
       "      <td>0.0</td>\n",
       "      <td>0.0</td>\n",
       "      <td>0.0</td>\n",
       "      <td>0.0</td>\n",
       "      <td>0.0</td>\n",
       "      <td>0.0</td>\n",
       "    </tr>\n",
       "    <tr>\n",
       "      <th>3</th>\n",
       "      <td>0</td>\n",
       "      <td>1.366206</td>\n",
       "      <td>0.0</td>\n",
       "      <td>0.390083</td>\n",
       "      <td>0.596582</td>\n",
       "      <td>-1.850350</td>\n",
       "      <td>-0.879606</td>\n",
       "      <td>-0.004017</td>\n",
       "      <td>-0.857787</td>\n",
       "      <td>0.0</td>\n",
       "      <td>...</td>\n",
       "      <td>1.0</td>\n",
       "      <td>0.0</td>\n",
       "      <td>1.0</td>\n",
       "      <td>1.0</td>\n",
       "      <td>0.0</td>\n",
       "      <td>0.0</td>\n",
       "      <td>0.0</td>\n",
       "      <td>0.0</td>\n",
       "      <td>0.0</td>\n",
       "      <td>0.0</td>\n",
       "    </tr>\n",
       "    <tr>\n",
       "      <th>4</th>\n",
       "      <td>0</td>\n",
       "      <td>1.963538</td>\n",
       "      <td>1.0</td>\n",
       "      <td>-1.045228</td>\n",
       "      <td>-0.602710</td>\n",
       "      <td>0.011465</td>\n",
       "      <td>0.161703</td>\n",
       "      <td>0.683672</td>\n",
       "      <td>-0.360940</td>\n",
       "      <td>1.0</td>\n",
       "      <td>...</td>\n",
       "      <td>1.0</td>\n",
       "      <td>1.0</td>\n",
       "      <td>1.0</td>\n",
       "      <td>1.0</td>\n",
       "      <td>0.0</td>\n",
       "      <td>0.0</td>\n",
       "      <td>0.0</td>\n",
       "      <td>0.0</td>\n",
       "      <td>0.0</td>\n",
       "      <td>0.0</td>\n",
       "    </tr>\n",
       "  </tbody>\n",
       "</table>\n",
       "<p>5 rows × 28 columns</p>\n",
       "</div>"
      ],
      "text/plain": [
       "   treatment  y_factual  random        x1        x2        x3        x4  \\\n",
       "0          1   5.599916     0.0 -0.528603 -0.343455  1.128554  0.161703   \n",
       "1          1   6.875856     0.0 -1.736945 -1.802002  0.383828  2.244319   \n",
       "2          2   2.996273     1.0 -0.807451 -0.202946 -0.360898 -0.879606   \n",
       "3          0   1.366206     0.0  0.390083  0.596582 -1.850350 -0.879606   \n",
       "4          0   1.963538     1.0 -1.045228 -0.602710  0.011465  0.161703   \n",
       "\n",
       "         x5        x6   x7  ...  x16  x17  x18  x19  x20  x21  x22  x23  x24  \\\n",
       "0 -0.316603  1.295216  1.0  ...  1.0  1.0  1.0  1.0  0.0  0.0  0.0  0.0  0.0   \n",
       "1 -0.629189  1.295216  0.0  ...  1.0  1.0  1.0  1.0  0.0  0.0  0.0  0.0  0.0   \n",
       "2  0.808706 -0.526556  0.0  ...  1.0  0.0  1.0  1.0  0.0  0.0  0.0  0.0  0.0   \n",
       "3 -0.004017 -0.857787  0.0  ...  1.0  0.0  1.0  1.0  0.0  0.0  0.0  0.0  0.0   \n",
       "4  0.683672 -0.360940  1.0  ...  1.0  1.0  1.0  1.0  0.0  0.0  0.0  0.0  0.0   \n",
       "\n",
       "   x25  \n",
       "0  0.0  \n",
       "1  0.0  \n",
       "2  0.0  \n",
       "3  0.0  \n",
       "4  0.0  \n",
       "\n",
       "[5 rows x 28 columns]"
      ]
     },
     "metadata": {},
     "output_type": "display_data"
    }
   ],
   "source": [
    "# inspect the preprocessed dataset\n",
    "display(cd.data.head())"
   ]
  },
  {
   "attachments": {},
   "cell_type": "markdown",
   "id": "541e8ec6",
   "metadata": {
    "pycharm": {
     "name": "#%% md\n"
    }
   },
   "source": [
    "Fitting the model is as simple as calling CausalTune.fit(), with the only required parameter apart from the data being the amount of time you want to give the optimizer, either for the whole run (`time_budget`) or per FLAML component model (`components_time_budget`), or both.\n",
    "\n",
    "If you want to use specific estimators, comment in the `estimator_list` below to include any estimators whose full name contains any of the elements of `estimator_list`.\n",
    "\n",
    "The other allowed values are `all` and `auto`, the default is `auto`.\n"
   ]
  },
  {
   "cell_type": "code",
   "execution_count": 128,
   "id": "fd4b291e",
   "metadata": {},
   "outputs": [],
   "source": [
    "# training configs\n",
    "\n",
    "# choose estimators of interest\n",
    "estimator_list =[\n",
    "\n",
    "            # \"Dummy\",\n",
    "            # \"SparseLinearDML\",\n",
    "            # \"ForestDRLearner\",\n",
    "            # \"TransformedOutcome\",\n",
    "            # \"CausalForestDML\",\n",
    "            # \".LinearDML\",\n",
    "            # \"DomainAdaptationLearner\",\n",
    "            \"SLearner\",\n",
    "            \"XLearner\",\n",
    "            # \"TLearner\",\n",
    "            # \"Ortho\"\n",
    "    ]\n",
    "\n",
    "# set evaluation metric\n",
    "metric = \"energy_distance\"\n",
    "\n",
    "# it's best to specify either time_budget or components_time_budget, \n",
    "# and let the other one be inferred; time in seconds\n",
    "time_budget = None\n",
    "components_time_budget = 10\n",
    "\n",
    "# specify training set size\n",
    "train_size = 0.7\n"
   ]
  },
  {
   "cell_type": "code",
   "execution_count": 129,
   "metadata": {
    "collapsed": false,
    "pycharm": {
     "name": "#%%\n"
    }
   },
   "outputs": [
    {
     "name": "stdout",
     "output_type": "stream",
     "text": [
      "Fitting a Propensity-Weighted scoring estimator to be used in scoring tasks\n",
      "Initial configs: [{'estimator': {'estimator_name': 'backdoor.econml.metalearners.SLearner'}}, {'estimator': {'estimator_name': 'backdoor.econml.metalearners.XLearner'}}]\n",
      "[flaml.tune.tune: 05-18 14:07:59] {528} WARNING - Using CFO for search. To use BlendSearch, run: pip install flaml[blendsearch]\n",
      "[flaml.tune.tune: 05-18 14:07:59] {811} INFO - trial 1 config: {'estimator': {'estimator_name': 'backdoor.econml.metalearners.SLearner'}}\n",
      "[flaml.tune.tune: 05-18 14:08:10] {215} INFO - result: {'energy_distance': 0.22523746415348445, 'estimator_name': 'backdoor.econml.metalearners.SLearner', 'scores': {'train': {'erupt': 6.38604642158282, 'norm_erupt': 2.702394927431167, 'qini': 29.667922045247554, 'auc': 0.5479833002241963, 'values':      treatment  y_factual         p  policy  norm_policy   weights\n",
      "0            0   2.910563  0.189655    True         True  0.000000\n",
      "1            1   6.295170  0.189655    True        False  5.295489\n",
      "2            0   5.679426  0.189655    True        False  0.000000\n",
      "3            0   3.584036  0.189655    True         True  0.000000\n",
      "4            0   1.105804  0.189655    True         True  0.000000\n",
      "..         ...        ...       ...     ...          ...       ...\n",
      "517          0   1.930987  0.189655    True         True  0.000000\n",
      "518          0  -0.236583  0.189655    True         True  0.000000\n",
      "519          1   7.690024  0.189655    True        False  5.295489\n",
      "520          0   3.533512  0.189655    True         True  0.000000\n",
      "521          0   2.475987  0.189655    True        False  0.000000\n",
      "\n",
      "[522 rows x 6 columns], 'ate': 4.023692816319798, 'ate_std': 1.0356366103259906, 'energy_distance': 0.11642179515862949}, 'validation': {'erupt': 6.514910543728115, 'norm_erupt': 2.6802091980529354, 'qini': -6.558852146843894, 'auc': 0.5365064993272884, 'values':      treatment  y_factual         p  policy  norm_policy   weights\n",
      "0            0   0.371460  0.189655    True         True  0.000000\n",
      "1            1   6.554958  0.189655    True        False  5.373476\n",
      "2            0   4.109239  0.189655    True        False  0.000000\n",
      "3            0   1.770975  0.189655    True         True  0.000000\n",
      "4            0   1.884966  0.189655    True         True  0.000000\n",
      "..         ...        ...       ...     ...          ...       ...\n",
      "220          0   0.751634  0.189655    True         True  0.000000\n",
      "221          0   2.467868  0.189655    True         True  0.000000\n",
      "222          1   9.314615  0.189655    True        False  5.373476\n",
      "223          0   1.938568  0.189655    True         True  0.000000\n",
      "224          0   1.522918  0.189655    True         True  0.000000\n",
      "\n",
      "[225 rows x 6 columns], 'ate': 3.897466288642854, 'ate_std': 1.1282415459900015, 'energy_distance': 0.22523746415348445}}, 'config': {'estimator': {'estimator_name': 'backdoor.econml.metalearners.SLearner'}}, 'training_iteration': 0, 'config/estimator': {'estimator_name': 'backdoor.econml.metalearners.SLearner'}, 'experiment_tag': 'exp', 'time_total_s': 10.267814636230469}\n",
      "[flaml.tune.tune: 05-18 14:08:10] {811} INFO - trial 2 config: {'estimator': {'estimator_name': 'backdoor.econml.metalearners.XLearner'}}\n",
      "[flaml.tune.tune: 05-18 14:08:50] {215} INFO - result: {'energy_distance': 0.24888446020854982, 'estimator_name': 'backdoor.econml.metalearners.XLearner', 'scores': {'train': {'erupt': 6.414450580511821, 'norm_erupt': 2.704574837924687, 'qini': 38.07246759444186, 'auc': 0.564920498241854, 'values':      treatment  y_factual         p  policy  norm_policy   weights\n",
      "0            0   2.910563  0.189655    True         True  0.000000\n",
      "1            1   6.295170  0.189655    True        False  5.272727\n",
      "2            0   5.679426  0.189655    True        False  0.000000\n",
      "3            0   3.584036  0.189655    True         True  0.000000\n",
      "4            0   1.105804  0.189655    True         True  0.000000\n",
      "..         ...        ...       ...     ...          ...       ...\n",
      "517          0   1.930987  0.189655    True        False  0.000000\n",
      "518          0  -0.236583  0.189655    True         True  0.000000\n",
      "519          1   7.690024  0.189655    True        False  5.272727\n",
      "520          0   3.533512  0.189655    True         True  0.000000\n",
      "521          0   2.475987  0.189655    True        False  0.000000\n",
      "\n",
      "[522 rows x 6 columns], 'ate': 3.861417965828856, 'ate_std': 0.8228399351467559, 'energy_distance': 0.12964690616140562}, 'validation': {'erupt': 6.476886711401265, 'norm_erupt': 2.7373400086232516, 'qini': -5.965166771106602, 'auc': 0.5566724216598496, 'values':      treatment  y_factual         p  policy  norm_policy  weights\n",
      "0            0   0.371460  0.189655    True         True    0.000\n",
      "1            1   6.554958  0.189655    True        False    5.625\n",
      "2            0   4.109239  0.189655    True        False    0.000\n",
      "3            0   1.770975  0.189655    True         True    0.000\n",
      "4            0   1.884966  0.189655    True         True    0.000\n",
      "..         ...        ...       ...     ...          ...      ...\n",
      "220          0   0.751634  0.189655    True         True    0.000\n",
      "221          0   2.467868  0.189655    True         True    0.000\n",
      "222          1   9.314615  0.189655    True        False    5.625\n",
      "223          0   1.938568  0.189655    True         True    0.000\n",
      "224          0   1.522918  0.189655    True         True    0.000\n",
      "\n",
      "[225 rows x 6 columns], 'ate': 3.7756388129385363, 'ate_std': 0.8879377556086036, 'energy_distance': 0.24888446020854982}}, 'config': {'estimator': {'estimator_name': 'backdoor.econml.metalearners.XLearner'}}, 'training_iteration': 0, 'config/estimator': {'estimator_name': 'backdoor.econml.metalearners.XLearner'}, 'experiment_tag': 'exp', 'time_total_s': 40.6156222820282}\n",
      "---------------------\n",
      "Best estimator: backdoor.econml.metalearners.SLearner\n",
      "best config: {'estimator': {'estimator_name': 'backdoor.econml.metalearners.SLearner'}}\n",
      "best score: 0.22523746415348445\n"
     ]
    }
   ],
   "source": [
    "ct = AutoCausality(\n",
    "    estimator_list=estimator_list,\n",
    "    metric=metric,\n",
    "    verbose=3,\n",
    "    components_verbose=2,\n",
    "    time_budget=time_budget,\n",
    "    components_time_budget=components_time_budget,\n",
    "    train_size=train_size\n",
    ")\n",
    "\n",
    "\n",
    "# run causaltune\n",
    "ct.fit(data=cd, outcome=cd.outcomes[0])\n",
    "\n",
    "print('---------------------')\n",
    "# return best estimator\n",
    "print(f\"Best estimator: {ct.best_estimator}\")\n",
    "# config of best estimator:\n",
    "print(f\"best config: {ct.best_config}\")\n",
    "# best score:\n",
    "print(f\"best score: {ct.best_score}\")"
   ]
  },
  {
   "attachments": {},
   "cell_type": "markdown",
   "metadata": {
    "collapsed": false,
    "pycharm": {
     "name": "#%% md\n"
    }
   },
   "source": [
    "After running a fit, you also have the option resume it without losing past results, for example if you want to search over extra estimators. To do so, simply pass `resume=True` to the `fit` method as shown below: \n",
    "\n",
    "`ct.fit(data=cd,outcome=cd.outcomes[0],resume=True)`"
   ]
  },
  {
   "attachments": {},
   "cell_type": "markdown",
   "id": "b5f10b9b",
   "metadata": {},
   "source": [
    "We will now score all estimators on the held-out test set and save the results per estimator in `ct.scores`."
   ]
  },
  {
   "cell_type": "code",
   "execution_count": 131,
   "metadata": {
    "collapsed": false,
    "pycharm": {
     "name": "#%%\n"
    }
   },
   "outputs": [],
   "source": [
    "test_df = ct.test_df\n",
    "\n",
    "for est_name, scr in ct.scores.items():\n",
    "    causal_estimate = scr['estimator']\n",
    "    scr['scores']['test'] = ct.scorer.make_scores(causal_estimate, test_df, metrics_to_report=ct.metrics_to_report)"
   ]
  },
  {
   "cell_type": "code",
   "execution_count": null,
   "metadata": {
    "collapsed": false,
    "pycharm": {
     "name": "#%%\n"
    }
   },
   "outputs": [],
   "source": [
    "%matplotlib inline\n",
    "import matplotlib\n",
    "import matplotlib.pyplot as plt\n",
    "import matplotlib.ticker as mtick\n",
    "\n",
    "colors = ([matplotlib.colors.CSS4_COLORS['black']] +\n",
    "    list(matplotlib.colors.TABLEAU_COLORS) + [\n",
    "    matplotlib.colors.CSS4_COLORS['lime'],\n",
    "    matplotlib.colors.CSS4_COLORS['yellow'],\n",
    "    matplotlib.colors.CSS4_COLORS['pink']\n",
    "])\n",
    "\n",
    "\n",
    "plt.figure(figsize = (7,5))\n",
    "plt.title(cd.outcomes[0])\n",
    "\n",
    "m1 = \"ate\"\n",
    "m2 = \"energy_distance\"\n",
    "\n",
    "for (est, scr), col in zip(ct.scores.items(),colors):\n",
    "    try:\n",
    "        sc = [scr[\"scores\"]['train'][m1], scr[\"scores\"]['validation'][m1], scr[\"scores\"]['test'][m1]]\n",
    "        crv = [scr[\"scores\"]['train'][m2], scr[\"scores\"]['validation'][m2], scr[\"scores\"]['test'][m2]]\n",
    "        plt.plot(sc, crv, color=col, marker=\"o\", label=est)\n",
    "        plt.scatter(sc[1:2],crv[1:2], c=col, s=70, label=\"_nolegend_\" )\n",
    "        plt.scatter(sc[2:],crv[2:], c=col, s=120, label=\"_nolegend_\" )\n",
    "\n",
    "    except:\n",
    "        pass\n",
    "plt.xlabel(m1)\n",
    "plt.ylabel(m2)\n",
    "\n",
    "plt.legend(bbox_to_anchor=(1.04,1), borderaxespad=0)\n",
    "\n",
    "plt.grid()\n",
    "plt.show()\n"
   ]
  },
  {
   "attachments": {},
   "cell_type": "markdown",
   "id": "416910e8",
   "metadata": {},
   "source": [
    "Below we demonstrate some basic plotting functionality that comes with `causaltune`. "
   ]
  },
  {
   "cell_type": "code",
   "execution_count": 132,
   "id": "93bc5191",
   "metadata": {},
   "outputs": [],
   "source": [
    "from auto_causality.visualizer import Visualizer\n",
    "\n",
    "viz = Visualizer(\n",
    "    test_df=test_df,\n",
    "    treatment_col_name=cd.treatment,\n",
    "    outcome_col_name=cd.outcomes[0]\n",
    ")"
   ]
  },
  {
   "cell_type": "code",
   "execution_count": 133,
   "id": "353818ad",
   "metadata": {},
   "outputs": [
    {
     "data": {
      "image/png": "[encoded data removed]",
      "text/plain": [
       "<Figure size 700x500 with 1 Axes>"
      ]
     },
     "metadata": {},
     "output_type": "display_data"
    }
   ],
   "source": [
    "%matplotlib inline\n",
    "\n",
    "# plotting metrics by estimator\n",
    "\n",
    "figtitle = f'{viz.outcome_col_name}'\n",
    "figsize = (7,5)\n",
    "metrics = ('energy_distance', 'ate')\n",
    "\n",
    "viz.plot_metrics_by_estimator(\n",
    "    scores_dict=ct.scores,\n",
    "    metrics=metrics,\n",
    "    figtitle=figtitle,\n",
    "    figsize=figsize\n",
    ")"
   ]
  },
  {
   "cell_type": "code",
   "execution_count": null,
   "id": "c0287e14",
   "metadata": {},
   "outputs": [],
   "source": [
    "%matplotlib inline\n",
    "\n",
    "# plotting shapley feature importances\n",
    "# sampling from test_df as calculation can take a while\n",
    "# optional: supply pre-computed shapley values by passing them as shaps=your_array\n",
    "\n",
    "use_df = test_df.sample(100)\n",
    "est = ct.model\n",
    "\n",
    "viz.plot_shap(\n",
    "    estimate=est,\n",
    "    df=use_df,\n",
    "    figtitle='Shapley feature importances'\n",
    ")"
   ]
  },
  {
   "cell_type": "code",
   "execution_count": null,
   "id": "98d7921e",
   "metadata": {},
   "outputs": [],
   "source": [
    "%matplotlib inline\n",
    "\n",
    "# plotting out-of sample difference of outcomes between treated and untreated \n",
    "# for the points where model predicts positive vs negative impact\n",
    "\n",
    "viz.plot_group_ate(\n",
    "    scorer=ct.scorer,\n",
    "    scores_dict=ct.scores,\n",
    "    estimator=ct.best_estimator\n",
    ")"
   ]
  }
 ],
 "metadata": {
  "kernelspec": {
   "display_name": "causality",
   "language": "python",
   "name": "python3"
  },
  "language_info": {
   "codemirror_mode": {
    "name": "ipython",
    "version": 3
   },
   "file_extension": ".py",
   "mimetype": "text/x-python",
   "name": "python",
   "nbconvert_exporter": "python",
   "pygments_lexer": "ipython3",
   "version": "3.9.16"
  }
 },
 "nbformat": 4,
 "nbformat_minor": 5
}
