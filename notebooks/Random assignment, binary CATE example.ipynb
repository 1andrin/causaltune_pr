{
 "cells": [
  {
   "attachments": {},
   "cell_type": "markdown",
   "id": "a34f30c6",
   "metadata": {
    "pycharm": {
     "name": "#%% md\n"
    }
   },
   "source": [
    "## Random assignment, binary CATE example\n",
    "\n",
    "This is a fully worked-out notebook showing how you would apply causaltune to a dataset."
   ]
  },
  {
   "cell_type": "code",
   "execution_count": 1,
   "id": "b6eaac69",
   "metadata": {
    "pycharm": {
     "name": "#%%\n"
    }
   },
   "outputs": [],
   "source": [
    "%load_ext autoreload\n",
    "%autoreload 2\n",
    "import os, sys\n",
    "import warnings\n",
    "warnings.filterwarnings('ignore') # suppress sklearn deprecation warnings for now..\n",
    "\n",
    "import pandas as pd\n",
    "import numpy as np\n",
    "from sklearn.model_selection import train_test_split\n",
    "\n",
    "# the below checks for whether we run dowhy, causaltune, and FLAML from source\n",
    "root_path = root_path = os.path.realpath('../..')\n",
    "try:\n",
    "    import causaltune\n",
    "except ModuleNotFoundError:\n",
    "    sys.path.append(os.path.join(root_path, \"auto-causality\"))\n",
    "\n",
    "try:\n",
    "    import dowhy\n",
    "except ModuleNotFoundError:\n",
    "    sys.path.append(os.path.join(root_path, \"dowhy\"))\n",
    "\n",
    "try:\n",
    "    import flaml\n",
    "except ModuleNotFoundError:\n",
    "    sys.path.append(os.path.join(root_path, \"FLAML\"))\n"
   ]
  },
  {
   "cell_type": "code",
   "execution_count": 2,
   "id": "53241021",
   "metadata": {
    "pycharm": {
     "name": "#%%\n"
    }
   },
   "outputs": [
    {
     "data": {
      "text/html": [
       "<style>.container { width:100% !important; }</style>"
      ],
      "text/plain": [
       "<IPython.core.display.HTML object>"
      ]
     },
     "metadata": {},
     "output_type": "display_data"
    }
   ],
   "source": [
    "# this makes the notebook expand to full width of the browser window\n",
    "from IPython.core.display import display, HTML\n",
    "display(HTML(\"<style>.container { width:100% !important; }</style>\"))"
   ]
  },
  {
   "cell_type": "code",
   "execution_count": 3,
   "id": "5ed9b5f7",
   "metadata": {
    "pycharm": {
     "name": "#%%\n"
    }
   },
   "outputs": [
    {
     "data": {
      "application/javascript": "\n// turn off scrollable windows for large output\nIPython.OutputArea.prototype._should_scroll = function(lines) {\n    return false;\n}\n",
      "text/plain": [
       "<IPython.core.display.Javascript object>"
      ]
     },
     "metadata": {},
     "output_type": "display_data"
    }
   ],
   "source": [
    "%%javascript\n",
    "\n",
    "// turn off scrollable windows for large output\n",
    "IPython.OutputArea.prototype._should_scroll = function(lines) {\n",
    "    return false;\n",
    "}"
   ]
  },
  {
   "cell_type": "code",
   "execution_count": 5,
   "id": "da208ce6",
   "metadata": {
    "pycharm": {
     "name": "#%%\n"
    }
   },
   "outputs": [],
   "source": [
    "from causaltune import CausalTune\n",
    "from causaltune.datasets import synth_ihdp"
   ]
  },
  {
   "attachments": {},
   "cell_type": "markdown",
   "id": "b637c532",
   "metadata": {
    "pycharm": {
     "name": "#%% md\n"
    }
   },
   "source": [
    "### Model fitting & scoring\n",
    "Here we fit a (selection of) model(s) to the data and score them with the energy distance metric on held-out data.\n",
    "\n",
    "We import an example dataset and pre-process it. The pre-processing fills in the NaNs and one-hot-encodes all categorical and int variables.\n",
    "\n",
    "If you don't want an int variable to be one-hot-encoded, please cast it to float before preprocessing."
   ]
  },
  {
   "cell_type": "code",
   "execution_count": 6,
   "id": "96719b4d",
   "metadata": {},
   "outputs": [],
   "source": [
    "# load toy dataset and apply standard pre-processing\n",
    "cd = synth_ihdp()\n",
    "cd.preprocess_dataset()"
   ]
  },
  {
   "attachments": {},
   "cell_type": "markdown",
   "id": "a12303d6",
   "metadata": {},
   "source": [
    "Inspecting the dataset below, we can see that the causal inference problem is defined by a binary `treatment`, a continuous outcome `y_factual`, and a range of covariates `x_{i}`. The `random` column is added to bypass a DoWhy bug."
   ]
  },
  {
   "cell_type": "code",
   "execution_count": 7,
   "id": "49e4721b",
   "metadata": {
    "pycharm": {
     "name": "#%%\n"
    }
   },
   "outputs": [
    {
     "data": {
      "text/html": [
       "<div>\n",
       "<style scoped>\n",
       "    .dataframe tbody tr th:only-of-type {\n",
       "        vertical-align: middle;\n",
       "    }\n",
       "\n",
       "    .dataframe tbody tr th {\n",
       "        vertical-align: top;\n",
       "    }\n",
       "\n",
       "    .dataframe thead th {\n",
       "        text-align: right;\n",
       "    }\n",
       "</style>\n",
       "<table border=\"1\" class=\"dataframe\">\n",
       "  <thead>\n",
       "    <tr style=\"text-align: right;\">\n",
       "      <th></th>\n",
       "      <th>treatment</th>\n",
       "      <th>y_factual</th>\n",
       "      <th>random</th>\n",
       "      <th>x1</th>\n",
       "      <th>x2</th>\n",
       "      <th>x3</th>\n",
       "      <th>x4</th>\n",
       "      <th>x5</th>\n",
       "      <th>x6</th>\n",
       "      <th>x7</th>\n",
       "      <th>...</th>\n",
       "      <th>x16</th>\n",
       "      <th>x17</th>\n",
       "      <th>x18</th>\n",
       "      <th>x19</th>\n",
       "      <th>x20</th>\n",
       "      <th>x21</th>\n",
       "      <th>x22</th>\n",
       "      <th>x23</th>\n",
       "      <th>x24</th>\n",
       "      <th>x25</th>\n",
       "    </tr>\n",
       "  </thead>\n",
       "  <tbody>\n",
       "    <tr>\n",
       "      <th>0</th>\n",
       "      <td>1</td>\n",
       "      <td>5.599916</td>\n",
       "      <td>0.0</td>\n",
       "      <td>-0.528603</td>\n",
       "      <td>-0.343455</td>\n",
       "      <td>1.128554</td>\n",
       "      <td>0.161703</td>\n",
       "      <td>-0.316603</td>\n",
       "      <td>1.295216</td>\n",
       "      <td>1.0</td>\n",
       "      <td>...</td>\n",
       "      <td>1.0</td>\n",
       "      <td>1.0</td>\n",
       "      <td>1.0</td>\n",
       "      <td>1.0</td>\n",
       "      <td>0.0</td>\n",
       "      <td>0.0</td>\n",
       "      <td>0.0</td>\n",
       "      <td>0.0</td>\n",
       "      <td>0.0</td>\n",
       "      <td>0.0</td>\n",
       "    </tr>\n",
       "    <tr>\n",
       "      <th>1</th>\n",
       "      <td>0</td>\n",
       "      <td>6.875856</td>\n",
       "      <td>0.0</td>\n",
       "      <td>-1.736945</td>\n",
       "      <td>-1.802002</td>\n",
       "      <td>0.383828</td>\n",
       "      <td>2.244319</td>\n",
       "      <td>-0.629189</td>\n",
       "      <td>1.295216</td>\n",
       "      <td>0.0</td>\n",
       "      <td>...</td>\n",
       "      <td>1.0</td>\n",
       "      <td>1.0</td>\n",
       "      <td>1.0</td>\n",
       "      <td>1.0</td>\n",
       "      <td>0.0</td>\n",
       "      <td>0.0</td>\n",
       "      <td>0.0</td>\n",
       "      <td>0.0</td>\n",
       "      <td>0.0</td>\n",
       "      <td>0.0</td>\n",
       "    </tr>\n",
       "    <tr>\n",
       "      <th>2</th>\n",
       "      <td>0</td>\n",
       "      <td>2.996273</td>\n",
       "      <td>0.0</td>\n",
       "      <td>-0.807451</td>\n",
       "      <td>-0.202946</td>\n",
       "      <td>-0.360898</td>\n",
       "      <td>-0.879606</td>\n",
       "      <td>0.808706</td>\n",
       "      <td>-0.526556</td>\n",
       "      <td>0.0</td>\n",
       "      <td>...</td>\n",
       "      <td>1.0</td>\n",
       "      <td>0.0</td>\n",
       "      <td>1.0</td>\n",
       "      <td>1.0</td>\n",
       "      <td>0.0</td>\n",
       "      <td>0.0</td>\n",
       "      <td>0.0</td>\n",
       "      <td>0.0</td>\n",
       "      <td>0.0</td>\n",
       "      <td>0.0</td>\n",
       "    </tr>\n",
       "    <tr>\n",
       "      <th>3</th>\n",
       "      <td>0</td>\n",
       "      <td>1.366206</td>\n",
       "      <td>1.0</td>\n",
       "      <td>0.390083</td>\n",
       "      <td>0.596582</td>\n",
       "      <td>-1.850350</td>\n",
       "      <td>-0.879606</td>\n",
       "      <td>-0.004017</td>\n",
       "      <td>-0.857787</td>\n",
       "      <td>0.0</td>\n",
       "      <td>...</td>\n",
       "      <td>1.0</td>\n",
       "      <td>0.0</td>\n",
       "      <td>1.0</td>\n",
       "      <td>1.0</td>\n",
       "      <td>0.0</td>\n",
       "      <td>0.0</td>\n",
       "      <td>0.0</td>\n",
       "      <td>0.0</td>\n",
       "      <td>0.0</td>\n",
       "      <td>0.0</td>\n",
       "    </tr>\n",
       "    <tr>\n",
       "      <th>4</th>\n",
       "      <td>0</td>\n",
       "      <td>1.963538</td>\n",
       "      <td>1.0</td>\n",
       "      <td>-1.045228</td>\n",
       "      <td>-0.602710</td>\n",
       "      <td>0.011465</td>\n",
       "      <td>0.161703</td>\n",
       "      <td>0.683672</td>\n",
       "      <td>-0.360940</td>\n",
       "      <td>1.0</td>\n",
       "      <td>...</td>\n",
       "      <td>1.0</td>\n",
       "      <td>1.0</td>\n",
       "      <td>1.0</td>\n",
       "      <td>1.0</td>\n",
       "      <td>0.0</td>\n",
       "      <td>0.0</td>\n",
       "      <td>0.0</td>\n",
       "      <td>0.0</td>\n",
       "      <td>0.0</td>\n",
       "      <td>0.0</td>\n",
       "    </tr>\n",
       "  </tbody>\n",
       "</table>\n",
       "<p>5 rows × 28 columns</p>\n",
       "</div>"
      ],
      "text/plain": [
       "   treatment  y_factual  random        x1        x2        x3        x4  \\\n",
       "0          1   5.599916     0.0 -0.528603 -0.343455  1.128554  0.161703   \n",
       "1          0   6.875856     0.0 -1.736945 -1.802002  0.383828  2.244319   \n",
       "2          0   2.996273     0.0 -0.807451 -0.202946 -0.360898 -0.879606   \n",
       "3          0   1.366206     1.0  0.390083  0.596582 -1.850350 -0.879606   \n",
       "4          0   1.963538     1.0 -1.045228 -0.602710  0.011465  0.161703   \n",
       "\n",
       "         x5        x6   x7  ...  x16  x17  x18  x19  x20  x21  x22  x23  x24  \\\n",
       "0 -0.316603  1.295216  1.0  ...  1.0  1.0  1.0  1.0  0.0  0.0  0.0  0.0  0.0   \n",
       "1 -0.629189  1.295216  0.0  ...  1.0  1.0  1.0  1.0  0.0  0.0  0.0  0.0  0.0   \n",
       "2  0.808706 -0.526556  0.0  ...  1.0  0.0  1.0  1.0  0.0  0.0  0.0  0.0  0.0   \n",
       "3 -0.004017 -0.857787  0.0  ...  1.0  0.0  1.0  1.0  0.0  0.0  0.0  0.0  0.0   \n",
       "4  0.683672 -0.360940  1.0  ...  1.0  1.0  1.0  1.0  0.0  0.0  0.0  0.0  0.0   \n",
       "\n",
       "   x25  \n",
       "0  0.0  \n",
       "1  0.0  \n",
       "2  0.0  \n",
       "3  0.0  \n",
       "4  0.0  \n",
       "\n",
       "[5 rows x 28 columns]"
      ]
     },
     "metadata": {},
     "output_type": "display_data"
    }
   ],
   "source": [
    "# inspect the preprocessed dataset\n",
    "display(cd.data.head())"
   ]
  },
  {
   "attachments": {},
   "cell_type": "markdown",
   "id": "541e8ec6",
   "metadata": {
    "pycharm": {
     "name": "#%% md\n"
    }
   },
   "source": [
    "Fitting the model is as simple as calling CausalTune.fit(), with the only required parameter apart from the data being the amount of time you want to give the optimizer, either for the whole run (`time_budget`) or per FLAML component model (`components_time_budget`), or both.\n",
    "\n",
    "If you want to use specific estimators, comment in the `estimator_list` below to include any estimators whose full name contains any of the elements of `estimator_list`.\n",
    "\n",
    "The other allowed values are `all` and `auto`, the default is `auto`.\n"
   ]
  },
  {
   "cell_type": "code",
   "execution_count": null,
   "id": "fd4b291e",
   "metadata": {},
   "outputs": [],
   "source": [
    "# training configs\n",
    "\n",
    "# choose estimators of interest\n",
    "estimator_list = [\n",
    "            \"Dummy\",\n",
    "            # \"SparseLinearDML\",\n",
    "            # \"ForestDRLearner\",\n",
    "            # \"TransformedOutcome\",\n",
    "            # \"CausalForestDML\",\n",
    "            # \".LinearDML\",\n",
    "            # \"DomainAdaptationLearner\",\n",
    "            \"SLearner\",\n",
    "            \"XLearner\",\n",
    "            # \"TLearner\",\n",
    "            # \"Ortho\"\n",
    "    ]\n",
    "\n",
    "# set evaluation metric\n",
    "metric = \"energy_distance\"\n",
    "\n",
    "# it's best to specify either time_budget or components_time_budget, \n",
    "# and let the other one be inferred; time in seconds\n",
    "time_budget = None\n",
    "components_time_budget = 10\n",
    "\n",
    "# specify training set size\n",
    "train_size = 0.7\n"
   ]
  },
  {
   "cell_type": "code",
   "execution_count": null,
   "id": "ea8d2df3",
   "metadata": {
    "collapsed": false,
    "pycharm": {
     "name": "#%%\n"
    }
   },
   "outputs": [],
   "source": [
    "ct = CausalTune(\n",
    "    estimator_list=estimator_list,\n",
    "    metric=metric,\n",
    "    verbose=3,\n",
    "    components_verbose=2,\n",
    "    time_budget=time_budget,\n",
    "    components_time_budget=components_time_budget,\n",
    "    train_size=train_size\n",
    ")\n",
    "\n",
    "\n",
    "# run causaltune\n",
    "ct.fit(data=cd, outcome=cd.outcomes[0])\n",
    "\n",
    "print('---------------------')\n",
    "# return best estimator\n",
    "print(f\"Best estimator: {ct.best_estimator}\")\n",
    "# config of best estimator:\n",
    "print(f\"best config: {ct.best_config}\")\n",
    "# best score:\n",
    "print(f\"best score: {ct.best_score}\")"
   ]
  },
  {
   "attachments": {},
   "cell_type": "markdown",
   "id": "08599fd9",
   "metadata": {
    "collapsed": false,
    "pycharm": {
     "name": "#%% md\n"
    }
   },
   "source": [
    "After running a fit, you also have the option resume it without losing past results, for example if you want to search over extra estimators. To do so, simply pass `resume=True` to the `fit` method as shown below: \n",
    "\n",
    "`ct.fit(data=cd,outcome=cd.outcomes[0],resume=True)`"
   ]
  },
  {
   "attachments": {},
   "cell_type": "markdown",
   "id": "b5f10b9b",
   "metadata": {},
   "source": [
    "We will now score all estimators on the held-out test set and save the results per estimator in `ct.scores`."
   ]
  },
  {
   "cell_type": "code",
   "execution_count": null,
   "id": "d71cdd8e",
   "metadata": {
    "collapsed": false,
    "pycharm": {
     "name": "#%%\n"
    }
   },
   "outputs": [],
   "source": [
    "test_df = ct.test_df\n",
    "\n",
    "ct.score_dataset(df=test_df, dataset_name='test')"
   ]
  },
  {
   "attachments": {},
   "cell_type": "markdown",
   "id": "416910e8",
   "metadata": {},
   "source": [
    "Below we demonstrate some basic plotting functionality that comes with `causaltune`. "
   ]
  },
  {
   "cell_type": "code",
   "execution_count": null,
   "id": "93bc5191",
   "metadata": {},
   "outputs": [],
   "source": [
    "from auto_causality.visualizer import Visualizer\n",
    "\n",
    "viz = Visualizer(\n",
    "    test_df=test_df,\n",
    "    treatment_col_name=cd.treatment,\n",
    "    outcome_col_name=cd.outcomes[0]\n",
    ")"
   ]
  },
  {
   "cell_type": "code",
   "execution_count": null,
   "id": "353818ad",
   "metadata": {},
   "outputs": [],
   "source": [
    "%matplotlib inline\n",
    "\n",
    "# plotting metrics by estimator\n",
    "\n",
    "figtitle = f'{viz.outcome_col_name}'\n",
    "figsize = (7,5)\n",
    "metrics = ('energy_distance', 'ate')\n",
    "\n",
    "viz.plot_metrics_by_estimator(\n",
    "    scores_dict=ct.scores,\n",
    "    metrics=metrics,\n",
    "    figtitle=figtitle,\n",
    "    figsize=figsize\n",
    ")"
   ]
  },
  {
   "cell_type": "code",
   "execution_count": null,
   "id": "c0287e14",
   "metadata": {},
   "outputs": [],
   "source": [
    "%matplotlib inline\n",
    "\n",
    "# plotting shapley feature importances\n",
    "# sampling from test_df as calculation can take a while\n",
    "# optional: supply pre-computed shapley values by passing them as shaps=your_array\n",
    "\n",
    "use_df = test_df.sample(100)\n",
    "est = ct.model\n",
    "figtitle = 'Shapley feature importances'\n",
    "\n",
    "viz.plot_shap(\n",
    "    estimate=est,\n",
    "    df=use_df,\n",
    "    figtitle=figtitle\n",
    ")"
   ]
  },
  {
   "cell_type": "code",
   "execution_count": null,
   "id": "98d7921e",
   "metadata": {},
   "outputs": [],
   "source": [
    "%matplotlib inline\n",
    "\n",
    "# plotting out-of sample difference of outcomes between treated and untreated \n",
    "# for the points where model predicts positive vs negative impact\n",
    "\n",
    "viz.plot_group_ate(\n",
    "    scorer=ct.scorer,\n",
    "    scores_dict=ct.scores,\n",
    "    estimator=ct.best_estimator\n",
    ")"
   ]
  },
  {
   "attachments": {},
   "cell_type": "markdown",
   "id": "e2ccdd51",
   "metadata": {},
   "source": [
    "## Custom outcome model\n",
    "\n",
    "We also allow the user to supply a custom outcome model during training. The below example demonstrates how to use a simple linear model as outcome model. We use the same dataset as above.\n",
    "\n",
    "Note that you can pass any arbitrary object that has `fit()` and `predict()` methods implemented to `outcome_model`. "
   ]
  },
  {
   "cell_type": "code",
   "execution_count": null,
   "id": "e14ad3f9",
   "metadata": {},
   "outputs": [],
   "source": [
    "from sklearn.linear_model import LinearRegression\n",
    "\n",
    "ct = CausalTune(\n",
    "    outcome_model=LinearRegression(),\n",
    "    estimator_list=estimator_list,\n",
    "    metric=metric,\n",
    "    verbose=3,\n",
    "    components_verbose=2,\n",
    "    time_budget=time_budget,\n",
    "    components_time_budget=components_time_budget,\n",
    "    train_size=train_size\n",
    ")\n",
    "\n",
    "\n",
    "# run causaltune\n",
    "ct.fit(data=cd, outcome=cd.outcomes[0])"
   ]
  }
 ],
 "metadata": {
  "kernelspec": {
   "display_name": "causality",
   "language": "python",
   "name": "python3"
  },
  "language_info": {
   "codemirror_mode": {
    "name": "ipython",
    "version": 3
   },
   "file_extension": ".py",
   "mimetype": "text/x-python",
   "name": "python",
   "nbconvert_exporter": "python",
   "pygments_lexer": "ipython3",
   "version": "3.9.16"
  }
 },
 "nbformat": 4,
 "nbformat_minor": 5
}
