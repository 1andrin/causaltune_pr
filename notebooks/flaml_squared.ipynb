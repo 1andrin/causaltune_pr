{
 "cells": [
  {
   "cell_type": "markdown",
   "id": "a34f30c6",
   "metadata": {},
   "source": [
    "## FLAML for hp optimisation and model selection\n",
    "We use FLAML twice, first to find the best component model for each estimator, and then to optimise the estimators themselves and choose the best estimator. Here we show how it's done"
   ]
  },
  {
   "cell_type": "code",
   "execution_count": 1,
   "id": "2d7480f9",
   "metadata": {},
   "outputs": [],
   "source": [
    "%load_ext autoreload\n",
    "%autoreload 2\n",
    "import os, sys\n",
    "import warnings\n",
    "# warnings.filterwarnings('ignore') # suppress sklearn deprecation warnings for now.. \n",
    "\n",
    "# the below checks for whether we run dowhy and auto-causality from source\n",
    "root_path = root_path = os.path.realpath('../..')\n",
    "try: \n",
    "    import auto_causality\n",
    "except ModuleNotFoundError:\n",
    "    sys.path.append(os.path.join(root_path, \"auto-causality\"))\n",
    "    \n",
    "try:\n",
    "    import dowhy\n",
    "except ModuleNotFoundError:\n",
    "    sys.path.append(os.path.join(root_path, \"dowhy\"))"
   ]
  },
  {
   "cell_type": "code",
   "execution_count": 2,
   "id": "d8de5d4e",
   "metadata": {},
   "outputs": [],
   "source": [
    "from auto_causality import AutoCausality\n",
    "from auto_causality.datasets import synth_ihdp, preprocess_dataset\n",
    "from auto_causality.scoring import ate"
   ]
  },
  {
   "cell_type": "markdown",
   "id": "e90d234a",
   "metadata": {},
   "source": [
    "### Model fitting & scoring\n",
    "Here we fit a (selection of) model(s) to the data and score them with the ERUPT metric on held-out data"
   ]
  },
  {
   "cell_type": "code",
   "execution_count": null,
   "id": "e710361f",
   "metadata": {},
   "outputs": [],
   "source": [
    "# import dataset\n",
    "data_df = synth_ihdp()\n",
    "data_df, features_X, features_W, targets, treatment = preprocess_dataset(data_df)\n",
    "outcome = targets[0]"
   ]
  },
  {
   "cell_type": "code",
   "execution_count": 9,
   "id": "f68c4d4c",
   "metadata": {},
   "outputs": [
    {
     "ename": "ValueError",
     "evalue": "No valid estimators in['Blah']",
     "output_type": "error",
     "traceback": [
      "\u001b[1;31m---------------------------------------------------------------------------\u001b[0m",
      "\u001b[1;31mValueError\u001b[0m                                Traceback (most recent call last)",
      "\u001b[1;32mC:\\Users\\EGOR~1.KRA\\AppData\\Local\\Temp/ipykernel_28172/1947087374.py\u001b[0m in \u001b[0;36m<module>\u001b[1;34m\u001b[0m\n\u001b[0;32m     17\u001b[0m \u001b[1;33m\u001b[0m\u001b[0m\n\u001b[0;32m     18\u001b[0m \u001b[1;31m# init autocausality object with chosen metric to optimise\u001b[0m\u001b[1;33m\u001b[0m\u001b[1;33m\u001b[0m\u001b[0m\n\u001b[1;32m---> 19\u001b[1;33m ac = AutoCausality(\n\u001b[0m\u001b[0;32m     20\u001b[0m     \u001b[0mtime_budget\u001b[0m\u001b[1;33m=\u001b[0m\u001b[1;36m180\u001b[0m\u001b[1;33m,\u001b[0m\u001b[1;33m\u001b[0m\u001b[1;33m\u001b[0m\u001b[0m\n\u001b[0;32m     21\u001b[0m     \u001b[0mestimator_list\u001b[0m\u001b[1;33m=\u001b[0m\u001b[0mestimator_list\u001b[0m\u001b[1;33m,\u001b[0m\u001b[1;33m\u001b[0m\u001b[1;33m\u001b[0m\u001b[0m\n",
      "\u001b[1;32m~\\Transferwise\\auto-causality\\auto_causality\\optimiser.py\u001b[0m in \u001b[0;36m__init__\u001b[1;34m(self, data_df, metric, metrics_to_report, time_budget, num_samples, verbose, use_ray, estimator_list, train_size, test_size, use_dummyclassifier, components_task, components_verbose, components_pred_time_limit, components_njobs, components_time_budget)\u001b[0m\n\u001b[0;32m    126\u001b[0m         \u001b[0mself\u001b[0m\u001b[1;33m.\u001b[0m\u001b[0mscores\u001b[0m \u001b[1;33m=\u001b[0m \u001b[1;33m{\u001b[0m\u001b[1;33m}\u001b[0m\u001b[1;33m\u001b[0m\u001b[1;33m\u001b[0m\u001b[0m\n\u001b[0;32m    127\u001b[0m         \u001b[0mself\u001b[0m\u001b[1;33m.\u001b[0m\u001b[0mfull_scores\u001b[0m \u001b[1;33m=\u001b[0m \u001b[1;33m{\u001b[0m\u001b[1;33m}\u001b[0m\u001b[1;33m\u001b[0m\u001b[1;33m\u001b[0m\u001b[0m\n\u001b[1;32m--> 128\u001b[1;33m         \u001b[0mself\u001b[0m\u001b[1;33m.\u001b[0m\u001b[0mestimator_list\u001b[0m \u001b[1;33m=\u001b[0m \u001b[0mself\u001b[0m\u001b[1;33m.\u001b[0m\u001b[0m_create_estimator_list\u001b[0m\u001b[1;33m(\u001b[0m\u001b[1;33m)\u001b[0m\u001b[1;33m\u001b[0m\u001b[1;33m\u001b[0m\u001b[0m\n\u001b[0m\u001b[0;32m    129\u001b[0m \u001b[1;33m\u001b[0m\u001b[0m\n\u001b[0;32m    130\u001b[0m         \u001b[0mself\u001b[0m\u001b[1;33m.\u001b[0m\u001b[0mdata_df\u001b[0m \u001b[1;33m=\u001b[0m \u001b[0mdata_df\u001b[0m \u001b[1;32mor\u001b[0m \u001b[0mpd\u001b[0m\u001b[1;33m.\u001b[0m\u001b[0mDataFrame\u001b[0m\u001b[1;33m(\u001b[0m\u001b[1;33m)\u001b[0m\u001b[1;33m\u001b[0m\u001b[1;33m\u001b[0m\u001b[0m\n",
      "\u001b[1;32m~\\Transferwise\\auto-causality\\auto_causality\\optimiser.py\u001b[0m in \u001b[0;36m_create_estimator_list\u001b[1;34m(self)\u001b[0m\n\u001b[0;32m    191\u001b[0m             )\n\u001b[0;32m    192\u001b[0m             \u001b[1;32mif\u001b[0m \u001b[0mestimators_to_use\u001b[0m \u001b[1;33m==\u001b[0m \u001b[1;33m[\u001b[0m\u001b[1;33m]\u001b[0m\u001b[1;33m:\u001b[0m\u001b[1;33m\u001b[0m\u001b[1;33m\u001b[0m\u001b[0m\n\u001b[1;32m--> 193\u001b[1;33m                 raise ValueError(\n\u001b[0m\u001b[0;32m    194\u001b[0m                     \u001b[1;34m\"No valid estimators in\"\u001b[0m \u001b[1;33m+\u001b[0m \u001b[0mstr\u001b[0m\u001b[1;33m(\u001b[0m\u001b[0mself\u001b[0m\u001b[1;33m.\u001b[0m\u001b[0m_settings\u001b[0m\u001b[1;33m[\u001b[0m\u001b[1;34m\"estimator_list\"\u001b[0m\u001b[1;33m]\u001b[0m\u001b[1;33m)\u001b[0m\u001b[1;33m\u001b[0m\u001b[1;33m\u001b[0m\u001b[0m\n\u001b[0;32m    195\u001b[0m                 )\n",
      "\u001b[1;31mValueError\u001b[0m: No valid estimators in['Blah']"
     ]
    }
   ],
   "source": [
    "# choose which estimators to fit\n",
    "estimator_list = [\"Blah\"\n",
    "    #\"Dummy\",\n",
    "#                     \"metalearners\",\n",
    "#                   \".LinearDML\",\n",
    "#                   \"SparseLinearDML\", \n",
    "#                   \"CasualForestDML\",\n",
    "#                   \"TransformedOutcome\", \n",
    "#                   \"ForestDRLearner\", \n",
    "#                   \"LinearDRLearner\"\n",
    "                 ]\n",
    "\n",
    "# init autocausality object with chosen metric to optimise\n",
    "ac = AutoCausality(\n",
    "    time_budget=180, \n",
    "    estimator_list=estimator_list, \n",
    "    metric=\"erupt\", \n",
    "    verbose=3,\n",
    "    components_verbose=2,\n",
    "    components_time_budget=30,\n",
    "    use_ray=False\n",
    ")\n",
    "\n",
    "# run autocausality\n",
    "myresults = ac.fit(data_df, treatment, outcome, features_W, features_X)\n",
    "\n",
    "# return best estimator\n",
    "print(f\"Best estimator: {ac.best_estimator}\")\n",
    "# config of best estimator:\n",
    "print(f\"best config: {ac.best_config}\")\n",
    "# best score:\n",
    "print(f\"best score: {ac.best_score}\")\n"
   ]
  },
  {
   "cell_type": "code",
   "execution_count": 6,
   "id": "d6d9a15d",
   "metadata": {},
   "outputs": [],
   "source": [
    "outcome = targets[0]\n",
    "baseline_scores={\"estimator\": \"baseline\",\n",
    "                               \"outcome\": outcome,\n",
    "                              \"train\":{\"erupt\": ac.train_df[outcome].mean(),\n",
    "                                       \"ate\": ate(ac.train_df[treatment],ac.train_df[outcome])[0]},\n",
    "                              \"validation\":{\"erupt\": ac.test_df[outcome].mean(),\n",
    "                                      \"ate\": ate(ac.test_df[treatment],ac.test_df[outcome])[0]}}\n",
    "ac.full_scores = {\"baseline\": baseline_scores, **ac.full_scores}"
   ]
  },
  {
   "cell_type": "code",
   "execution_count": 7,
   "id": "4288a1ed",
   "metadata": {},
   "outputs": [
    {
     "data": {
      "image/png": "[encoded data removed]",
      "text/plain": [
       "<Figure size 504x360 with 1 Axes>"
      ]
     },
     "metadata": {
      "needs_background": "light"
     },
     "output_type": "display_data"
    }
   ],
   "source": [
    "%matplotlib inline\n",
    "import matplotlib\n",
    "import matplotlib.pyplot as plt\n",
    "import matplotlib.ticker as mtick\n",
    "\n",
    "colors = ([matplotlib.colors.CSS4_COLORS['black']] +\n",
    "    list(matplotlib.colors.TABLEAU_COLORS) + [\n",
    "    matplotlib.colors.CSS4_COLORS['lime'],\n",
    "    matplotlib.colors.CSS4_COLORS['yellow'],\n",
    "    matplotlib.colors.CSS4_COLORS['pink']\n",
    "])\n",
    "\n",
    "v = ac.full_scores\n",
    "plt.figure(figsize = (7,5))\n",
    "plt.title(outcome)\n",
    "for (est, scr),col in zip(v.items(),colors):\n",
    "    sc = [scr['train']['erupt'], scr['validation']['erupt']]\n",
    "    crv = [scr['train']['ate'], scr['validation']['ate']]\n",
    "    plt.plot(sc, crv, color=col, marker=\"o\")\n",
    "    plt.scatter(sc[1:],crv[1:], c=col, s=120 )\n",
    "    plt.xlabel(\"ERUPT score\")\n",
    "    plt.ylabel(\"ATE\")\n",
    "\n",
    "    plt.legend(v.keys(),bbox_to_anchor=(1.04,1), borderaxespad=0)\n",
    "\n",
    "plt.grid()\n",
    "plt.show()\n"
   ]
  },
  {
   "cell_type": "code",
   "execution_count": null,
   "id": "7e31dd00",
   "metadata": {},
   "outputs": [],
   "source": [
    "scr = ac.full_scores[ac.best_estimator]\n",
    "intrp = scr['validation']['intrp']\n",
    "plt.figure(figsize=(15, 7))\n",
    "try: \n",
    "    feature_names = intrp.feature_names\n",
    "except:\n",
    "#     feature_names = features_X + [ w for w in features_W if w not in features_X]\n",
    "intrp.plot(feature_names=intrp.feature_names, fontsize=10)\n",
    "#         intrp.plot( fontsize=10)\n",
    "plt.title(f\"{ac.best_estimator}_{outcome}\")\n",
    "plt.show()\n"
   ]
  },
  {
   "cell_type": "code",
   "execution_count": null,
   "id": "8d544dfa",
   "metadata": {},
   "outputs": [],
   "source": [
    "# TODO: add SHAP plots!\n",
    "import matplotlib.pyplot as plt\n",
    "import shap\n",
    "\n",
    "# and now let's visualize feature importances!\n",
    "from auto_causality.shap import shap_values\n",
    "\n",
    "# Shapley values calculation can be slow so let's subsample\n",
    "this_df = ac.test_df.sample(100)\n",
    "\n",
    "wanted = [\"CausalForestDML\"]#,\"ForestDRLearner\",\"DirectUpliftDoWhyWrapper\"]#,\"CausalForestDML\",]\n",
    "\n",
    "scr = ac.full_scores[ac.best_estimator]\n",
    "print(outcome, ac.best_estimator)\n",
    "est = ac.estimates[ac.best_estimator]\n",
    "shaps = shap_values(est, this_df)\n",
    "\n",
    "plt.title(outcome + '_' + ac.best_estimator.split('.')[-1])\n",
    "shap.summary_plot(shaps, this_df[est.estimator._effect_modifier_names])\n",
    "plt.show()\n"
   ]
  },
  {
   "cell_type": "code",
   "execution_count": null,
   "id": "052cf5b8",
   "metadata": {},
   "outputs": [],
   "source": []
  }
 ],
 "metadata": {
  "kernelspec": {
   "display_name": "Python 3 (ipykernel)",
   "language": "python",
   "name": "python3"
  },
  "language_info": {
   "codemirror_mode": {
    "name": "ipython",
    "version": 3
   },
   "file_extension": ".py",
   "mimetype": "text/x-python",
   "name": "python",
   "nbconvert_exporter": "python",
   "pygments_lexer": "ipython3",
   "version": "3.9.7"
  }
 },
 "nbformat": 4,
 "nbformat_minor": 5
}
