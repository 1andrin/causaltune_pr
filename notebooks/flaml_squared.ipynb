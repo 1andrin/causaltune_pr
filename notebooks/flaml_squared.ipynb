{
 "cells": [
  {
   "cell_type": "markdown",
   "id": "a34f30c6",
   "metadata": {},
   "source": [
    "## FLAML for hp optimisation and model selection\n",
    "We use FLAML twice, first to find the best component model for each estimator, and then to optimise the estimators themselves and choose the best estimator. Here we show how it's done"
   ]
  },
  {
   "cell_type": "code",
   "execution_count": 1,
   "id": "2d7480f9",
   "metadata": {},
   "outputs": [],
   "source": [
    "%load_ext autoreload\n",
    "%autoreload 2\n",
    "import os, sys\n",
    "import warnings\n",
    "warnings.filterwarnings('ignore') # suppress sklearn deprecation warnings for now.. \n",
    "\n",
    "root_path = root_path = os.path.realpath('../..')\n",
    "sys.path.append(os.path.join(root_path, \"auto-causality\"))"
   ]
  },
  {
   "cell_type": "code",
   "execution_count": 2,
   "id": "d8de5d4e",
   "metadata": {},
   "outputs": [],
   "source": [
    "from auto_causality import AutoCausality\n",
    "from auto_causality.datasets import synth_ihdp, preprocess_dataset"
   ]
  },
  {
   "cell_type": "markdown",
   "id": "e90d234a",
   "metadata": {},
   "source": [
    "### Model fitting & scoring\n",
    "Here we fit a (selection of) model(s) to the data and score them with the ERUPT metric on held-out data"
   ]
  },
  {
   "cell_type": "code",
   "execution_count": 6,
   "id": "f68c4d4c",
   "metadata": {},
   "outputs": [
    {
     "name": "stdout",
     "output_type": "stream",
     "text": [
      "fitting estimators: ['backdoor.econml.metalearners.SLearner', 'backdoor.econml.metalearners.TLearner', 'backdoor.econml.metalearners.XLearner', 'backdoor.econml.metalearners.DomainAdaptationLearner']\n",
      "... Estimator: backdoor.econml.metalearners.SLearner\n",
      " erupt (train): 6.515205\n",
      " qini (train): 0.072005\n",
      " auc (train): 0.565733\n",
      " ate (train): 3.969500\n",
      " r_score (train): 0.071188\n",
      "... Estimator: backdoor.econml.metalearners.TLearner\n",
      " erupt (train): 6.516212\n",
      " qini (train): 0.051082\n",
      " auc (train): 0.561992\n",
      " ate (train): 4.188803\n",
      " r_score (train): 0.093348\n",
      "... Estimator: backdoor.econml.metalearners.XLearner\n",
      " erupt (train): 6.516212\n",
      " qini (train): 0.031688\n",
      " auc (train): 0.562983\n",
      " ate (train): 4.183018\n",
      " r_score (train): 0.064745\n",
      "... Estimator: backdoor.econml.metalearners.DomainAdaptationLearner\n",
      " erupt (train): 6.520535\n",
      " qini (train): 0.061427\n",
      " auc (train): 0.575520\n",
      " ate (train): 4.169493\n",
      " r_score (train): 0.123818\n",
      "Best estimator: backdoor.econml.metalearners.DomainAdaptationLearner\n",
      "best config: {}\n",
      "best score: 6.520534673077907\n"
     ]
    }
   ],
   "source": [
    "# import dataset\n",
    "data_df = synth_ihdp()\n",
    "data_df, features_X, features_W, targets, treatment = preprocess_dataset(data_df)\n",
    "\n",
    "# choose which estimators to fit\n",
    "estimator_list = [\"metalearners\"]\n",
    "\n",
    "# init autocausality object with chosen metric to optimise\n",
    "ac = AutoCausality(\n",
    "    time_budget=1000, estimator_list=estimator_list, metric=\"erupt\", verbose=1,components_verbose=3\n",
    ")\n",
    "\n",
    "# run autocausality\n",
    "myresults = ac.fit(data_df, treatment, targets[0], features_W, features_X)\n",
    "\n",
    "# return best estimator\n",
    "print(f\"Best estimator: {ac.best_estimator}\")\n",
    "# config of best estimator:\n",
    "print(f\"best config: {ac.best_config}\")\n",
    "# best score:\n",
    "print(f\"best score: {ac.best_score}\")\n"
   ]
  }
 ],
 "metadata": {
  "kernelspec": {
   "display_name": "Python 3 (ipykernel)",
   "language": "python",
   "name": "python3"
  },
  "language_info": {
   "codemirror_mode": {
    "name": "ipython",
    "version": 3
   },
   "file_extension": ".py",
   "mimetype": "text/x-python",
   "name": "python",
   "nbconvert_exporter": "python",
   "pygments_lexer": "ipython3",
   "version": "3.9.7"
  }
 },
 "nbformat": 4,
 "nbformat_minor": 5
}
