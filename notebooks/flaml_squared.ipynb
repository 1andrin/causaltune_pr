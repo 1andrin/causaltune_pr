{
 "cells": [
  {
   "cell_type": "markdown",
   "id": "a34f30c6",
   "metadata": {},
   "source": [
    "## FLAML for hp optimisation and model selection\n",
    "We use FLAML twice, first to find the best component model for each estimator, and then to optimise the estimators themselves and choose the best estimator. Here we show how it's done"
   ]
  },
  {
   "cell_type": "code",
   "execution_count": 12,
   "id": "2d7480f9",
   "metadata": {},
   "outputs": [
    {
     "name": "stdout",
     "output_type": "stream",
     "text": [
      "The autoreload extension is already loaded. To reload it, use:\n",
      "  %reload_ext autoreload\n"
     ]
    }
   ],
   "source": [
    "%load_ext autoreload\n",
    "%autoreload 2\n",
    "import os, sys\n",
    "import pandas as pd\n",
    "import numpy as np\n",
    "from sklearn.model_selection import train_test_split\n",
    "import warnings\n",
    "warnings.filterwarnings('ignore') # suppress sklearn deprecation warnings for now.. \n",
    "\n",
    "root_path = root_path = os.path.realpath('../..')\n",
    "data_dir = os.path.realpath(os.path.join(root_path, \"auto-causality/data\"))\n",
    "if not os.path.isdir(data_dir):\n",
    "    os.mkdir(data_dir)\n",
    "\n",
    "sys.path.append(os.path.join(root_path, \"auto-causality\"))\n",
    "sys.path.append(os.path.join(root_path, \"dowhy\"))"
   ]
  },
  {
   "cell_type": "code",
   "execution_count": 13,
   "id": "d8de5d4e",
   "metadata": {},
   "outputs": [],
   "source": [
    "from auto_causality.utils import featurize\n",
    "from auto_causality import AutoCausality"
   ]
  },
  {
   "cell_type": "code",
   "execution_count": 14,
   "id": "2c777cb4",
   "metadata": {},
   "outputs": [],
   "source": [
    "# set all the control parameters here\n",
    "train_size = 0.5\n",
    "test_size = None\n",
    "time_budget = 300\n",
    "num_cores = os.cpu_count() - 1\n",
    "conf_intervals = False\n"
   ]
  },
  {
   "cell_type": "code",
   "execution_count": 15,
   "id": "c9331f28",
   "metadata": {
    "scrolled": true
   },
   "outputs": [],
   "source": [
    "# load raw data\n",
    "data = pd.read_csv(\n",
    "    \"https://raw.githubusercontent.com/AMLab-Amsterdam/CEVAE/master/datasets/IHDP/csv/ihdp_npci_1.csv\",\n",
    "    header=None,\n",
    ")\n",
    "col = [\n",
    "    \"treatment\",\n",
    "    \"y_factual\",\n",
    "    \"y_cfactual\",\n",
    "    \"mu0\",\n",
    "    \"mu1\",\n",
    "]\n",
    "for i in range(1, 26):\n",
    "    col.append(\"x\" + str(i))\n",
    "data.columns = col\n",
    "# drop the columns we don't care about\n",
    "ignore_patterns = [\"y_cfactual\", \"mu\"]\n",
    "ignore_cols = [c for c in data.columns if any([s in c for s in ignore_patterns])]\n",
    "data = data.drop(columns=ignore_cols)\n",
    "\n",
    "\n",
    "# prepare the data\n",
    "\n",
    "treatment = \"treatment\"\n",
    "targets = [\"y_factual\"]  # it's good to allow multiple ones\n",
    "features = [c for c in data.columns if c not in [treatment] + targets]\n",
    "\n",
    "data[treatment] = data[treatment].astype(int)\n",
    "# this is a trick to bypass some DoWhy/EconML bugs\n",
    "data[\"random\"] = np.random.randint(0, 2, size=len(data))\n",
    "\n",
    "used_df = featurize(\n",
    "    data, features=features, exclude_cols=[treatment] + targets, drop_first=False,\n",
    ")\n",
    "used_features = [\n",
    "    c for c in used_df.columns if c not in ignore_cols + [treatment] + targets\n",
    "]\n",
    "\n",
    "\n",
    "# Let's treat all features as effect modifiers\n",
    "features_X = [f for f in used_features if f != \"random\"]\n",
    "features_W = [f for f in used_features if f not in features_X]\n",
    "\n",
    "\n",
    "train_df, test_df = train_test_split(used_df, train_size=train_size)\n",
    "if test_size is not None:\n",
    "    test_df = test_df.sample(test_size)\n",
    "\n",
    "test_df.to_csv(os.path.join(data_dir, f\"test_{time_budget}.csv\"))\n",
    "train_df.to_csv(os.path.join(data_dir, f\"train_{time_budget}.csv\"))\n"
   ]
  },
  {
   "cell_type": "markdown",
   "id": "e90d234a",
   "metadata": {},
   "source": [
    "### Model fitting & scoring\n",
    "Here we fit a (selection of) model(s) to the data and score them with the ERUPT metric on held-out data"
   ]
  },
  {
   "cell_type": "code",
   "execution_count": 16,
   "id": "f68c4d4c",
   "metadata": {},
   "outputs": [
    {
     "name": "stdout",
     "output_type": "stream",
     "text": [
      "['backdoor.econml.dml.LinearDML', 'backdoor.econml.dml.SparseLinearDML', 'backdoor.econml.dml.CausalForestDML', 'backdoor.econml.dr.ForestDRLearner']\n",
      "... Estimator: backdoor.econml.dml.LinearDML \t ERUPT: 6.574549\n",
      "Warning: Search space not implemented for backdoor.econml.dml.SparseLinearDML, continuing with defaults instead...\n",
      "... Estimator: backdoor.econml.dml.SparseLinearDML \t ERUPT: 6.557354\n",
      "Warning: Search space not implemented for backdoor.econml.dml.CausalForestDML, continuing with defaults instead...\n",
      "... Estimator: backdoor.econml.dml.CausalForestDML \t ERUPT: 6.574549\n",
      "Warning: Search space not implemented for backdoor.econml.dr.ForestDRLearner, continuing with defaults instead...\n",
      "... Estimator: backdoor.econml.dr.ForestDRLearner \t ERUPT: 6.574549\n",
      "Best estimator: backdoor.econml.dml.LinearDML\n"
     ]
    }
   ],
   "source": [
    "\n",
    "estimator_list = [\"dml\",\"ForestDR\"]\n",
    "outcome = targets[0]\n",
    "auto_causality = AutoCausality(time_budget=1,components_time_budget=1,estimator_list=estimator_list)\n",
    "\n",
    "myresults = auto_causality.fit(train_df, test_df, treatment, outcome,\n",
    " features_W, features_X)\n",
    "\n",
    "print(f\"Best estimator: {auto_causality.best_estimator}\")\n"
   ]
  },
  {
   "cell_type": "code",
   "execution_count": 17,
   "id": "a9b3b465",
   "metadata": {},
   "outputs": [
    {
     "data": {
      "text/plain": [
       "{'backdoor.econml.dml.LinearDML': {'n_estimators': 4,\n",
       "  'max_leaves': 4,\n",
       "  'max_features': 0.31865134271588663}}"
      ]
     },
     "execution_count": 17,
     "metadata": {},
     "output_type": "execute_result"
    }
   ],
   "source": [
    "auto_causality.best_config_per_estimator"
   ]
  },
  {
   "cell_type": "code",
   "execution_count": 18,
   "id": "046a6ac0",
   "metadata": {},
   "outputs": [
    {
     "data": {
      "text/plain": [
       "{'n_estimators': 4, 'max_leaves': 4, 'max_features': 0.31865134271588663}"
      ]
     },
     "execution_count": 18,
     "metadata": {},
     "output_type": "execute_result"
    }
   ],
   "source": [
    "auto_causality.best_config"
   ]
  },
  {
   "cell_type": "code",
   "execution_count": null,
   "id": "92f5c5a7",
   "metadata": {},
   "outputs": [],
   "source": []
  }
 ],
 "metadata": {
  "kernelspec": {
   "display_name": "Python 3 (ipykernel)",
   "language": "python",
   "name": "python3"
  },
  "language_info": {
   "codemirror_mode": {
    "name": "ipython",
    "version": 3
   },
   "file_extension": ".py",
   "mimetype": "text/x-python",
   "name": "python",
   "nbconvert_exporter": "python",
   "pygments_lexer": "ipython3",
   "version": "3.9.7"
  },
  "toc": {
   "base_numbering": 1,
   "nav_menu": {},
   "number_sections": true,
   "sideBar": true,
   "skip_h1_title": false,
   "title_cell": "Table of Contents",
   "title_sidebar": "Contents",
   "toc_cell": false,
   "toc_position": {},
   "toc_section_display": true,
   "toc_window_display": false
  },
  "varInspector": {
   "cols": {
    "lenName": 16,
    "lenType": 16,
    "lenVar": 40
   },
   "kernels_config": {
    "python": {
     "delete_cmd_postfix": "",
     "delete_cmd_prefix": "del ",
     "library": "var_list.py",
     "varRefreshCmd": "print(var_dic_list())"
    },
    "r": {
     "delete_cmd_postfix": ") ",
     "delete_cmd_prefix": "rm(",
     "library": "var_list.r",
     "varRefreshCmd": "cat(var_dic_list()) "
    }
   },
   "types_to_exclude": [
    "module",
    "function",
    "builtin_function_or_method",
    "instance",
    "_Feature"
   ],
   "window_display": false
  }
 },
 "nbformat": 4,
 "nbformat_minor": 5
}
