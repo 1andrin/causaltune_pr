{
 "cells": [
  {
   "cell_type": "markdown",
   "id": "a34f30c6",
   "metadata": {},
   "source": [
    "## FLAML for hp optimisation and model selection\n",
    "We use FLAML twice, first to find the best component model for each estimator, and then to optimise the estimators themselves and choose the best estimator. Here we show how it's done"
   ]
  },
  {
   "cell_type": "code",
   "execution_count": 1,
   "id": "2d7480f9",
   "metadata": {},
   "outputs": [],
   "source": [
    "%load_ext autoreload\n",
    "%autoreload 2\n",
    "import os, sys\n",
    "import warnings\n",
    "warnings.filterwarnings('ignore') # suppress sklearn deprecation warnings for now.. \n",
    "\n",
    "root_path = root_path = os.path.realpath('../..')\n",
    "sys.path.append(os.path.join(root_path, \"auto-causality\"))"
   ]
  },
  {
   "cell_type": "code",
   "execution_count": 2,
   "id": "d8de5d4e",
   "metadata": {},
   "outputs": [],
   "source": [
    "from auto_causality import AutoCausality\n",
    "from auto_causality.datasets import synth_ihdp, preprocess_dataset"
   ]
  },
  {
   "cell_type": "markdown",
   "id": "e90d234a",
   "metadata": {},
   "source": [
    "### Model fitting & scoring\n",
    "Here we fit a (selection of) model(s) to the data and score them with the ERUPT metric on held-out data"
   ]
  },
  {
   "cell_type": "code",
   "execution_count": 3,
   "id": "f68c4d4c",
   "metadata": {},
   "outputs": [
    {
     "name": "stderr",
     "output_type": "stream",
     "text": [
      "[flaml.tune.tune: 03-08 19:01:00] {326} WARNING - Using CFO for search. To use BlendSearch, run: pip install flaml[blendsearch]\n",
      "[flaml.tune.tune: 03-08 19:01:00] {447} INFO - trial 1 config: {'fit_cate_intercept': 1, 'mc_iters': 1}\n"
     ]
    },
    {
     "name": "stdout",
     "output_type": "stream",
     "text": [
      "fitting estimators: ['backdoor.econml.dml.LinearDML', 'backdoor.econml.dml.SparseLinearDML', 'backdoor.econml.dr.LinearDRLearner', 'backdoor.econml.dr.SparseLinearDRLearner', 'backdoor.econml.metalearners.DomainAdaptationLearner']\n"
     ]
    },
    {
     "name": "stderr",
     "output_type": "stream",
     "text": [
      "[flaml.tune.tune: 03-08 19:01:13] {326} WARNING - Using CFO for search. To use BlendSearch, run: pip install flaml[blendsearch]\n",
      "[flaml.tune.tune: 03-08 19:01:13] {447} INFO - trial 1 config: {'fit_cate_intercept': 0, 'mc_iters': 7, 'n_alphas': 283, 'n_alphas_cov': 32, 'tol': 2e-07, 'max_iter': 100}\n"
     ]
    },
    {
     "name": "stdout",
     "output_type": "stream",
     "text": [
      "... Estimator: backdoor.econml.dml.LinearDML\n",
      " erupt (train): 6.453739\n",
      " qini (train): 0.020621\n",
      " auc (train): 0.561008\n",
      " ate (train): 4.058681\n",
      " r_score (train): 0.069940\n"
     ]
    },
    {
     "name": "stderr",
     "output_type": "stream",
     "text": [
      "[flaml.tune.tune: 03-08 19:02:38] {326} WARNING - Using CFO for search. To use BlendSearch, run: pip install flaml[blendsearch]\n",
      "[flaml.tune.tune: 03-08 19:02:38] {447} INFO - trial 1 config: {'fit_cate_intercept': 0, 'min_propensity': 2.960286081227452e-05, 'mc_iters': 2}\n"
     ]
    },
    {
     "name": "stdout",
     "output_type": "stream",
     "text": [
      "... Estimator: backdoor.econml.dml.SparseLinearDML\n",
      " erupt (train): 6.409045\n",
      " qini (train): 0.086559\n",
      " auc (train): 0.552376\n",
      " ate (train): 3.917408\n",
      " r_score (train): 0.070547\n"
     ]
    },
    {
     "name": "stderr",
     "output_type": "stream",
     "text": [
      "[flaml.tune.tune: 03-08 19:03:03] {326} WARNING - Using CFO for search. To use BlendSearch, run: pip install flaml[blendsearch]\n",
      "[flaml.tune.tune: 03-08 19:03:03] {447} INFO - trial 1 config: {'fit_cate_intercept': 0, 'n_alphas': 7, 'n_alphas_cov': 1, 'min_propensity': 0.05101108387221427, 'mc_iters': 0, 'tol': 1e-07, 'max_iter': 400, 'mc_agg': 'mean'}\n"
     ]
    },
    {
     "name": "stdout",
     "output_type": "stream",
     "text": [
      "... Estimator: backdoor.econml.dr.LinearDRLearner\n",
      " erupt (train): 6.445790\n",
      " qini (train): 0.017912\n",
      " auc (train): 0.557954\n",
      " ate (train): 3.909915\n",
      " r_score (train): 0.078284\n",
      "... Estimator: backdoor.econml.dr.SparseLinearDRLearner\n",
      " erupt (train): 6.446624\n",
      " qini (train): 0.033229\n",
      " auc (train): 0.557212\n",
      " ate (train): 3.990603\n",
      " r_score (train): 0.075832\n",
      "... Estimator: backdoor.econml.metalearners.DomainAdaptationLearner\n",
      " erupt (train): 6.446624\n",
      " qini (train): 0.033229\n",
      " auc (train): 0.557212\n",
      " ate (train): 3.990603\n",
      " r_score (train): 0.075832\n",
      "Best estimator: backdoor.econml.dml.LinearDML\n",
      "best config: {'n_estimators': 10, 'max_depth': 6, 'min_child_weight': 0.9999999999999993, 'learning_rate': 0.29999999999999993, 'subsample': 1.0, 'colsample_bylevel': 1.0, 'colsample_bytree': 1.0, 'reg_alpha': 0.0009765625, 'reg_lambda': 1.0}\n",
      "best score: 6.453738660329101\n"
     ]
    }
   ],
   "source": [
    "# import dataset\n",
    "data_df = synth_ihdp()\n",
    "data_df, features_X, features_W, targets, treatment = preprocess_dataset(data_df)\n",
    "\n",
    "# choose which estimators to fit\n",
    "estimator_list = [\"LinearDML\", \"LinearDRLearner\", \"DomainAdaptationLearner\"]\n",
    "\n",
    "# init autocausality object with chosen metric to optimise\n",
    "ac = AutoCausality(\n",
    "    time_budget=10, estimator_list=estimator_list, metric=\"erupt\", verbose=1\n",
    ")\n",
    "\n",
    "# run autocausality\n",
    "myresults = ac.fit(data_df, treatment, targets[0], features_W, features_X)\n",
    "\n",
    "# return best estimator\n",
    "print(f\"Best estimator: {ac.best_estimator}\")\n",
    "# config of best estimator:\n",
    "print(f\"best config: {ac.best_config}\")\n",
    "# best score:\n",
    "print(f\"best score: {ac.best_score}\")\n"
   ]
  }
 ],
 "metadata": {
  "kernelspec": {
   "display_name": "Python 3 (ipykernel)",
   "language": "python",
   "name": "python3"
  },
  "language_info": {
   "codemirror_mode": {
    "name": "ipython",
    "version": 3
   },
   "file_extension": ".py",
   "mimetype": "text/x-python",
   "name": "python",
   "nbconvert_exporter": "python",
   "pygments_lexer": "ipython3",
   "version": "3.9.7"
  }
 },
 "nbformat": 4,
 "nbformat_minor": 5
}
