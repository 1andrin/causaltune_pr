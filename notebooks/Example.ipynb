{
 "cells": [
  {
   "cell_type": "markdown",
   "id": "a34f30c6",
   "metadata": {},
   "source": [
    "## FLAML for hp optimisation and model selection\n",
    "We use FLAML twice, first to find the best component model for each estimator, and then to optimise the estimators themselves and choose the best estimator. Here we show how it's done"
   ]
  },
  {
   "cell_type": "code",
   "execution_count": 1,
   "id": "2d7480f9",
   "metadata": {},
   "outputs": [],
   "source": [
    "%load_ext autoreload\n",
    "%autoreload 2\n",
    "import os, sys\n",
    "import warnings\n",
    "warnings.filterwarnings('ignore') # suppress sklearn deprecation warnings for now.. \n",
    "\n",
    "import pandas as pd\n",
    "import numpy as np\n",
    "from sklearn.model_selection import train_test_split\n",
    "\n",
    "# the below checks for whether we run dowhy and auto-causality from source\n",
    "root_path = root_path = os.path.realpath('../..')\n",
    "try: \n",
    "    import auto_causality\n",
    "except ModuleNotFoundError:\n",
    "    sys.path.append(os.path.join(root_path, \"auto-causality\"))\n",
    "    \n",
    "try:\n",
    "    import dowhy\n",
    "except ModuleNotFoundError:\n",
    "    sys.path.append(os.path.join(root_path, \"dowhy\"))"
   ]
  },
  {
   "cell_type": "code",
   "execution_count": 2,
   "id": "f7f61a77",
   "metadata": {},
   "outputs": [
    {
     "data": {
      "text/html": [
       "<style>.container { width:100% !important; }</style>"
      ],
      "text/plain": [
       "<IPython.core.display.HTML object>"
      ]
     },
     "metadata": {},
     "output_type": "display_data"
    }
   ],
   "source": [
    "# this makes the notebook expand to full width of the browser window\n",
    "from IPython.core.display import display, HTML\n",
    "display(HTML(\"<style>.container { width:100% !important; }</style>\"))"
   ]
  },
  {
   "cell_type": "code",
   "execution_count": 3,
   "id": "df102130",
   "metadata": {},
   "outputs": [
    {
     "data": {
      "application/javascript": [
       "\n",
       "// turn off scrollable windows for large output\n",
       "IPython.OutputArea.prototype._should_scroll = function(lines) {\n",
       "    return false;\n",
       "}\n"
      ],
      "text/plain": [
       "<IPython.core.display.Javascript object>"
      ]
     },
     "metadata": {},
     "output_type": "display_data"
    }
   ],
   "source": [
    "%%javascript\n",
    "\n",
    "// turn off scrollable windows for large output\n",
    "IPython.OutputArea.prototype._should_scroll = function(lines) {\n",
    "    return false;\n",
    "}"
   ]
  },
  {
   "cell_type": "code",
   "execution_count": 5,
   "id": "d8de5d4e",
   "metadata": {},
   "outputs": [],
   "source": [
    "from auto_causality import AutoCausality\n",
    "from auto_causality.datasets import synth_ihdp\n",
    "from auto_causality.data_utils import preprocess_dataset\n",
    "from auto_causality.scoring import ate, group_ate"
   ]
  },
  {
   "cell_type": "markdown",
   "id": "e90d234a",
   "metadata": {},
   "source": [
    "### Model fitting & scoring\n",
    "Here we fit a (selection of) model(s) to the data and score them with the ERUPT metric on held-out data"
   ]
  },
  {
   "cell_type": "code",
   "execution_count": 7,
   "id": "7b1402f1",
   "metadata": {},
   "outputs": [],
   "source": [
    "# import dataset and pre-process it \n",
    "# that one-hot-encodes all categorical and int variables\n",
    "# because otherwise DoWhy/EconML will do it for us in hard-to-reproduce ways\n",
    "# if you don't want an int variable to be one-hot-encoded, \n",
    "# please cast it to float before preprocessing\n",
    "\n",
    "data_df = synth_ihdp()\n",
    "treatment = 'treatment'\n",
    "targets=['y_factual']\n",
    "data_df, features_X, features_W = preprocess_dataset(data_df, treatment, targets)\n",
    "outcome = targets[0]\n",
    "\n",
    "train_df, test_df = train_test_split(data_df, test_size=0.2)"
   ]
  },
  {
   "cell_type": "code",
   "execution_count": 8,
   "id": "f68c4d4c",
   "metadata": {},
   "outputs": [
    {
     "name": "stderr",
     "output_type": "stream",
     "text": [
      "[flaml.tune.tune: 05-02 14:44:33] {335} WARNING - Using CFO for search. To use BlendSearch, run: pip install flaml[blendsearch]\n",
      "[flaml.tune.tune: 05-02 14:44:33] {456} INFO - trial 1 config: {'estimator': {'estimator_name': 'backdoor.auto_causality.models.Dummy'}}\n"
     ]
    },
    {
     "name": "stdout",
     "output_type": "stream",
     "text": [
      "Initial configs: [{'estimator': {'estimator_name': 'backdoor.auto_causality.models.Dummy'}}, {'estimator': {'estimator_name': 'backdoor.econml.metalearners.SLearner'}}, {'estimator': {'estimator_name': 'backdoor.econml.metalearners.DomainAdaptationLearner'}}, {'estimator': {'estimator_name': 'backdoor.econml.dr.ForestDRLearner', 'min_propensity': 1e-06, 'n_estimators': 1000, 'min_samples_split': 5, 'min_samples_leaf': 5, 'min_weight_fraction_leaf': 0.0, 'max_features': 'auto', 'min_impurity_decrease': 0.0, 'max_samples': 0.45, 'min_balancedness_tol': 0.45, 'honest': True, 'subforest_size': 4}}, {'estimator': {'estimator_name': 'backdoor.econml.dml.CausalForestDML', 'drate': True, 'n_estimators': 100, 'criterion': 'mse', 'min_samples_split': 10, 'min_samples_leaf': 5, 'min_weight_fraction_leaf': 0.0, 'max_features': 'auto', 'min_impurity_decrease': 0.0, 'max_samples': 0.45, 'min_balancedness_tol': 0.45, 'honest': True, 'fit_intercept': True, 'subforest_size': 4}}, {'estimator': {'estimator_name': 'backdoor.auto_causality.models.TransformedOutcome'}}]\n",
      "{'estimator_name': 'backdoor.auto_causality.models.Dummy'}\n"
     ]
    },
    {
     "name": "stderr",
     "output_type": "stream",
     "text": [
      "[flaml.tune.tune: 05-02 14:45:31] {110} INFO - result: {'norm_erupt': 2.643584116404753, 'estimator_name': 'backdoor.auto_causality.models.Dummy', 'scores': {'train': {'erupt': 6.389034563236032, 'norm_erupt': 2.1791099314293527, 'qini': -0.06419486160233057, 'auc': 0.47135030949161466, 'ate': 4.0245515465994, 'intrp': <econml.cate_interpreter._interpreters.SingleTreeCateInterpreter object at 0x000001B42B62E3D0>, 'values':      treated  y_factual         p  policy  norm_policy   weights\n",
      "0        0.0   2.704396  0.186583    True         True  0.000000\n",
      "1        1.0   6.205641  0.186583    True        False  5.359551\n",
      "2        0.0   4.498734  0.186583    True         True  0.000000\n",
      "3        0.0   4.596620  0.186583    True        False  0.000000\n",
      "4        0.0   3.399457  0.186583    True         True  0.000000\n",
      "..       ...        ...       ...     ...          ...       ...\n",
      "472      0.0   1.052633  0.186583    True        False  0.000000\n",
      "473      1.0   6.295170  0.186583    True         True  5.359551\n",
      "474      0.0   3.550118  0.186583    True         True  0.000000\n",
      "475      1.0   7.342640  0.186583    True        False  5.359551\n",
      "476      0.0  11.268228  0.186583    True         True  0.000000\n",
      "\n",
      "[477 rows x 6 columns]}, 'validation': {'erupt': 6.348536944389343, 'norm_erupt': 2.643584116404753, 'qini': -0.03325065093943201, 'auc': 0.49233707383461933, 'ate': 3.779095900836882, 'intrp': <econml.cate_interpreter._interpreters.SingleTreeCateInterpreter object at 0x000001B42B62E9D0>, 'values':      treated  y_factual         p  policy  norm_policy  weights\n",
      "0        1.0   5.926609  0.166667    True         True      6.0\n",
      "1        0.0   1.625386  0.166667    True        False      0.0\n",
      "2        1.0   6.175582  0.166667    True         True      6.0\n",
      "3        0.0   2.573101  0.166667    True        False      0.0\n",
      "4        0.0   2.168364  0.166667    True        False      0.0\n",
      "..       ...        ...       ...     ...          ...      ...\n",
      "115      0.0   0.129384  0.166667    True        False      0.0\n",
      "116      0.0   6.889569  0.166667    True        False      0.0\n",
      "117      0.0   3.267119  0.166667    True         True      0.0\n",
      "118      0.0   1.618736  0.166667    True        False      0.0\n",
      "119      0.0   1.141389  0.166667    True        False      0.0\n",
      "\n",
      "[120 rows x 6 columns]}}, 'config': {'estimator': {'estimator_name': 'backdoor.auto_causality.models.Dummy'}}, 'training_iteration': 0, 'config/estimator': {'estimator_name': 'backdoor.auto_causality.models.Dummy'}, 'experiment_tag': 'exp', 'time_total_s': 58.21101427078247}\n",
      "[flaml.tune.tune: 05-02 14:45:31] {456} INFO - trial 2 config: {'estimator': {'estimator_name': 'backdoor.econml.metalearners.SLearner'}}\n"
     ]
    },
    {
     "name": "stdout",
     "output_type": "stream",
     "text": [
      "{'estimator_name': 'backdoor.econml.metalearners.SLearner'}\n"
     ]
    },
    {
     "name": "stderr",
     "output_type": "stream",
     "text": [
      "[flaml.tune.tune: 05-02 14:56:24] {110} INFO - result: {'norm_erupt': 2.7397746717607614, 'estimator_name': 'backdoor.econml.metalearners.SLearner', 'scores': {'train': {'erupt': 6.389034563236032, 'norm_erupt': 2.7055959460175822, 'qini': 0.031078713616757892, 'auc': 0.5541243514884452, 'ate': 3.8101140380418803, 'intrp': <econml.cate_interpreter._interpreters.SingleTreeCateInterpreter object at 0x000001B42C66ED00>, 'values':      treated  y_factual         p  policy  norm_policy   weights\n",
      "0        0.0   2.704396  0.186583    True         True  0.000000\n",
      "1        1.0   6.205641  0.186583    True        False  5.359551\n",
      "2        0.0   4.498734  0.186583    True        False  0.000000\n",
      "3        0.0   4.596620  0.186583    True        False  0.000000\n",
      "4        0.0   3.399457  0.186583    True        False  0.000000\n",
      "..       ...        ...       ...     ...          ...       ...\n",
      "472      0.0   1.052633  0.186583    True         True  0.000000\n",
      "473      1.0   6.295170  0.186583    True        False  5.359551\n",
      "474      0.0   3.550118  0.186583    True         True  0.000000\n",
      "475      1.0   7.342640  0.186583    True        False  5.359551\n",
      "476      0.0  11.268228  0.186583    True        False  0.000000\n",
      "\n",
      "[477 rows x 6 columns]}, 'validation': {'erupt': 6.348536944389343, 'norm_erupt': 2.7397746717607614, 'qini': -0.09233262382789491, 'auc': 0.5331277353190413, 'ate': 3.781987144509919, 'intrp': <econml.cate_interpreter._interpreters.SingleTreeCateInterpreter object at 0x000001B42C67D3D0>, 'values':      treated  y_factual         p  policy  norm_policy  weights\n",
      "0        1.0   5.926609  0.166667    True        False      6.0\n",
      "1        0.0   1.625386  0.166667    True         True      0.0\n",
      "2        1.0   6.175582  0.166667    True        False      6.0\n",
      "3        0.0   2.573101  0.166667    True         True      0.0\n",
      "4        0.0   2.168364  0.166667    True         True      0.0\n",
      "..       ...        ...       ...     ...          ...      ...\n",
      "115      0.0   0.129384  0.166667    True         True      0.0\n",
      "116      0.0   6.889569  0.166667    True        False      0.0\n",
      "117      0.0   3.267119  0.166667    True         True      0.0\n",
      "118      0.0   1.618736  0.166667    True         True      0.0\n",
      "119      0.0   1.141389  0.166667    True         True      0.0\n",
      "\n",
      "[120 rows x 6 columns]}}, 'config': {'estimator': {'estimator_name': 'backdoor.econml.metalearners.SLearner'}}, 'training_iteration': 0, 'config/estimator': {'estimator_name': 'backdoor.econml.metalearners.SLearner'}, 'experiment_tag': 'exp', 'time_total_s': 653.100289106369}\n",
      "[flaml.tune.tune: 05-02 14:56:24] {456} INFO - trial 3 config: {'estimator': {'estimator_name': 'backdoor.econml.metalearners.DomainAdaptationLearner'}}\n"
     ]
    },
    {
     "name": "stdout",
     "output_type": "stream",
     "text": [
      "{'estimator_name': 'backdoor.econml.metalearners.DomainAdaptationLearner'}\n"
     ]
    },
    {
     "name": "stderr",
     "output_type": "stream",
     "text": [
      "[flaml.tune.tune: 05-02 15:26:25] {110} INFO - result: {'norm_erupt': 2.91780471657086, 'estimator_name': 'backdoor.econml.metalearners.DomainAdaptationLearner', 'scores': {'train': {'erupt': 6.394325091946862, 'norm_erupt': 2.7071098041415813, 'qini': 0.04340815024564181, 'auc': 0.5826228329619279, 'ate': 3.979624915471649, 'intrp': <econml.cate_interpreter._interpreters.SingleTreeCateInterpreter object at 0x000001B42FC2FCD0>, 'values':      treated  y_factual         p  policy  norm_policy   weights\n",
      "0        0.0   2.704396  0.186583    True         True  0.000000\n",
      "1        1.0   6.205641  0.186583    True         True  5.378396\n",
      "2        0.0   4.498734  0.186583    True        False  0.000000\n",
      "3        0.0   4.596620  0.186583    True        False  0.000000\n",
      "4        0.0   3.399457  0.186583    True         True  0.000000\n",
      "..       ...        ...       ...     ...          ...       ...\n",
      "472      0.0   1.052633  0.186583    True         True  0.000000\n",
      "473      1.0   6.295170  0.186583    True        False  5.378396\n",
      "474      0.0   3.550118  0.186583    True         True  0.000000\n",
      "475      1.0   7.342640  0.186583    True         True  5.378396\n",
      "476      0.0  11.268228  0.186583   False        False  1.233704\n",
      "\n",
      "[477 rows x 6 columns]}, 'validation': {'erupt': 6.348536944389343, 'norm_erupt': 2.91780471657086, 'qini': -0.04543327486101745, 'auc': 0.5396333665698219, 'ate': 3.956425881394127, 'intrp': <econml.cate_interpreter._interpreters.SingleTreeCateInterpreter object at 0x000001B42FC3D3A0>, 'values':      treated  y_factual         p  policy  norm_policy  weights\n",
      "0        1.0   5.926609  0.166667    True         True      6.0\n",
      "1        0.0   1.625386  0.166667    True         True      0.0\n",
      "2        1.0   6.175582  0.166667    True         True      6.0\n",
      "3        0.0   2.573101  0.166667    True         True      0.0\n",
      "4        0.0   2.168364  0.166667    True         True      0.0\n",
      "..       ...        ...       ...     ...          ...      ...\n",
      "115      0.0   0.129384  0.166667    True         True      0.0\n",
      "116      0.0   6.889569  0.166667    True        False      0.0\n",
      "117      0.0   3.267119  0.166667    True         True      0.0\n",
      "118      0.0   1.618736  0.166667    True         True      0.0\n",
      "119      0.0   1.141389  0.166667    True         True      0.0\n",
      "\n",
      "[120 rows x 6 columns]}}, 'config': {'estimator': {'estimator_name': 'backdoor.econml.metalearners.DomainAdaptationLearner'}}, 'training_iteration': 0, 'config/estimator': {'estimator_name': 'backdoor.econml.metalearners.DomainAdaptationLearner'}, 'experiment_tag': 'exp', 'time_total_s': 1801.2430753707886}\n",
      "[flaml.tune.tune: 05-02 15:26:25] {456} INFO - trial 4 config: {'estimator': {'estimator_name': 'backdoor.econml.dr.ForestDRLearner', 'min_propensity': 1e-06, 'n_estimators': 1000, 'min_samples_split': 5, 'min_samples_leaf': 5, 'min_weight_fraction_leaf': 0.0, 'max_features': 'auto', 'min_impurity_decrease': 0.0, 'max_samples': 0.45, 'min_balancedness_tol': 0.45, 'honest': 1, 'subforest_size': 4}}\n"
     ]
    },
    {
     "name": "stdout",
     "output_type": "stream",
     "text": [
      "{'estimator_name': 'backdoor.econml.dr.ForestDRLearner', 'min_propensity': 1e-06, 'n_estimators': 1000, 'min_samples_split': 5, 'min_samples_leaf': 5, 'min_weight_fraction_leaf': 0.0, 'max_features': 'auto', 'min_impurity_decrease': 0.0, 'max_samples': 0.45, 'min_balancedness_tol': 0.45, 'honest': 1, 'subforest_size': 4}\n"
     ]
    },
    {
     "name": "stderr",
     "output_type": "stream",
     "text": [
      "[flaml.tune.tune: 05-02 15:46:31] {110} INFO - result: {'norm_erupt': 2.8042173510373987, 'estimator_name': 'backdoor.econml.dr.ForestDRLearner', 'scores': {'train': {'erupt': 6.389034563236032, 'norm_erupt': 2.8036503553956784, 'qini': 0.09733005414638386, 'auc': 0.5844271968848646, 'ate': 3.997875584461242, 'intrp': <econml.cate_interpreter._interpreters.SingleTreeCateInterpreter object at 0x000001B4304120A0>, 'values':      treated  y_factual         p  policy  norm_policy   weights\n",
      "0        0.0   2.704396  0.186583    True         True  0.000000\n",
      "1        1.0   6.205641  0.186583    True         True  5.359551\n",
      "2        0.0   4.498734  0.186583    True        False  0.000000\n",
      "3        0.0   4.596620  0.186583    True        False  0.000000\n",
      "4        0.0   3.399457  0.186583    True         True  0.000000\n",
      "..       ...        ...       ...     ...          ...       ...\n",
      "472      0.0   1.052633  0.186583    True         True  0.000000\n",
      "473      1.0   6.295170  0.186583    True        False  5.359551\n",
      "474      0.0   3.550118  0.186583    True         True  0.000000\n",
      "475      1.0   7.342640  0.186583    True         True  5.359551\n",
      "476      0.0  11.268228  0.186583    True        False  0.000000\n",
      "\n",
      "[477 rows x 6 columns]}, 'validation': {'erupt': 6.348536944389343, 'norm_erupt': 2.8042173510373987, 'qini': -0.05584736716009369, 'auc': 0.5342225343561499, 'ate': 3.990140415357587, 'intrp': <econml.cate_interpreter._interpreters.SingleTreeCateInterpreter object at 0x000001B430412730>, 'values':      treated  y_factual         p  policy  norm_policy  weights\n",
      "0        1.0   5.926609  0.166667    True         True      6.0\n",
      "1        0.0   1.625386  0.166667    True         True      0.0\n",
      "2        1.0   6.175582  0.166667    True         True      6.0\n",
      "3        0.0   2.573101  0.166667    True         True      0.0\n",
      "4        0.0   2.168364  0.166667    True         True      0.0\n",
      "..       ...        ...       ...     ...          ...      ...\n",
      "115      0.0   0.129384  0.166667    True         True      0.0\n",
      "116      0.0   6.889569  0.166667    True        False      0.0\n",
      "117      0.0   3.267119  0.166667    True         True      0.0\n",
      "118      0.0   1.618736  0.166667    True         True      0.0\n",
      "119      0.0   1.141389  0.166667    True         True      0.0\n",
      "\n",
      "[120 rows x 6 columns]}}, 'config': {'estimator': {'estimator_name': 'backdoor.econml.dr.ForestDRLearner', 'min_propensity': 1e-06, 'n_estimators': 1000, 'min_samples_split': 5, 'min_samples_leaf': 5, 'min_weight_fraction_leaf': 0.0, 'max_features': 'auto', 'min_impurity_decrease': 0.0, 'max_samples': 0.45, 'min_balancedness_tol': 0.45, 'honest': 1, 'subforest_size': 4}}, 'training_iteration': 0, 'config/estimator': {'estimator_name': 'backdoor.econml.dr.ForestDRLearner', 'min_propensity': 1e-06, 'n_estimators': 1000, 'min_samples_split': 5, 'min_samples_leaf': 5, 'min_weight_fraction_leaf': 0.0, 'max_features': 'auto', 'min_impurity_decrease': 0.0, 'max_samples': 0.45, 'min_balancedness_tol': 0.45, 'honest': 1, 'subforest_size': 4}, 'experiment_tag': 'exp', 'time_total_s': 1205.1736948490143}\n",
      "[flaml.tune.tune: 05-02 15:46:31] {456} INFO - trial 5 config: {'estimator': {'estimator_name': 'backdoor.econml.dml.CausalForestDML', 'drate': 1, 'n_estimators': 100, 'criterion': 'mse', 'min_samples_split': 10, 'min_samples_leaf': 5, 'min_weight_fraction_leaf': 0.0, 'max_features': 'auto', 'min_impurity_decrease': 0.0, 'max_samples': 0.45, 'min_balancedness_tol': 0.45, 'honest': 1, 'fit_intercept': 1, 'subforest_size': 4}}\n"
     ]
    },
    {
     "name": "stdout",
     "output_type": "stream",
     "text": [
      "{'estimator_name': 'backdoor.econml.dml.CausalForestDML', 'drate': 1, 'n_estimators': 100, 'criterion': 'mse', 'min_samples_split': 10, 'min_samples_leaf': 5, 'min_weight_fraction_leaf': 0.0, 'max_features': 'auto', 'min_impurity_decrease': 0.0, 'max_samples': 0.45, 'min_balancedness_tol': 0.45, 'honest': 1, 'fit_intercept': 1, 'subforest_size': 4}\n"
     ]
    },
    {
     "name": "stderr",
     "output_type": "stream",
     "text": [
      "[flaml.tune.tune: 05-02 16:06:34] {110} INFO - result: {'norm_erupt': 2.733966063748121, 'estimator_name': 'backdoor.econml.dml.CausalForestDML', 'scores': {'train': {'erupt': 6.389034563236032, 'norm_erupt': 2.8805595215654543, 'qini': 0.08455963281044819, 'auc': 0.5790754447142378, 'ate': 3.8521904721553697, 'intrp': <econml.cate_interpreter._interpreters.SingleTreeCateInterpreter object at 0x000001B439D53100>, 'values':      treated  y_factual         p  policy  norm_policy   weights\n",
      "0        0.0   2.704396  0.186583    True         True  0.000000\n",
      "1        1.0   6.205641  0.186583    True        False  5.359551\n",
      "2        0.0   4.498734  0.186583    True        False  0.000000\n",
      "3        0.0   4.596620  0.186583    True        False  0.000000\n",
      "4        0.0   3.399457  0.186583    True        False  0.000000\n",
      "..       ...        ...       ...     ...          ...       ...\n",
      "472      0.0   1.052633  0.186583    True         True  0.000000\n",
      "473      1.0   6.295170  0.186583    True        False  5.359551\n",
      "474      0.0   3.550118  0.186583    True         True  0.000000\n",
      "475      1.0   7.342640  0.186583    True        False  5.359551\n",
      "476      0.0  11.268228  0.186583    True        False  0.000000\n",
      "\n",
      "[477 rows x 6 columns]}, 'validation': {'erupt': 6.348536944389343, 'norm_erupt': 2.733966063748121, 'qini': 0.0028094727535578757, 'auc': 0.534863306470294, 'ate': 3.814892869537396, 'intrp': <econml.cate_interpreter._interpreters.SingleTreeCateInterpreter object at 0x000001B439D53640>, 'values':      treated  y_factual         p  policy  norm_policy  weights\n",
      "0        1.0   5.926609  0.166667    True         True      6.0\n",
      "1        0.0   1.625386  0.166667    True         True      0.0\n",
      "2        1.0   6.175582  0.166667    True         True      6.0\n",
      "3        0.0   2.573101  0.166667    True         True      0.0\n",
      "4        0.0   2.168364  0.166667    True         True      0.0\n",
      "..       ...        ...       ...     ...          ...      ...\n",
      "115      0.0   0.129384  0.166667    True         True      0.0\n",
      "116      0.0   6.889569  0.166667    True        False      0.0\n",
      "117      0.0   3.267119  0.166667    True         True      0.0\n",
      "118      0.0   1.618736  0.166667    True        False      0.0\n",
      "119      0.0   1.141389  0.166667    True         True      0.0\n",
      "\n",
      "[120 rows x 6 columns]}}, 'config': {'estimator': {'estimator_name': 'backdoor.econml.dml.CausalForestDML', 'drate': 1, 'n_estimators': 100, 'criterion': 'mse', 'min_samples_split': 10, 'min_samples_leaf': 5, 'min_weight_fraction_leaf': 0.0, 'max_features': 'auto', 'min_impurity_decrease': 0.0, 'max_samples': 0.45, 'min_balancedness_tol': 0.45, 'honest': 1, 'fit_intercept': 1, 'subforest_size': 4}}, 'training_iteration': 0, 'config/estimator': {'estimator_name': 'backdoor.econml.dml.CausalForestDML', 'drate': 1, 'n_estimators': 100, 'criterion': 'mse', 'min_samples_split': 10, 'min_samples_leaf': 5, 'min_weight_fraction_leaf': 0.0, 'max_features': 'auto', 'min_impurity_decrease': 0.0, 'max_samples': 0.45, 'min_balancedness_tol': 0.45, 'honest': 1, 'fit_intercept': 1, 'subforest_size': 4}, 'experiment_tag': 'exp', 'time_total_s': 1203.2104833126068}\n",
      "[flaml.tune.tune: 05-02 16:06:34] {456} INFO - trial 6 config: {'estimator': {'estimator_name': 'backdoor.auto_causality.models.TransformedOutcome'}}\n"
     ]
    },
    {
     "name": "stdout",
     "output_type": "stream",
     "text": [
      "{'estimator_name': 'backdoor.auto_causality.models.TransformedOutcome'}\n"
     ]
    },
    {
     "name": "stderr",
     "output_type": "stream",
     "text": [
      "[flaml.tune.tune: 05-02 16:16:37] {110} INFO - result: {'norm_erupt': 2.636768127582508, 'estimator_name': 'backdoor.auto_causality.models.TransformedOutcome', 'scores': {'train': {'erupt': 5.678211234630098, 'norm_erupt': 2.5606562772524453, 'qini': 0.15615764965781648, 'auc': 0.4908930744818894, 'ate': 4.532105, 'intrp': <econml.cate_interpreter._interpreters.SingleTreeCateInterpreter object at 0x000001B439C0D880>, 'values':      treated  y_factual         p  policy  norm_policy   weights\n",
      "0        0.0   2.704396  0.186583    True        False  0.000000\n",
      "1        1.0   6.205641  0.186583    True         True  4.677653\n",
      "2        0.0   4.498734  0.186583    True         True  0.000000\n",
      "3        0.0   4.596620  0.186583    True        False  0.000000\n",
      "4        0.0   3.399457  0.186583    True         True  0.000000\n",
      "..       ...        ...       ...     ...          ...       ...\n",
      "472      0.0   1.052633  0.186583    True        False  0.000000\n",
      "473      1.0   6.295170  0.186583    True         True  4.677653\n",
      "474      0.0   3.550118  0.186583    True         True  0.000000\n",
      "475      1.0   7.342640  0.186583    True         True  4.677653\n",
      "476      0.0  11.268228  0.186583    True         True  0.000000\n",
      "\n",
      "[477 rows x 6 columns]}, 'validation': {'erupt': 5.609103651122842, 'norm_erupt': 2.636768127582508, 'qini': -0.0072789938202974715, 'auc': 0.5112026094584984, 'ate': 5.174094, 'intrp': <econml.cate_interpreter._interpreters.SingleTreeCateInterpreter object at 0x000001B439C0DDC0>, 'values':      treated  y_factual         p  policy  norm_policy   weights\n",
      "0        1.0   5.926609  0.166667   False        False  0.000000\n",
      "1        0.0   1.625386  0.166667    True         True  0.000000\n",
      "2        1.0   6.175582  0.166667    True         True  6.382979\n",
      "3        0.0   2.573101  0.166667   False        False  1.276596\n",
      "4        0.0   2.168364  0.166667    True        False  0.000000\n",
      "..       ...        ...       ...     ...          ...       ...\n",
      "115      0.0   0.129384  0.166667    True         True  0.000000\n",
      "116      0.0   6.889569  0.166667    True         True  0.000000\n",
      "117      0.0   3.267119  0.166667    True        False  0.000000\n",
      "118      0.0   1.618736  0.166667    True        False  0.000000\n",
      "119      0.0   1.141389  0.166667   False        False  1.276596\n",
      "\n",
      "[120 rows x 6 columns]}}, 'config': {'estimator': {'estimator_name': 'backdoor.auto_causality.models.TransformedOutcome'}}, 'training_iteration': 0, 'config/estimator': {'estimator_name': 'backdoor.auto_causality.models.TransformedOutcome'}, 'experiment_tag': 'exp', 'time_total_s': 602.7905821800232}\n",
      "[flaml.tune.tune: 05-02 16:16:37] {456} INFO - trial 7 config: {'estimator': {'estimator_name': 'backdoor.econml.dr.ForestDRLearner', 'min_propensity': 0.0017231790528715186, 'n_estimators': 21, 'min_samples_split': 2, 'min_samples_leaf': 9, 'min_weight_fraction_leaf': 0.18432972513405987, 'max_features': 'log2', 'min_impurity_decrease': 2.6639242043080236, 'max_samples': 0.378105341302808, 'min_balancedness_tol': 0.006805783323944936, 'honest': 1, 'subforest_size': 8}}\n"
     ]
    },
    {
     "name": "stdout",
     "output_type": "stream",
     "text": [
      "{'estimator_name': 'backdoor.econml.dr.ForestDRLearner', 'min_propensity': 0.0017231790528715186, 'n_estimators': 21, 'min_samples_split': 2, 'min_samples_leaf': 9, 'min_weight_fraction_leaf': 0.18432972513405987, 'max_features': 'log2', 'min_impurity_decrease': 2.6639242043080236, 'max_samples': 0.378105341302808, 'min_balancedness_tol': 0.006805783323944936, 'honest': 1, 'subforest_size': 8}\n"
     ]
    },
    {
     "name": "stderr",
     "output_type": "stream",
     "text": [
      "[flaml.tune.tune: 05-02 16:36:40] {110} INFO - result: {'norm_erupt': 2.558943963050842, 'estimator': <dowhy.causal_estimator.CausalEstimate object at 0x000001B42B5DFAC0>, 'estimator_name': 'backdoor.econml.dr.ForestDRLearner', 'scores': {'train': {'erupt': 6.389034563236032, 'norm_erupt': 2.363611513309274, 'qini': -0.004328450015501336, 'auc': 0.5065125457617966, 'ate': 4.225177882411375, 'intrp': <econml.cate_interpreter._interpreters.SingleTreeCateInterpreter object at 0x000001B43B50F100>, 'values':      treated  y_factual         p  policy  norm_policy   weights\n",
      "0        0.0   2.704396  0.186583    True         True  0.000000\n",
      "1        1.0   6.205641  0.186583    True         True  5.359551\n",
      "2        0.0   4.498734  0.186583    True         True  0.000000\n",
      "3        0.0   4.596620  0.186583    True         True  0.000000\n",
      "4        0.0   3.399457  0.186583    True         True  0.000000\n",
      "..       ...        ...       ...     ...          ...       ...\n",
      "472      0.0   1.052633  0.186583    True         True  0.000000\n",
      "473      1.0   6.295170  0.186583    True         True  5.359551\n",
      "474      0.0   3.550118  0.186583    True         True  0.000000\n",
      "475      1.0   7.342640  0.186583    True         True  5.359551\n",
      "476      0.0  11.268228  0.186583    True         True  0.000000\n",
      "\n",
      "[477 rows x 6 columns]}, 'validation': {'erupt': 6.348536944389343, 'norm_erupt': 2.558943963050842, 'qini': 0.005613827687396164, 'auc': 0.4839384129984089, 'ate': 4.225177882411375, 'intrp': <econml.cate_interpreter._interpreters.SingleTreeCateInterpreter object at 0x000001B43B50F4C0>, 'values':      treated  y_factual         p  policy  norm_policy  weights\n",
      "0        1.0   5.926609  0.166667    True         True      6.0\n",
      "1        0.0   1.625386  0.166667    True         True      0.0\n",
      "2        1.0   6.175582  0.166667    True         True      6.0\n",
      "3        0.0   2.573101  0.166667    True         True      0.0\n",
      "4        0.0   2.168364  0.166667    True         True      0.0\n",
      "..       ...        ...       ...     ...          ...      ...\n",
      "115      0.0   0.129384  0.166667    True         True      0.0\n",
      "116      0.0   6.889569  0.166667    True         True      0.0\n",
      "117      0.0   3.267119  0.166667    True         True      0.0\n",
      "118      0.0   1.618736  0.166667    True         True      0.0\n",
      "119      0.0   1.141389  0.166667    True         True      0.0\n",
      "\n",
      "[120 rows x 6 columns]}}, 'config': {'estimator': {'estimator_name': 'backdoor.econml.dr.ForestDRLearner', 'min_propensity': 0.0017231790528715186, 'n_estimators': 21, 'min_samples_split': 2, 'min_samples_leaf': 9, 'min_weight_fraction_leaf': 0.18432972513405987, 'max_features': 'log2', 'min_impurity_decrease': 2.6639242043080236, 'max_samples': 0.378105341302808, 'min_balancedness_tol': 0.006805783323944936, 'honest': 1, 'subforest_size': 8}}, 'training_iteration': 0, 'config/estimator': {'estimator_name': 'backdoor.econml.dr.ForestDRLearner', 'min_propensity': 0.0017231790528715186, 'n_estimators': 21, 'min_samples_split': 2, 'min_samples_leaf': 9, 'min_weight_fraction_leaf': 0.18432972513405987, 'max_features': 'log2', 'min_impurity_decrease': 2.6639242043080236, 'max_samples': 0.378105341302808, 'min_balancedness_tol': 0.006805783323944936, 'honest': 1, 'subforest_size': 8}, 'experiment_tag': 'exp', 'time_total_s': 1203.1534428596497}\n",
      "[flaml.tune.tune: 05-02 16:36:40] {456} INFO - trial 8 config: {'estimator': {'estimator_name': 'backdoor.econml.dr.ForestDRLearner', 'min_propensity': 0.00151444794946084, 'n_estimators': 2, 'min_samples_split': 4, 'min_samples_leaf': 8, 'min_weight_fraction_leaf': 0.15437800297405868, 'max_features': 'auto', 'min_impurity_decrease': 3.784618715866711, 'max_samples': 0.3107998617035387, 'min_balancedness_tol': 0.04501275691617817, 'honest': 1, 'subforest_size': 8}}\n"
     ]
    },
    {
     "name": "stdout",
     "output_type": "stream",
     "text": [
      "{'estimator_name': 'backdoor.econml.dr.ForestDRLearner', 'min_propensity': 0.00151444794946084, 'n_estimators': 2, 'min_samples_split': 4, 'min_samples_leaf': 8, 'min_weight_fraction_leaf': 0.15437800297405868, 'max_features': 'auto', 'min_impurity_decrease': 3.784618715866711, 'max_samples': 0.3107998617035387, 'min_balancedness_tol': 0.04501275691617817, 'honest': 1, 'subforest_size': 8}\n"
     ]
    },
    {
     "name": "stderr",
     "output_type": "stream",
     "text": [
      "[flaml.tune.tune: 05-02 16:56:43] {110} INFO - result: {'norm_erupt': 2.558943963050842, 'estimator': <dowhy.causal_estimator.CausalEstimate object at 0x000001B43C045040>, 'estimator_name': 'backdoor.econml.dr.ForestDRLearner', 'scores': {'train': {'erupt': 6.389034563236032, 'norm_erupt': 2.363611513309274, 'qini': -0.004328450015501336, 'auc': 0.5065125457617966, 'ate': 4.143188683765622, 'intrp': <econml.cate_interpreter._interpreters.SingleTreeCateInterpreter object at 0x000001B43BEB7730>, 'values':      treated  y_factual         p  policy  norm_policy   weights\n",
      "0        0.0   2.704396  0.186583    True         True  0.000000\n",
      "1        1.0   6.205641  0.186583    True         True  5.359551\n",
      "2        0.0   4.498734  0.186583    True         True  0.000000\n",
      "3        0.0   4.596620  0.186583    True         True  0.000000\n",
      "4        0.0   3.399457  0.186583    True         True  0.000000\n",
      "..       ...        ...       ...     ...          ...       ...\n",
      "472      0.0   1.052633  0.186583    True         True  0.000000\n",
      "473      1.0   6.295170  0.186583    True         True  5.359551\n",
      "474      0.0   3.550118  0.186583    True         True  0.000000\n",
      "475      1.0   7.342640  0.186583    True         True  5.359551\n",
      "476      0.0  11.268228  0.186583    True         True  0.000000\n",
      "\n",
      "[477 rows x 6 columns]}, 'validation': {'erupt': 6.348536944389343, 'norm_erupt': 2.558943963050842, 'qini': 0.005613827687396164, 'auc': 0.4839384129984089, 'ate': 4.143188683765623, 'intrp': <econml.cate_interpreter._interpreters.SingleTreeCateInterpreter object at 0x000001B43BEB7A30>, 'values':      treated  y_factual         p  policy  norm_policy  weights\n",
      "0        1.0   5.926609  0.166667    True         True      6.0\n",
      "1        0.0   1.625386  0.166667    True         True      0.0\n",
      "2        1.0   6.175582  0.166667    True         True      6.0\n",
      "3        0.0   2.573101  0.166667    True         True      0.0\n",
      "4        0.0   2.168364  0.166667    True         True      0.0\n",
      "..       ...        ...       ...     ...          ...      ...\n",
      "115      0.0   0.129384  0.166667    True         True      0.0\n",
      "116      0.0   6.889569  0.166667    True         True      0.0\n",
      "117      0.0   3.267119  0.166667    True         True      0.0\n",
      "118      0.0   1.618736  0.166667    True         True      0.0\n",
      "119      0.0   1.141389  0.166667    True         True      0.0\n",
      "\n",
      "[120 rows x 6 columns]}}, 'config': {'estimator': {'estimator_name': 'backdoor.econml.dr.ForestDRLearner', 'min_propensity': 0.00151444794946084, 'n_estimators': 2, 'min_samples_split': 4, 'min_samples_leaf': 8, 'min_weight_fraction_leaf': 0.15437800297405868, 'max_features': 'auto', 'min_impurity_decrease': 3.784618715866711, 'max_samples': 0.3107998617035387, 'min_balancedness_tol': 0.04501275691617817, 'honest': 1, 'subforest_size': 8}}, 'training_iteration': 0, 'config/estimator': {'estimator_name': 'backdoor.econml.dr.ForestDRLearner', 'min_propensity': 0.00151444794946084, 'n_estimators': 2, 'min_samples_split': 4, 'min_samples_leaf': 8, 'min_weight_fraction_leaf': 0.15437800297405868, 'max_features': 'auto', 'min_impurity_decrease': 3.784618715866711, 'max_samples': 0.3107998617035387, 'min_balancedness_tol': 0.04501275691617817, 'honest': 1, 'subforest_size': 8}, 'experiment_tag': 'exp', 'time_total_s': 1203.3020431995392}\n"
     ]
    },
    {
     "name": "stdout",
     "output_type": "stream",
     "text": [
      "Best estimator: backdoor.econml.metalearners.DomainAdaptationLearner\n",
      "best config: {'estimator': {'estimator_name': 'backdoor.econml.metalearners.DomainAdaptationLearner'}}\n",
      "best score: 2.91780471657086\n"
     ]
    }
   ],
   "source": [
    "\n",
    "# If you want to use specific estimators, comment in the estimator_list below\n",
    "# to include any estimators whose full name contains any of the elements of \n",
    "# estimator_list\n",
    "# The other allowed values are 'all' and 'auto', the default is 'auto'\n",
    "ac = AutoCausality(\n",
    "    time_budget=120, \n",
    "#     estimator_list=[\n",
    "#             \"Dummy\",\n",
    "#             \"SparseLinearDML\",\n",
    "#             \"ForestDRLearner\",\n",
    "#             \"TransformedOutcome\",\n",
    "#             \"CausalForestDML\",\n",
    "#             \".LinearDML\",\n",
    "#             \"DomainAdaptationLearner\",\n",
    "#             \"SLearner\",\n",
    "#             \"XLearner\",\n",
    "#             \"TLearner\",\n",
    "#             \"Ortho\",\n",
    "#         ],\n",
    "    metric=\"norm_erupt\", \n",
    "    verbose=3,\n",
    "    components_verbose=2,\n",
    "    components_time_budget=10,\n",
    ")\n",
    "\n",
    "\n",
    "# run autocausality\n",
    "ac.fit(train_df, treatment, outcome, features_W, features_X)\n",
    "\n",
    "# return best estimator\n",
    "print(f\"Best estimator: {ac.best_estimator}\")\n",
    "# config of best estimator:\n",
    "print(f\"best config: {ac.best_config}\")\n",
    "# best score:\n",
    "print(f\"best score: {ac.best_score}\")\n"
   ]
  },
  {
   "cell_type": "code",
   "execution_count": null,
   "id": "1523bd16",
   "metadata": {},
   "outputs": [],
   "source": [
    "# we can now resume the fit to continue with the init_cfgs which we haven't tried yet\n",
    "# ac.fit(train_df, treatment, outcome, features_W, features_X,resume=True)\n",
    "# # return best estimator\n",
    "# print(f\"Best estimator: {ac.best_estimator}\")\n",
    "# # config of best estimator:\n",
    "# print(f\"best config: {ac.best_config}\")\n",
    "# # best score:\n",
    "# print(f\"best score: {ac.best_score}\")"
   ]
  },
  {
   "cell_type": "code",
   "execution_count": null,
   "id": "14c618c9",
   "metadata": {},
   "outputs": [],
   "source": [
    "ac.results.results"
   ]
  },
  {
   "cell_type": "code",
   "execution_count": null,
   "id": "a07c0bad",
   "metadata": {},
   "outputs": [],
   "source": [
    "# score all estimators on the test set, which we've kept aside up till now\n",
    "from auto_causality.scoring import make_scores\n",
    "for est_name, scr in ac.scores.items():\n",
    "    scr['scores']['test'] = make_scores(scr['estimator'], test_df)"
   ]
  },
  {
   "cell_type": "code",
   "execution_count": null,
   "id": "4288a1ed",
   "metadata": {},
   "outputs": [],
   "source": [
    "%matplotlib inline\n",
    "import matplotlib\n",
    "import matplotlib.pyplot as plt\n",
    "import matplotlib.ticker as mtick\n",
    "\n",
    "colors = ([matplotlib.colors.CSS4_COLORS['black']] +\n",
    "    list(matplotlib.colors.TABLEAU_COLORS) + [\n",
    "    matplotlib.colors.CSS4_COLORS['lime'],\n",
    "    matplotlib.colors.CSS4_COLORS['yellow'],\n",
    "    matplotlib.colors.CSS4_COLORS['pink']\n",
    "])\n",
    "\n",
    "\n",
    "plt.figure(figsize = (7,5))\n",
    "plt.title(outcome)\n",
    "\n",
    "m1 = \"erupt\"\n",
    "m2 = \"norm_erupt\"\n",
    "\n",
    "for (est, scr), col in zip(ac.scores.items(),colors):\n",
    "    try:\n",
    "        sc = [scr[\"scores\"]['train'][m1], scr[\"scores\"]['validation'][m1], scr[\"scores\"]['test'][m1]]\n",
    "        crv = [scr[\"scores\"]['train'][m2], scr[\"scores\"]['validation'][m2], scr[\"scores\"]['test'][m2]]\n",
    "        plt.plot(sc, crv, color=col, marker=\"o\", label=est)\n",
    "        plt.scatter(sc[1:2],crv[1:2], c=col, s=70, label=\"_nolegend_\" )\n",
    "        plt.scatter(sc[2:],crv[2:], c=col, s=120, label=\"_nolegend_\" )\n",
    "\n",
    "    except:\n",
    "        pass\n",
    "plt.xlabel(m1)\n",
    "plt.ylabel(m2)\n",
    "\n",
    "plt.legend(bbox_to_anchor=(1.04,1), borderaxespad=0)\n",
    "\n",
    "plt.grid()\n",
    "plt.show()\n"
   ]
  },
  {
   "cell_type": "code",
   "execution_count": null,
   "id": "7e31dd00",
   "metadata": {},
   "outputs": [],
   "source": [
    "scr = ac.scores[ac.best_estimator]\n",
    "intrp = scr[\"scores\"]['validation']['intrp']\n",
    "plt.figure(figsize=(15, 7))\n",
    "intrp.plot(feature_names=intrp.feature_names, fontsize=10)\n",
    "plt.title(f\"{ac.best_estimator}_{outcome}\")\n",
    "plt.show()\n"
   ]
  },
  {
   "cell_type": "code",
   "execution_count": null,
   "id": "8d544dfa",
   "metadata": {},
   "outputs": [],
   "source": [
    "# TODO: add SHAP plots!\n",
    "import matplotlib.pyplot as plt\n",
    "import shap\n",
    "\n",
    "# and now let's visualize feature importances!\n",
    "from auto_causality.shap import shap_values\n",
    "\n",
    "# Shapley values calculation can be slow so let's subsample\n",
    "this_df = test_df.sample(100)\n",
    "\n",
    "\n",
    "scr = ac.scores[ac.best_estimator]\n",
    "print(outcome, ac.best_estimator)\n",
    "est = ac.model\n",
    "shaps = shap_values(est, this_df)\n",
    "\n",
    "plt.title(outcome + '_' + ac.best_estimator.split('.')[-1])\n",
    "shap.summary_plot(shaps, this_df[est.estimator._effect_modifier_names])\n",
    "plt.show()\n"
   ]
  },
  {
   "cell_type": "code",
   "execution_count": null,
   "id": "052cf5b8",
   "metadata": {},
   "outputs": [],
   "source": [
    "from auto_causality.scoring import  group_ate\n",
    "# plot out-of sample difference of outcomes between treated and untreated for the points where a model predicts positive vs negative impact\n",
    "my_est = ac.best_estimator\n",
    "stats = []\n",
    "\n",
    "v = ac.scores[my_est]['scores']['test']['values']\n",
    "\n",
    "sts = group_ate(v['treated'], v[outcome], v['norm_policy'])\n",
    "\n",
    "display(sts)\n",
    "\n",
    "\n",
    "colors = (matplotlib.colors.CSS4_COLORS['black'],\n",
    "    matplotlib.colors.CSS4_COLORS['red'],\n",
    "    matplotlib.colors.CSS4_COLORS['blue'])\n",
    "\n",
    "grp = sts[\"policy\"].unique()\n",
    "\n",
    "for i,(p,c) in enumerate(zip(grp, colors)):\n",
    "    st = sts[sts[\"policy\"] == p]\n",
    "    plt.errorbar(np.array(range(len(st))) +0.1*i, st[\"mean\"].values[0],  yerr = st[\"std\"].values[0], color=c)\n",
    "plt.legend(grp)\n",
    "plt.grid(True)\n",
    "plt.title(my_est.split('.')[-1])\n",
    "plt.show()"
   ]
  }
 ],
 "metadata": {
  "interpreter": {
   "hash": "0d241d6181a28e0c55bf80af2e86a59829cac5369d348f4b4c4ec88c80f02ee8"
  },
  "kernelspec": {
   "display_name": "Python 3 (ipykernel)",
   "language": "python",
   "name": "python3"
  },
  "language_info": {
   "codemirror_mode": {
    "name": "ipython",
    "version": 3
   },
   "file_extension": ".py",
   "mimetype": "text/x-python",
   "name": "python",
   "nbconvert_exporter": "python",
   "pygments_lexer": "ipython3",
   "version": "3.9.7"
  }
 },
 "nbformat": 4,
 "nbformat_minor": 5
}
