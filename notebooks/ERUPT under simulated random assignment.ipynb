{
    "cells": [
        {
            "attachments": {},
            "cell_type": "markdown",
            "id": "a34f30c6",
            "metadata": {
                "pycharm": {
                    "name": "#%% md\n"
                }
            },
            "source": [
                "## ERUPT under simulated random assignment"
            ]
        },
        {
            "cell_type": "code",
            "execution_count": 13,
            "id": "c37a7a94",
            "metadata": {},
            "outputs": [],
            "source": [
                "%load_ext autoreload\n",
                "%autoreload 2\n",
                "import os, sys\n",
                "import warnings\n",
                "warnings.filterwarnings('ignore') # suppress sklearn deprecation warnings for now..\n",
                "\n",
                "import pandas as pd\n",
                "import numpy as np\n",
                "from sklearn.model_selection import train_test_split\n",
                "\n",
                "# the below checks for whether we run dowhy, causaltune, and FLAML from source\n",
                "root_path = root_path = os.path.realpath('../..')\n",
                "try:\n",
                "    import causaltune\n",
                "except ModuleNotFoundError:\n",
                "    sys.path.append(os.path.join(root_path, \"auto-causality\"))\n",
                "\n",
                "try:\n",
                "    import dowhy\n",
                "except ModuleNotFoundError:\n",
                "    sys.path.append(os.path.join(root_path, \"dowhy\"))\n",
                "\n",
                "try:\n",
                "    import flaml\n",
                "except ModuleNotFoundError:\n",
                "    sys.path.append(os.path.join(root_path, \"FLAML\"))\n",
                "\n",
                "from causaltune import CausalTune\n",
                "from causaltune.datasets import generate_non_random_dataset\n",
                "from causaltune.erupt import DummyPropensity, ERUPT\n"
            ]
        },
        {
            "cell_type": "code",
            "execution_count": 14,
            "id": "53241021",
            "metadata": {
                "pycharm": {
                    "name": "#%%\n"
                }
            },
            "outputs": [
                {
                    "data": {
                        "text/html": [
                            "<style>.container { width:100% !important; }</style>"
                        ],
                        "text/plain": [
                            "<IPython.core.display.HTML object>"
                        ]
                    },
                    "metadata": {},
                    "output_type": "display_data"
                }
            ],
            "source": [
                "# this makes the notebook expand to full width of the browser window\n",
                "from IPython.core.display import display, HTML\n",
                "display(HTML(\"<style>.container { width:100% !important; }</style>\"))"
            ]
        },
        {
            "cell_type": "code",
            "execution_count": 15,
            "id": "5ed9b5f7",
            "metadata": {
                "pycharm": {
                    "name": "#%%\n"
                }
            },
            "outputs": [
                {
                    "data": {
                        "application/javascript": "\n// turn off scrollable windows for large output\nIPython.OutputArea.prototype._should_scroll = function(lines) {\n    return false;\n}\n",
                        "text/plain": [
                            "<IPython.core.display.Javascript object>"
                        ]
                    },
                    "metadata": {},
                    "output_type": "display_data"
                }
            ],
            "source": [
                "%%javascript\n",
                "\n",
                "// turn off scrollable windows for large output\n",
                "IPython.OutputArea.prototype._should_scroll = function(lines) {\n",
                "    return false;\n",
                "}"
            ]
        },
        {
            "attachments": {},
            "cell_type": "markdown",
            "id": "af5333b0",
            "metadata": {},
            "source": [
                "## Loading data and model training"
            ]
        },
        {
            "cell_type": "code",
            "execution_count": null,
            "id": "a0211b9a",
            "metadata": {},
            "outputs": [],
            "source": [
                "# load toy dataset with non-random assignment and apply standard pre-processing\n",
                "cd = generate_non_random_dataset()\n",
                "cd.preprocess_dataset()"
            ]
        },
        {
            "cell_type": "code",
            "execution_count": null,
            "id": "6cec1abf",
            "metadata": {},
            "outputs": [],
            "source": [
                "display(cd.data.head())"
            ]
        },
        {
            "attachments": {},
            "cell_type": "markdown",
            "id": "19bcfc2e",
            "metadata": {},
            "source": [
                "## Random ERUPT"
            ]
        },
        {
            "attachments": {},
            "cell_type": "markdown",
            "id": "2bea4e38",
            "metadata": {},
            "source": [
                "Below we demonstrate how to use Estimated Response Under Proposed Treatment (ERUPT) to estimate the average treatment effect had the treatment been assigned randomly. Recall that the dataset used in this example is constructed in a way that the treatment propensity is a function of a unit's covariates."
            ]
        },
        {
            "cell_type": "code",
            "execution_count": 48,
            "id": "a30aa2ff",
            "metadata": {},
            "outputs": [],
            "source": [
                "use_df = cd.data.copy()\n",
                "\n",
                "# define some variables to be used below\n",
                "propensities = use_df['propensity']\n",
                "actual_treatment = use_df['T']\n",
                "outcome = use_df['Y']\n",
                "\n",
                "# define the random assignment policy\n",
                "random_policy = np.random.randint(0,2, size=len(use_df))"
            ]
        },
        {
            "cell_type": "code",
            "execution_count": 58,
            "id": "df8cf30c",
            "metadata": {},
            "outputs": [
                {
                    "name": "stdout",
                    "output_type": "stream",
                    "text": [
                        "Average effect had treatment been assigned randomly: 0.8301\n"
                    ]
                }
            ],
            "source": [
                "# define a propensity model that will simply return the propensities when calling predict_proba\n",
                "propensity_model = DummyPropensity(p=propensities, treatment=actual_treatment)\n",
                "\n",
                "# obtain ERUPT under random policy\n",
                "e = ERUPT(treatment_name='T', propensity_model=propensity_model)\n",
                "\n",
                "print(f'Average effect had treatment been assigned randomly: {np.round(e.score(df=use_df,outcome=outcome,policy=random_policy),4)}')"
            ]
        },
        {
            "attachments": {},
            "cell_type": "markdown",
            "id": "a54530bf",
            "metadata": {},
            "source": [
                "For more details on the implementation, consult [Hitsch and Misra (2018)](https://papers.ssrn.com/sol3/papers.cfm?abstract_id=3111957). Note also that we assume that treatment takes integer values from 0 to n."
            ]
        }
    ],
    "metadata": {
        "kernelspec": {
            "display_name": "causality",
            "language": "python",
            "name": "python3"
        },
        "language_info": {
            "codemirror_mode": {
                "name": "ipython",
                "version": 3
            },
            "file_extension": ".py",
            "mimetype": "text/x-python",
            "name": "python",
            "nbconvert_exporter": "python",
            "pygments_lexer": "ipython3",
            "version": "3.9.16"
        }
    },
    "nbformat": 4,
    "nbformat_minor": 5
}
