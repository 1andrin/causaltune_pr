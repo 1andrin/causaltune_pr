{
    "cells": [
        {
            "attachments": {},
            "cell_type": "markdown",
            "id": "a34f30c6",
            "metadata": {
                "pycharm": {
                    "name": "#%% md\n"
                }
            },
            "source": [
                "## ERUPT under simulated random assignment"
            ]
        },
        {
            "cell_type": "code",
            "execution_count": 1,
            "id": "c37a7a94",
            "metadata": {},
            "outputs": [],
            "source": [
                "%load_ext autoreload\n",
                "%autoreload 2\n",
                "import os, sys\n",
                "import warnings\n",
                "warnings.filterwarnings('ignore') # suppress sklearn deprecation warnings for now..\n",
                "\n",
                "import pandas as pd\n",
                "import numpy as np\n",
                "from sklearn.model_selection import train_test_split\n",
                "\n",
                "# the below checks for whether we run dowhy, causaltune, and FLAML from source\n",
                "root_path = root_path = os.path.realpath('../..')\n",
                "try:\n",
                "    import causaltune\n",
                "except ModuleNotFoundError:\n",
                "    sys.path.append(os.path.join(root_path, \"auto-causality\"))\n",
                "\n",
                "try:\n",
                "    import dowhy\n",
                "except ModuleNotFoundError:\n",
                "    sys.path.append(os.path.join(root_path, \"dowhy\"))\n",
                "\n",
                "try:\n",
                "    import flaml\n",
                "except ModuleNotFoundError:\n",
                "    sys.path.append(os.path.join(root_path, \"FLAML\"))\n",
                "\n",
                "from causaltune import CausalTune\n",
                "from causaltune.datasets import generate_non_random_dataset\n",
                "from causaltune.erupt import DummyPropensity, ERUPT\n"
            ]
        },
        {
            "cell_type": "code",
            "execution_count": 2,
            "id": "53241021",
            "metadata": {
                "pycharm": {
                    "name": "#%%\n"
                }
            },
            "outputs": [
                {
                    "data": {
                        "text/html": [
                            "<style>.container { width:100% !important; }</style>"
                        ],
                        "text/plain": [
                            "<IPython.core.display.HTML object>"
                        ]
                    },
                    "metadata": {},
                    "output_type": "display_data"
                }
            ],
            "source": [
                "# this makes the notebook expand to full width of the browser window\n",
                "from IPython.core.display import display, HTML\n",
                "display(HTML(\"<style>.container { width:100% !important; }</style>\"))"
            ]
        },
        {
            "cell_type": "code",
            "execution_count": 3,
            "id": "5ed9b5f7",
            "metadata": {
                "pycharm": {
                    "name": "#%%\n"
                }
            },
            "outputs": [
                {
                    "data": {
                        "application/javascript": "\n// turn off scrollable windows for large output\nIPython.OutputArea.prototype._should_scroll = function(lines) {\n    return false;\n}\n",
                        "text/plain": [
                            "<IPython.core.display.Javascript object>"
                        ]
                    },
                    "metadata": {},
                    "output_type": "display_data"
                }
            ],
            "source": [
                "%%javascript\n",
                "\n",
                "// turn off scrollable windows for large output\n",
                "IPython.OutputArea.prototype._should_scroll = function(lines) {\n",
                "    return false;\n",
                "}"
            ]
        },
        {
            "attachments": {},
            "cell_type": "markdown",
            "id": "af5333b0",
            "metadata": {},
            "source": [
                "## Loading data and model training"
            ]
        },
        {
            "cell_type": "code",
            "execution_count": 4,
            "id": "a0211b9a",
            "metadata": {},
            "outputs": [],
            "source": [
                "# load toy dataset with non-random assignment and apply standard pre-processing\n",
                "cd = generate_non_random_dataset()\n",
                "cd.preprocess_dataset()"
            ]
        },
        {
            "cell_type": "code",
            "execution_count": 5,
            "id": "6cec1abf",
            "metadata": {},
            "outputs": [
                {
                    "data": {
                        "text/html": [
                            "<div>\n",
                            "<style scoped>\n",
                            "    .dataframe tbody tr th:only-of-type {\n",
                            "        vertical-align: middle;\n",
                            "    }\n",
                            "\n",
                            "    .dataframe tbody tr th {\n",
                            "        vertical-align: top;\n",
                            "    }\n",
                            "\n",
                            "    .dataframe thead th {\n",
                            "        text-align: right;\n",
                            "    }\n",
                            "</style>\n",
                            "<table border=\"1\" class=\"dataframe\">\n",
                            "  <thead>\n",
                            "    <tr style=\"text-align: right;\">\n",
                            "      <th></th>\n",
                            "      <th>T</th>\n",
                            "      <th>Y</th>\n",
                            "      <th>random</th>\n",
                            "      <th>X1</th>\n",
                            "      <th>X2</th>\n",
                            "      <th>X3</th>\n",
                            "      <th>X4</th>\n",
                            "      <th>X5</th>\n",
                            "      <th>propensity</th>\n",
                            "    </tr>\n",
                            "  </thead>\n",
                            "  <tbody>\n",
                            "    <tr>\n",
                            "      <th>0</th>\n",
                            "      <td>0</td>\n",
                            "      <td>-0.072668</td>\n",
                            "      <td>1.0</td>\n",
                            "      <td>0.270103</td>\n",
                            "      <td>-0.263476</td>\n",
                            "      <td>1.330273</td>\n",
                            "      <td>-1.518261</td>\n",
                            "      <td>0.239436</td>\n",
                            "      <td>0.309511</td>\n",
                            "    </tr>\n",
                            "    <tr>\n",
                            "      <th>1</th>\n",
                            "      <td>0</td>\n",
                            "      <td>0.041597</td>\n",
                            "      <td>0.0</td>\n",
                            "      <td>-0.083365</td>\n",
                            "      <td>-1.025096</td>\n",
                            "      <td>-0.826468</td>\n",
                            "      <td>-1.075895</td>\n",
                            "      <td>0.870816</td>\n",
                            "      <td>0.285757</td>\n",
                            "    </tr>\n",
                            "    <tr>\n",
                            "      <th>2</th>\n",
                            "      <td>1</td>\n",
                            "      <td>2.386202</td>\n",
                            "      <td>0.0</td>\n",
                            "      <td>-0.193434</td>\n",
                            "      <td>0.930571</td>\n",
                            "      <td>0.853347</td>\n",
                            "      <td>-1.515284</td>\n",
                            "      <td>-1.445950</td>\n",
                            "      <td>0.558055</td>\n",
                            "    </tr>\n",
                            "    <tr>\n",
                            "      <th>3</th>\n",
                            "      <td>0</td>\n",
                            "      <td>-1.466616</td>\n",
                            "      <td>1.0</td>\n",
                            "      <td>0.088129</td>\n",
                            "      <td>0.567949</td>\n",
                            "      <td>0.932358</td>\n",
                            "      <td>-0.456103</td>\n",
                            "      <td>-0.576629</td>\n",
                            "      <td>0.546158</td>\n",
                            "    </tr>\n",
                            "    <tr>\n",
                            "      <th>4</th>\n",
                            "      <td>0</td>\n",
                            "      <td>1.272867</td>\n",
                            "      <td>1.0</td>\n",
                            "      <td>0.805338</td>\n",
                            "      <td>0.405812</td>\n",
                            "      <td>0.537663</td>\n",
                            "      <td>-1.292221</td>\n",
                            "      <td>0.709316</td>\n",
                            "      <td>0.558887</td>\n",
                            "    </tr>\n",
                            "  </tbody>\n",
                            "</table>\n",
                            "</div>"
                        ],
                        "text/plain": [
                            "   T         Y  random        X1        X2        X3        X4        X5  \\\n",
                            "0  0 -0.072668     1.0  0.270103 -0.263476  1.330273 -1.518261  0.239436   \n",
                            "1  0  0.041597     0.0 -0.083365 -1.025096 -0.826468 -1.075895  0.870816   \n",
                            "2  1  2.386202     0.0 -0.193434  0.930571  0.853347 -1.515284 -1.445950   \n",
                            "3  0 -1.466616     1.0  0.088129  0.567949  0.932358 -0.456103 -0.576629   \n",
                            "4  0  1.272867     1.0  0.805338  0.405812  0.537663 -1.292221  0.709316   \n",
                            "\n",
                            "   propensity  \n",
                            "0    0.309511  \n",
                            "1    0.285757  \n",
                            "2    0.558055  \n",
                            "3    0.546158  \n",
                            "4    0.558887  "
                        ]
                    },
                    "metadata": {},
                    "output_type": "display_data"
                }
            ],
            "source": [
                "display(cd.data.head())"
            ]
        },
        {
            "attachments": {},
            "cell_type": "markdown",
            "id": "19bcfc2e",
            "metadata": {},
            "source": [
                "## Random ERUPT"
            ]
        },
        {
            "attachments": {},
            "cell_type": "markdown",
            "id": "2bea4e38",
            "metadata": {},
            "source": [
                "Below we demonstrate how to use Estimated Response Under Proposed Treatment (ERUPT) to estimate the average treatment effect had the treatment been assigned randomly. Recall that the dataset used in this example is constructed in a way that the treatment propensity is a function of a unit's covariates."
            ]
        },
        {
            "cell_type": "code",
            "execution_count": 32,
            "id": "e8afee5a",
            "metadata": {},
            "outputs": [],
            "source": [
                "# computing mean ERUPT over 10 bootstrapped samples\n",
                "\n",
                "scores_list = []\n",
                "\n",
                "for i in range(10):\n",
                "\n",
                "    bootstrap_df = use_df.sample(frac=1, replace=True)\n",
                "    propensities = bootstrap_df['propensity']\n",
                "    actual_treatment = bootstrap_df['T']\n",
                "    outcome = bootstrap_df['Y']\n",
                "\n",
                "    # define the random assignment policy\n",
                "    random_policy = np.random.randint(0,2, size=len(bootstrap_df))\n",
                "\n",
                "    # define a propensity model that will simply return the propensities when calling predict_proba\n",
                "    propensity_model = DummyPropensity(p=propensities, treatment=actual_treatment)\n",
                "\n",
                "    # obtain ERUPT under random policy\n",
                "    e = ERUPT(treatment_name='T', propensity_model=propensity_model)\n",
                "    scores_list.append(e.score(df=use_df,outcome=outcome,policy=random_policy))\n",
                "\n",
                "erupt_mean = np.mean(scores_list)\n",
                "erupt_sd = np.std(scores_list)"
            ]
        },
        {
            "cell_type": "code",
            "execution_count": null,
            "id": "438112f2",
            "metadata": {},
            "outputs": [],
            "source": [
                "# compute naive ate as difference in means\n",
                "naive_ate, naive_sd, _ = ct.scorer.naive_ate(ct.test_df['T'], ct.test_df['Y'])"
            ]
        },
        {
            "cell_type": "code",
            "execution_count": 36,
            "id": "a0f6d079",
            "metadata": {},
            "outputs": [
                {
                    "data": {
                        "text/html": [
                            "<div>\n",
                            "<style scoped>\n",
                            "    .dataframe tbody tr th:only-of-type {\n",
                            "        vertical-align: middle;\n",
                            "    }\n",
                            "\n",
                            "    .dataframe tbody tr th {\n",
                            "        vertical-align: top;\n",
                            "    }\n",
                            "\n",
                            "    .dataframe thead th {\n",
                            "        text-align: right;\n",
                            "    }\n",
                            "</style>\n",
                            "<table border=\"1\" class=\"dataframe\">\n",
                            "  <thead>\n",
                            "    <tr style=\"text-align: right;\">\n",
                            "      <th></th>\n",
                            "      <th>estimated_effect</th>\n",
                            "      <th>standard_error</th>\n",
                            "    </tr>\n",
                            "  </thead>\n",
                            "  <tbody>\n",
                            "    <tr>\n",
                            "      <th>naive_ate</th>\n",
                            "      <td>2.027285</td>\n",
                            "      <td>0.128181</td>\n",
                            "    </tr>\n",
                            "    <tr>\n",
                            "      <th>random_erupt</th>\n",
                            "      <td>0.679270</td>\n",
                            "      <td>0.215763</td>\n",
                            "    </tr>\n",
                            "  </tbody>\n",
                            "</table>\n",
                            "</div>"
                        ],
                        "text/plain": [
                            "              estimated_effect  standard_error\n",
                            "naive_ate             2.027285        0.128181\n",
                            "random_erupt          0.679270        0.215763"
                        ]
                    },
                    "metadata": {},
                    "output_type": "display_data"
                }
            ],
            "source": [
                "# comparison of naive ate to mean random erupt over 10 bootstrap runs\n",
                "erupt_df = pd.DataFrame([[naive_ate,naive_sd],[erupt_mean,erupt_sd]], columns=['estimated_effect', 'sd'], index=['naive_ate','random_erupt'])\n",
                "display(erupt_df)"
            ]
        },
        {
            "attachments": {},
            "cell_type": "markdown",
            "id": "a54530bf",
            "metadata": {},
            "source": [
                "For more details on the ERUPT implementation, consult [Hitsch and Misra (2018)](https://papers.ssrn.com/sol3/papers.cfm?abstract_id=3111957). Note also that we assume that treatment takes integer values from 0 to n."
            ]
        }
    ],
    "metadata": {
        "kernelspec": {
            "display_name": "causality",
            "language": "python",
            "name": "python3"
        },
        "language_info": {
            "codemirror_mode": {
                "name": "ipython",
                "version": 3
            },
            "file_extension": ".py",
            "mimetype": "text/x-python",
            "name": "python",
            "nbconvert_exporter": "python",
            "pygments_lexer": "ipython3",
            "version": "3.9.16"
        }
    },
    "nbformat": 4,
    "nbformat_minor": 5
}
