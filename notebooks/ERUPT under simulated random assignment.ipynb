{
 "cells": [
  {
   "attachments": {},
   "cell_type": "markdown",
   "id": "a34f30c6",
   "metadata": {
    "pycharm": {
     "name": "#%% md\n"
    }
   },
   "source": [
    "# ERUPT under simulated random assignment"
   ]
  },
  {
   "cell_type": "code",
   "execution_count": 1,
   "id": "c37a7a94",
   "metadata": {},
   "outputs": [
    {
     "name": "stderr",
     "output_type": "stream",
     "text": [
      "OMP: Info #276: omp_set_nested routine deprecated, please use omp_set_max_active_levels instead.\n"
     ]
    }
   ],
   "source": [
    "%load_ext autoreload\n",
    "%autoreload 2\n",
    "import os, sys\n",
    "import warnings\n",
    "warnings.filterwarnings('ignore') # suppress sklearn deprecation warnings for now..\n",
    "\n",
    "import pandas as pd\n",
    "import numpy as np\n",
    "from sklearn.model_selection import train_test_split\n",
    "\n",
    "# the below checks for whether we run dowhy, causaltune, and FLAML from source\n",
    "root_path = root_path = os.path.realpath('../..')\n",
    "try:\n",
    "    import causaltune\n",
    "except ModuleNotFoundError:\n",
    "    sys.path.append(os.path.join(root_path, \"causaltune\"))\n",
    "\n",
    "try:\n",
    "    import dowhy\n",
    "except ModuleNotFoundError:\n",
    "    sys.path.append(os.path.join(root_path, \"dowhy\"))\n",
    "\n",
    "try:\n",
    "    import flaml\n",
    "except ModuleNotFoundError:\n",
    "    sys.path.append(os.path.join(root_path, \"FLAML\"))\n",
    "\n",
    "from causaltune import CausalTune\n",
    "from causaltune.datasets import generate_non_random_dataset\n",
    "from causaltune.erupt import DummyPropensity, ERUPT\n"
   ]
  },
  {
   "cell_type": "code",
   "execution_count": 2,
   "id": "53241021",
   "metadata": {
    "pycharm": {
     "name": "#%%\n"
    }
   },
   "outputs": [
    {
     "data": {
      "text/html": [
       "<style>.container { width:100% !important; }</style>"
      ],
      "text/plain": [
       "<IPython.core.display.HTML object>"
      ]
     },
     "metadata": {},
     "output_type": "display_data"
    }
   ],
   "source": [
    "# this makes the notebook expand to full width of the browser window\n",
    "from IPython.core.display import display, HTML\n",
    "display(HTML(\"<style>.container { width:100% !important; }</style>\"))"
   ]
  },
  {
   "cell_type": "code",
   "execution_count": 3,
   "id": "5ed9b5f7",
   "metadata": {
    "pycharm": {
     "name": "#%%\n"
    }
   },
   "outputs": [
    {
     "data": {
      "application/javascript": [
       "\n",
       "// turn off scrollable windows for large output\n",
       "IPython.OutputArea.prototype._should_scroll = function(lines) {\n",
       "    return false;\n",
       "}\n"
      ],
      "text/plain": [
       "<IPython.core.display.Javascript object>"
      ]
     },
     "metadata": {},
     "output_type": "display_data"
    }
   ],
   "source": [
    "%%javascript\n",
    "\n",
    "// turn off scrollable windows for large output\n",
    "IPython.OutputArea.prototype._should_scroll = function(lines) {\n",
    "    return false;\n",
    "}"
   ]
  },
  {
   "attachments": {},
   "cell_type": "markdown",
   "id": "af5333b0",
   "metadata": {},
   "source": [
    "## Loading data and model training"
   ]
  },
  {
   "cell_type": "code",
   "execution_count": 4,
   "id": "a0211b9a",
   "metadata": {},
   "outputs": [],
   "source": [
    "# load toy dataset with non-random assignment and apply standard pre-processing\n",
    "cd = generate_non_random_dataset()\n",
    "cd.preprocess_dataset()"
   ]
  },
  {
   "cell_type": "code",
   "execution_count": 5,
   "id": "6cec1abf",
   "metadata": {},
   "outputs": [
    {
     "data": {
      "text/html": [
       "<div>\n",
       "<style scoped>\n",
       "    .dataframe tbody tr th:only-of-type {\n",
       "        vertical-align: middle;\n",
       "    }\n",
       "\n",
       "    .dataframe tbody tr th {\n",
       "        vertical-align: top;\n",
       "    }\n",
       "\n",
       "    .dataframe thead th {\n",
       "        text-align: right;\n",
       "    }\n",
       "</style>\n",
       "<table border=\"1\" class=\"dataframe\">\n",
       "  <thead>\n",
       "    <tr style=\"text-align: right;\">\n",
       "      <th></th>\n",
       "      <th>T</th>\n",
       "      <th>Y</th>\n",
       "      <th>random</th>\n",
       "      <th>X1</th>\n",
       "      <th>X2</th>\n",
       "      <th>X3</th>\n",
       "      <th>X4</th>\n",
       "      <th>X5</th>\n",
       "      <th>propensity</th>\n",
       "    </tr>\n",
       "  </thead>\n",
       "  <tbody>\n",
       "    <tr>\n",
       "      <th>0</th>\n",
       "      <td>0</td>\n",
       "      <td>1.239308</td>\n",
       "      <td>1.0</td>\n",
       "      <td>-0.847134</td>\n",
       "      <td>-0.398563</td>\n",
       "      <td>0.176539</td>\n",
       "      <td>0.957360</td>\n",
       "      <td>1.122457</td>\n",
       "      <td>0.328241</td>\n",
       "    </tr>\n",
       "    <tr>\n",
       "      <th>1</th>\n",
       "      <td>0</td>\n",
       "      <td>0.108442</td>\n",
       "      <td>0.0</td>\n",
       "      <td>-0.583898</td>\n",
       "      <td>-0.899265</td>\n",
       "      <td>1.177333</td>\n",
       "      <td>-0.563962</td>\n",
       "      <td>-0.614737</td>\n",
       "      <td>0.195308</td>\n",
       "    </tr>\n",
       "    <tr>\n",
       "      <th>2</th>\n",
       "      <td>1</td>\n",
       "      <td>-0.897310</td>\n",
       "      <td>0.0</td>\n",
       "      <td>-2.237590</td>\n",
       "      <td>0.061438</td>\n",
       "      <td>-0.462519</td>\n",
       "      <td>0.777278</td>\n",
       "      <td>-1.379022</td>\n",
       "      <td>0.345805</td>\n",
       "    </tr>\n",
       "    <tr>\n",
       "      <th>3</th>\n",
       "      <td>1</td>\n",
       "      <td>0.757475</td>\n",
       "      <td>1.0</td>\n",
       "      <td>-0.047319</td>\n",
       "      <td>0.354603</td>\n",
       "      <td>-1.976429</td>\n",
       "      <td>0.081945</td>\n",
       "      <td>0.424041</td>\n",
       "      <td>0.695707</td>\n",
       "    </tr>\n",
       "    <tr>\n",
       "      <th>4</th>\n",
       "      <td>0</td>\n",
       "      <td>0.853478</td>\n",
       "      <td>1.0</td>\n",
       "      <td>-0.256832</td>\n",
       "      <td>0.048748</td>\n",
       "      <td>1.536085</td>\n",
       "      <td>-1.027415</td>\n",
       "      <td>0.689733</td>\n",
       "      <td>0.304767</td>\n",
       "    </tr>\n",
       "  </tbody>\n",
       "</table>\n",
       "</div>"
      ],
      "text/plain": [
       "   T         Y  random        X1        X2        X3        X4        X5  \\\n",
       "0  0  1.239308     1.0 -0.847134 -0.398563  0.176539  0.957360  1.122457   \n",
       "1  0  0.108442     0.0 -0.583898 -0.899265  1.177333 -0.563962 -0.614737   \n",
       "2  1 -0.897310     0.0 -2.237590  0.061438 -0.462519  0.777278 -1.379022   \n",
       "3  1  0.757475     1.0 -0.047319  0.354603 -1.976429  0.081945  0.424041   \n",
       "4  0  0.853478     1.0 -0.256832  0.048748  1.536085 -1.027415  0.689733   \n",
       "\n",
       "   propensity  \n",
       "0    0.328241  \n",
       "1    0.195308  \n",
       "2    0.345805  \n",
       "3    0.695707  \n",
       "4    0.304767  "
      ]
     },
     "metadata": {},
     "output_type": "display_data"
    }
   ],
   "source": [
    "display(cd.data.head())"
   ]
  },
  {
   "cell_type": "code",
   "execution_count": 6,
   "id": "4b5d0795",
   "metadata": {},
   "outputs": [],
   "source": [
    "# training configs\n",
    "\n",
    "# set evaluation metric\n",
    "metric = \"energy_distance\"\n",
    "\n",
    "# it's best to specify either time_budget or components_time_budget, \n",
    "# and let the other one be inferred; time in seconds\n",
    "time_budget = None\n",
    "components_time_budget = 10\n",
    "\n",
    "# specify training set size\n",
    "train_size = 0.7"
   ]
  },
  {
   "cell_type": "markdown",
   "id": "33681e65-6dd4-4c7d-a62d-925572b39e81",
   "metadata": {},
   "source": [
    "Now if outcome_model=\"auto\" in the CausalTune constructor, we search over a simultaneous search space for the EconML estimators and for FLAML wrappers for common regressors. The old behavior is now achieved by outcome_model=\"nested\" (the default for now)"
   ]
  },
  {
   "cell_type": "code",
   "execution_count": 12,
   "id": "a51c87f4",
   "metadata": {},
   "outputs": [],
   "source": [
    "ct = CausalTune(\n",
    "    estimator_list=[\"CausalForestDML\", \"XLearner\"],\n",
    "    metric=metric,\n",
    "    verbose=0,\n",
    "    components_verbose=0,\n",
    "    time_budget=time_budget,\n",
    "    components_time_budget=components_time_budget,\n",
    "    train_size=train_size,\n",
    "    outcome_model=\"auto\"\n",
    ")\n",
    "\n",
    "\n",
    "# run causaltune\n",
    "ct.fit(data=cd, outcome=cd.outcomes[0])\n",
    "\n",
    "print('---------------------')\n",
    "# return best estimator\n",
    "print(f\"Best estimator: {ct.best_estimator}\")\n",
    "# config of best estimator:\n",
    "print(f\"Best config: {ct.best_config}\")\n",
    "# best score:\n",
    "print(f\"Best score: {ct.best_score}\")"
   ]
  },
  {
   "attachments": {},
   "cell_type": "markdown",
   "id": "19bcfc2e",
   "metadata": {},
   "source": [
    "## Random ERUPT"
   ]
  },
  {
   "attachments": {},
   "cell_type": "markdown",
   "id": "2bea4e38",
   "metadata": {},
   "source": [
    "Below we demonstrate how to use Estimated Response Under Proposed Treatment (ERUPT) to estimate the average treatment effect had the treatment been assigned randomly. Recall that the dataset used in this example is constructed in a way that the treatment propensity is a function of a unit's covariates."
   ]
  },
  {
   "cell_type": "code",
   "execution_count": 8,
   "id": "db1b69a3",
   "metadata": {},
   "outputs": [],
   "source": [
    "use_df = ct.test_df"
   ]
  },
  {
   "cell_type": "code",
   "execution_count": 9,
   "id": "e8afee5a",
   "metadata": {},
   "outputs": [],
   "source": [
    "# computing mean ERUPT over 10 bootstrapped samples\n",
    "\n",
    "scores_list = []\n",
    "\n",
    "for i in range(10):\n",
    "\n",
    "    bootstrap_df = use_df.sample(frac=1, replace=True)\n",
    "    propensities = bootstrap_df['propensity']\n",
    "    actual_treatment = bootstrap_df['T']\n",
    "    outcome = bootstrap_df['Y']\n",
    "\n",
    "    # define the random assignment policy\n",
    "    random_policy = np.random.randint(0,2, size=len(bootstrap_df))\n",
    "\n",
    "    # define a propensity model that will simply return the propensities when calling predict_proba\n",
    "    propensity_model = DummyPropensity(p=propensities, treatment=actual_treatment)\n",
    "\n",
    "    # obtain ERUPT under random policy\n",
    "    e = ERUPT(treatment_name='T', propensity_model=propensity_model)\n",
    "    scores_list.append(e.score(df=use_df,outcome=outcome,policy=random_policy))\n",
    "\n",
    "erupt_mean = np.mean(scores_list)\n",
    "erupt_sd = np.std(scores_list)"
   ]
  },
  {
   "cell_type": "code",
   "execution_count": 10,
   "id": "438112f2",
   "metadata": {},
   "outputs": [],
   "source": [
    "# compute naive ate as difference in means\n",
    "naive_ate, naive_sd, _ = ct.scorer.naive_ate(ct.test_df['T'], ct.test_df['Y'])"
   ]
  },
  {
   "cell_type": "code",
   "execution_count": 11,
   "id": "a0f6d079",
   "metadata": {},
   "outputs": [
    {
     "data": {
      "text/html": [
       "<div>\n",
       "<style scoped>\n",
       "    .dataframe tbody tr th:only-of-type {\n",
       "        vertical-align: middle;\n",
       "    }\n",
       "\n",
       "    .dataframe tbody tr th {\n",
       "        vertical-align: top;\n",
       "    }\n",
       "\n",
       "    .dataframe thead th {\n",
       "        text-align: right;\n",
       "    }\n",
       "</style>\n",
       "<table border=\"1\" class=\"dataframe\">\n",
       "  <thead>\n",
       "    <tr style=\"text-align: right;\">\n",
       "      <th></th>\n",
       "      <th>estimated_effect</th>\n",
       "      <th>sd</th>\n",
       "    </tr>\n",
       "  </thead>\n",
       "  <tbody>\n",
       "    <tr>\n",
       "      <th>naive_ate</th>\n",
       "      <td>0.218151</td>\n",
       "      <td>0.124848</td>\n",
       "    </tr>\n",
       "    <tr>\n",
       "      <th>random_erupt</th>\n",
       "      <td>0.023141</td>\n",
       "      <td>0.216845</td>\n",
       "    </tr>\n",
       "  </tbody>\n",
       "</table>\n",
       "</div>"
      ],
      "text/plain": [
       "              estimated_effect        sd\n",
       "naive_ate             0.218151  0.124848\n",
       "random_erupt          0.023141  0.216845"
      ]
     },
     "metadata": {},
     "output_type": "display_data"
    }
   ],
   "source": [
    "# comparison of naive ate to mean random erupt over 10 bootstrap runs\n",
    "erupt_df = pd.DataFrame([[naive_ate,naive_sd],[erupt_mean,erupt_sd]], columns=['estimated_effect', 'sd'], index=['naive_ate','random_erupt'])\n",
    "display(erupt_df)"
   ]
  },
  {
   "attachments": {},
   "cell_type": "markdown",
   "id": "a54530bf",
   "metadata": {},
   "source": [
    "For more details on the ERUPT implementation, consult [Hitsch and Misra (2018)](https://papers.ssrn.com/sol3/papers.cfm?abstract_id=3111957). Note also that we assume that treatment takes integer values from 0 to n."
   ]
  }
 ],
 "metadata": {
  "kernelspec": {
   "display_name": "Python 3 (ipykernel)",
   "language": "python",
   "name": "python3"
  },
  "language_info": {
   "codemirror_mode": {
    "name": "ipython",
    "version": 3
   },
   "file_extension": ".py",
   "mimetype": "text/x-python",
   "name": "python",
   "nbconvert_exporter": "python",
   "pygments_lexer": "ipython3",
   "version": "3.10.14"
  }
 },
 "nbformat": 4,
 "nbformat_minor": 5
}
