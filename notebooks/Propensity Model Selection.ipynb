{
    "cells": [
        {
            "attachments": {},
            "cell_type": "markdown",
            "metadata": {},
            "source": [
                "## Propensity Score Weighting in causaltune \n"
            ]
        },
        {
            "cell_type": "code",
            "execution_count": 10,
            "metadata": {},
            "outputs": [
                {
                    "name": "stdout",
                    "output_type": "stream",
                    "text": [
                        "The autoreload extension is already loaded. To reload it, use:\n",
                        "  %reload_ext autoreload\n"
                    ]
                }
            ],
            "source": [
                "import os\n",
                "import sys\n",
                "import pandas as pd\n",
                "import numpy as np\n",
                "import warnings\n",
                "\n",
                "from scipy.stats import betabinom\n",
                "\n",
                "from sklearn.ensemble import RandomForestClassifier\n",
                "\n",
                "root_path = root_path = os.path.realpath('../..')\n",
                "try:\n",
                "    import causaltune\n",
                "except ModuleNotFoundError:\n",
                "    sys.path.append(os.path.join(root_path, \"auto-causality\"))\n",
                "\n",
                "from causaltune import CausalTune\n",
                "from causaltune.data_utils import CausalityDataset\n",
                "from causaltune.datasets import generate_non_random_dataset\n",
                "\n",
                "warnings.filterwarnings(\"ignore\")\n",
                "\n",
                "%load_ext autoreload\n",
                "%autoreload 2"
            ]
        },
        {
            "attachments": {},
            "cell_type": "markdown",
            "metadata": {},
            "source": [
                "\n",
                "Causaltune effect estimation consists of multiple models that can / need to be fitted.\n",
                "\n",
                "1. Propensity model to estimate treatment propensities from features $\\mathbb{E}[T|X,W]$.\n",
                "2. Outcome model to estimate outcomes from features $\\mathbb{E}[Y|X,W]$\n",
                "3. The final causal inference estimator which requires additional hyperparamter tuning.\n",
                "\n",
                "In this notebook, we focu on the Propensity Score Weighting (1.).\n",
                "\n",
                "There are four options to finding a propensity model.\n",
                "\n",
                "1. **[Default:] use a dummy estimator.**\n",
                "   - natural option for a computationally easy model / when perfect randomisation of the treatment is given \n",
                "\n",
                "\n",
                "2. **Letting AutoML fit the propoensity model,**\n",
                "   - has all the advantages of using an elaborate propensity weighting model  \n",
                "\n",
                "\n",
                "3. **supply a custom sklearn-compatible prediction model,**\n",
                "   - for more flexibility in terms of propensity prediction model\n",
                "\n",
                "\n",
                "4. **supply an array of custom propensities to treat.** \n",
                "   - can be used, e.g. with custom propensities to treat based on an optimisation procedure such as Thompson sampling when there is an expected benefit from treating some subjects with higher propensity than others"
            ]
        },
        {
            "attachments": {},
            "cell_type": "markdown",
            "metadata": {},
            "source": [
                "### Generate Data"
            ]
        },
        {
            "cell_type": "code",
            "execution_count": 36,
            "metadata": {},
            "outputs": [],
            "source": [
                "cd = generate_non_random_dataset()\n",
                "cd.preprocess_dataset()"
            ]
        },
        {
            "cell_type": "code",
            "execution_count": 38,
            "metadata": {},
            "outputs": [],
            "source": [
                "# causaltune configuration\n",
                "components_time_budget = 30\n",
                "train_size = 0.7\n",
                "\n",
                "target = cd.outcomes[0]"
            ]
        },
        {
            "attachments": {},
            "cell_type": "markdown",
            "metadata": {},
            "source": [
                "### 1. DEFAULT: Dummy propensity model\n",
                "\n",
                "\n",
                "The dummy propensity model identifies a constant propensity to treat given by $\\frac{\\text{Treatment Group Size}}{\\text{Total Sample Size}}  $."
            ]
        },
        {
            "cell_type": "code",
            "execution_count": 39,
            "metadata": {},
            "outputs": [
                {
                    "name": "stdout",
                    "output_type": "stream",
                    "text": [
                        "Fitting a Propensity-Weighted scoring estimator to be used in scoring tasks\n",
                        "Initial configs: [{'estimator': {'estimator_name': 'backdoor.causaltune.models.NaiveDummy'}}, {'estimator': {'estimator_name': 'backdoor.causaltune.models.Dummy'}}, {'estimator': {'estimator_name': 'backdoor.econml.metalearners.SLearner'}}, {'estimator': {'estimator_name': 'backdoor.econml.metalearners.DomainAdaptationLearner'}}, {'estimator': {'estimator_name': 'backdoor.econml.dr.ForestDRLearner', 'min_propensity': 1e-06, 'n_estimators': 100, 'min_samples_split': 5, 'min_samples_leaf': 5, 'min_weight_fraction_leaf': 0.0, 'max_features': 'auto', 'min_impurity_decrease': 0.0, 'max_samples': 0.45, 'min_balancedness_tol': 0.45, 'honest': True, 'subforest_size': 4}}, {'estimator': {'estimator_name': 'backdoor.econml.dml.CausalForestDML', 'drate': True, 'n_estimators': 100, 'criterion': 'mse', 'min_samples_split': 10, 'min_samples_leaf': 5, 'min_weight_fraction_leaf': 0.0, 'max_features': 'auto', 'min_impurity_decrease': 0.0, 'max_samples': 0.45, 'min_balancedness_tol': 0.45, 'honest': True, 'fit_intercept': True, 'subforest_size': 4}}, {'estimator': {'estimator_name': 'backdoor.causaltune.models.TransformedOutcome'}}]\n"
                    ]
                }
            ],
            "source": [
                "ct = CausalTune(\n",
                "    propensity_model='dummy',\n",
                "    components_time_budget=components_time_budget,\n",
                "    metric=\"energy_distance\",\n",
                "    train_size=train_size,\n",
                "    verbose=0\n",
                ")   \n",
                "ct.fit(data=cd, outcome=target)"
            ]
        },
        {
            "cell_type": "code",
            "execution_count": 26,
            "metadata": {},
            "outputs": [
                {
                    "name": "stdout",
                    "output_type": "stream",
                    "text": [
                        "Propensity model: DummyClassifier()\n"
                    ]
                }
            ],
            "source": [
                "print(f'Propensity model: {ct.propensity_model}')"
            ]
        },
        {
            "attachments": {},
            "cell_type": "markdown",
            "metadata": {},
            "source": [
                "Difference in means estimate (naive ATE):"
            ]
        },
        {
            "cell_type": "code",
            "execution_count": 29,
            "metadata": {},
            "outputs": [
                {
                    "name": "stdout",
                    "output_type": "stream",
                    "text": [
                        "0.41014\n"
                    ]
                }
            ],
            "source": [
                "print(f'{ct.scorer.naive_ate(cd.data[cd.treatment], cd.data[target])[0]:.5f}')"
            ]
        },
        {
            "attachments": {},
            "cell_type": "markdown",
            "metadata": {},
            "source": [
                "Causaltune ATE estimate:"
            ]
        },
        {
            "cell_type": "code",
            "execution_count": 31,
            "metadata": {},
            "outputs": [
                {
                    "name": "stdout",
                    "output_type": "stream",
                    "text": [
                        "0.38910\n"
                    ]
                }
            ],
            "source": [
                "print(f'{ct.effect(ct.test_df).mean():.5f}')"
            ]
        },
        {
            "attachments": {},
            "cell_type": "markdown",
            "metadata": {},
            "source": [
                "### 2. Propensity model estimation via AutoML\n",
                "\n",
                "The propensity score weighting estimation via AutoML is as simple as selecting `propensity_model='auto'`. \n",
                "\n",
                "The computational intensity can then be adapted via supplying a `components_budget_time`.\n"
            ]
        },
        {
            "cell_type": "code",
            "execution_count": 32,
            "metadata": {},
            "outputs": [
                {
                    "name": "stdout",
                    "output_type": "stream",
                    "text": [
                        "Fitting a Propensity-Weighted scoring estimator to be used in scoring tasks\n",
                        "Initial configs: [{'estimator': {'estimator_name': 'backdoor.causaltune.models.NaiveDummy'}}, {'estimator': {'estimator_name': 'backdoor.causaltune.models.Dummy'}}, {'estimator': {'estimator_name': 'backdoor.econml.metalearners.SLearner'}}, {'estimator': {'estimator_name': 'backdoor.econml.metalearners.DomainAdaptationLearner'}}, {'estimator': {'estimator_name': 'backdoor.econml.dr.ForestDRLearner', 'min_propensity': 1e-06, 'n_estimators': 100, 'min_samples_split': 5, 'min_samples_leaf': 5, 'min_weight_fraction_leaf': 0.0, 'max_features': 'auto', 'min_impurity_decrease': 0.0, 'max_samples': 0.45, 'min_balancedness_tol': 0.45, 'honest': True, 'subforest_size': 4}}, {'estimator': {'estimator_name': 'backdoor.econml.dml.CausalForestDML', 'drate': True, 'n_estimators': 100, 'criterion': 'mse', 'min_samples_split': 10, 'min_samples_leaf': 5, 'min_weight_fraction_leaf': 0.0, 'max_features': 'auto', 'min_impurity_decrease': 0.0, 'max_samples': 0.45, 'min_balancedness_tol': 0.45, 'honest': True, 'fit_intercept': True, 'subforest_size': 4}}, {'estimator': {'estimator_name': 'backdoor.causaltune.models.TransformedOutcome'}}]\n"
                    ]
                }
            ],
            "source": [
                "ct = CausalTune(\n",
                "    propensity_model='auto',\n",
                "    components_time_budget=components_time_budget,\n",
                "    metric=\"energy_distance\",\n",
                "    train_size=train_size,\n",
                "    verbose=0\n",
                ")   \n",
                "ct.fit(data=cd, outcome=target)"
            ]
        },
        {
            "cell_type": "code",
            "execution_count": 33,
            "metadata": {},
            "outputs": [
                {
                    "name": "stdout",
                    "output_type": "stream",
                    "text": [
                        "Estimated ATE: 0.51501\n"
                    ]
                }
            ],
            "source": [
                "print(f'Estimated ATE: {ct.effect(ct.test_df).mean():.5f}')"
            ]
        },
        {
            "attachments": {},
            "cell_type": "markdown",
            "metadata": {},
            "source": [
                "### 3. Propensity model estimation with a custom model\n",
                "\n",
                "A custom propensity model that has an sklearn-style `fit` and `predict_proba` method can be supplied as a propensity model."
            ]
        },
        {
            "cell_type": "code",
            "execution_count": 34,
            "metadata": {},
            "outputs": [
                {
                    "name": "stdout",
                    "output_type": "stream",
                    "text": [
                        "Fitting a Propensity-Weighted scoring estimator to be used in scoring tasks\n",
                        "Initial configs: [{'estimator': {'estimator_name': 'backdoor.causaltune.models.NaiveDummy'}}, {'estimator': {'estimator_name': 'backdoor.causaltune.models.Dummy'}}, {'estimator': {'estimator_name': 'backdoor.econml.metalearners.SLearner'}}, {'estimator': {'estimator_name': 'backdoor.econml.metalearners.DomainAdaptationLearner'}}, {'estimator': {'estimator_name': 'backdoor.econml.dr.ForestDRLearner', 'min_propensity': 1e-06, 'n_estimators': 100, 'min_samples_split': 5, 'min_samples_leaf': 5, 'min_weight_fraction_leaf': 0.0, 'max_features': 'auto', 'min_impurity_decrease': 0.0, 'max_samples': 0.45, 'min_balancedness_tol': 0.45, 'honest': True, 'subforest_size': 4}}, {'estimator': {'estimator_name': 'backdoor.econml.dml.CausalForestDML', 'drate': True, 'n_estimators': 100, 'criterion': 'mse', 'min_samples_split': 10, 'min_samples_leaf': 5, 'min_weight_fraction_leaf': 0.0, 'max_features': 'auto', 'min_impurity_decrease': 0.0, 'max_samples': 0.45, 'min_balancedness_tol': 0.45, 'honest': True, 'fit_intercept': True, 'subforest_size': 4}}, {'estimator': {'estimator_name': 'backdoor.causaltune.models.TransformedOutcome'}}]\n"
                    ]
                }
            ],
            "source": [
                "propensity_model = RandomForestClassifier()\n",
                "\n",
                "ct = CausalTune(\n",
                "    propensity_model=propensity_model,\n",
                "    components_time_budget=components_time_budget,\n",
                "    metric=\"energy_distance\",\n",
                "    train_size=train_size,\n",
                ")   \n",
                "ct.fit(data=cd, outcome=target)"
            ]
        },
        {
            "attachments": {},
            "cell_type": "markdown",
            "metadata": {},
            "source": [
                "### 4. Supplying individual treatment propensities\n",
                "\n",
                "In some settings such as uplift modelling, the experiment / study is based on heterogeneous treatment propensities known to the researcher / experimenter. An array of treatment propensities can be directly supplied to causaltune in the data instantiation of the `CausalityDataset`. This can, e.g. be done by \n",
                "```\n",
                "cd = CausalityDataset(\n",
                "    ...\n",
                "    propensity_modifiers=[<individual_treatment_propensity_column_name>]\n",
                "    ...\n",
                ")\n",
                "```\n",
                "and then using the `passthrough_model` as follows"
            ]
        },
        {
            "cell_type": "code",
            "execution_count": 35,
            "metadata": {},
            "outputs": [
                {
                    "name": "stdout",
                    "output_type": "stream",
                    "text": [
                        "   T         Y  random        X1        X2        X3        X4        X5  \\\n",
                        "0  1 -1.069278     0.0 -0.010210  0.694765  0.035349  0.353874  0.243489   \n",
                        "1  1 -0.076461     1.0 -0.383145 -0.012346  0.058882 -1.568806  0.213350   \n",
                        "2  0 -0.129938     0.0  1.164562  0.153863  0.608709 -0.608641  1.325249   \n",
                        "3  1  0.409181     1.0  2.742698  0.193850  1.758363 -1.909881 -0.560650   \n",
                        "4  0  0.746339     0.0  0.278876 -1.229170 -0.933592  0.229196  1.641256   \n",
                        "\n",
                        "   propensity  \n",
                        "0    0.642568  \n",
                        "1    0.364888  \n",
                        "2    0.566726  \n",
                        "3    0.662177  \n",
                        "4    0.335791  \n",
                        "True propensities to treat: ['propensity']\n",
                        "Fitting a Propensity-Weighted scoring estimator to be used in scoring tasks\n",
                        "Initial configs: [{'estimator': {'estimator_name': 'backdoor.causaltune.models.NaiveDummy'}}, {'estimator': {'estimator_name': 'backdoor.causaltune.models.Dummy'}}, {'estimator': {'estimator_name': 'backdoor.econml.metalearners.SLearner'}}, {'estimator': {'estimator_name': 'backdoor.econml.metalearners.DomainAdaptationLearner'}}, {'estimator': {'estimator_name': 'backdoor.econml.dr.ForestDRLearner', 'min_propensity': 1e-06, 'n_estimators': 100, 'min_samples_split': 5, 'min_samples_leaf': 5, 'min_weight_fraction_leaf': 0.0, 'max_features': 'auto', 'min_impurity_decrease': 0.0, 'max_samples': 0.45, 'min_balancedness_tol': 0.45, 'honest': True, 'subforest_size': 4}}, {'estimator': {'estimator_name': 'backdoor.econml.dml.CausalForestDML', 'drate': True, 'n_estimators': 100, 'criterion': 'mse', 'min_samples_split': 10, 'min_samples_leaf': 5, 'min_weight_fraction_leaf': 0.0, 'max_features': 'auto', 'min_impurity_decrease': 0.0, 'max_samples': 0.45, 'min_balancedness_tol': 0.45, 'honest': True, 'fit_intercept': True, 'subforest_size': 4}}, {'estimator': {'estimator_name': 'backdoor.causaltune.models.TransformedOutcome'}}]\n"
                    ]
                }
            ],
            "source": [
                "from causaltune.models.passthrough import passthrough_model\n",
                "\n",
                "print(cd.data.head())\n",
                "print(f'True propensities to treat: {cd.propensity_modifiers}')\n",
                "\n",
                "propensity_model=passthrough_model(\n",
                "    cd.propensity_modifiers, include_control=False\n",
                "    )\n",
                "\n",
                "ct = CausalTune(\n",
                "    propensity_model=propensity_model,\n",
                "    components_time_budget=components_time_budget,\n",
                "    metric=\"energy_distance\",\n",
                "    train_size=train_size,\n",
                "    verbose=0\n",
                ")   \n",
                "ct.fit(data=cd, outcome=target)"
            ]
        },
        {
            "attachments": {},
            "cell_type": "markdown",
            "metadata": {},
            "source": []
        },
        {
            "attachments": {},
            "cell_type": "markdown",
            "metadata": {},
            "source": []
        }
    ],
    "metadata": {
        "kernelspec": {
            "display_name": "causality",
            "language": "python",
            "name": "python3"
        },
        "language_info": {
            "codemirror_mode": {
                "name": "ipython",
                "version": 3
            },
            "file_extension": ".py",
            "mimetype": "text/x-python",
            "name": "python",
            "nbconvert_exporter": "python",
            "pygments_lexer": "ipython3",
            "version": "3.9.16"
        },
        "orig_nbformat": 4
    },
    "nbformat": 4,
    "nbformat_minor": 2
}
